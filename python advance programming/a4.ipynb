{
 "cells": [
  {
   "cell_type": "code",
   "execution_count": 14,
   "metadata": {},
   "outputs": [
    {
     "data": {
      "text/plain": [
       "55"
      ]
     },
     "execution_count": 14,
     "metadata": {},
     "output_type": "execute_result"
    }
   ],
   "source": [
    "#1\n",
    "def fib_fast(num):\n",
    "    if(num==0):\n",
    "        return 0\n",
    "    if(num==1):\n",
    "        return 1\n",
    "    else:\n",
    "        return fib_fast(num-1)+fib_fast(num-2)\n",
    "fib_fast(10)"
   ]
  },
  {
   "cell_type": "code",
   "execution_count": 33,
   "metadata": {},
   "outputs": [
    {
     "data": {
      "text/plain": [
       "'68 65 6c 6c 6f 20 77 6f 72 6c 64'"
      ]
     },
     "execution_count": 33,
     "metadata": {},
     "output_type": "execute_result"
    }
   ],
   "source": [
    "#2\n",
    "import codecs\n",
    "def convert_to_hex(s):\n",
    "    output=\"\"\n",
    "    for i in s:\n",
    "        output+=format(ord(i),\"x\")+\" \"\n",
    "    return output[:-1]\n",
    "convert_to_hex(\"hello world\")"
   ]
  },
  {
   "cell_type": "code",
   "execution_count": 36,
   "metadata": {},
   "outputs": [
    {
     "data": {
      "text/plain": [
       "'Where did'"
      ]
     },
     "execution_count": 36,
     "metadata": {},
     "output_type": "execute_result"
    }
   ],
   "source": [
    "#3\n",
    "def uncensor(s1,s2):\n",
    "    output=\"\"\n",
    "    for i in s1:\n",
    "        if(i==\"*\"):\n",
    "            output+=s2[0]\n",
    "            s2=s2[1:]\n",
    "        else:\n",
    "            output+=i\n",
    "    return output\n",
    "\n",
    "uncensor(\"Wh*r* d*d\",\"eei\")"
   ]
  },
  {
   "cell_type": "code",
   "execution_count": 39,
   "metadata": {},
   "outputs": [
    {
     "data": {
      "text/plain": [
       "'dns.google'"
      ]
     },
     "execution_count": 39,
     "metadata": {},
     "output_type": "execute_result"
    }
   ],
   "source": [
    "#4\n",
    "import socket\n",
    "def get_domain(ip):\n",
    "    output=socket.gethostbyaddr(ip)\n",
    "    return list(output)[0]\n",
    "get_domain(\"8.8.8.8\")"
   ]
  },
  {
   "cell_type": "code",
   "execution_count": 53,
   "metadata": {},
   "outputs": [
    {
     "data": {
      "text/plain": [
       "288"
      ]
     },
     "execution_count": 53,
     "metadata": {},
     "output_type": "execute_result"
    }
   ],
   "source": [
    "#5\n",
    "def fact(num):\n",
    "    result=1\n",
    "    if(num==0 or num==1):\n",
    "        return 1\n",
    "    else:\n",
    "        result=result*num*fact(num-1)\n",
    "    return result\n",
    "def fact_of_fact(num):\n",
    "    output=1\n",
    "    if(num==0 or num==1):\n",
    "        return 1\n",
    "    else:\n",
    "        for i in range(num,1,-1):\n",
    "            output=output*i*fact(i-1)\n",
    "    return output\n",
    "fact_of_fact(4)\n",
    "    "
   ]
  },
  {
   "cell_type": "code",
   "execution_count": null,
   "metadata": {},
   "outputs": [],
   "source": []
  }
 ],
 "metadata": {
  "kernelspec": {
   "display_name": "Python 3",
   "language": "python",
   "name": "python3"
  },
  "language_info": {
   "codemirror_mode": {
    "name": "ipython",
    "version": 3
   },
   "file_extension": ".py",
   "mimetype": "text/x-python",
   "name": "python",
   "nbconvert_exporter": "python",
   "pygments_lexer": "ipython3",
   "version": "3.8.5"
  }
 },
 "nbformat": 4,
 "nbformat_minor": 4
}
