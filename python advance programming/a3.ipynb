{
 "cells": [
  {
   "cell_type": "code",
   "execution_count": 5,
   "metadata": {},
   "outputs": [
    {
     "data": {
      "text/plain": [
       "-1"
      ]
     },
     "execution_count": 5,
     "metadata": {},
     "output_type": "execute_result"
    }
   ],
   "source": [
    "#1)\n",
    "def arithmetic_operation(s):\n",
    "    l=s.split(\" \")\n",
    "    if(l[1]==\"+\"):\n",
    "        add= int(l[0])+int(l[2])\n",
    "        return add\n",
    "    if(l[1]==\"*\"):\n",
    "        mul= int(l[0])*int(l[2])\n",
    "        return mul\n",
    "    if(l[1]==\"-\"):\n",
    "        sub= int(l[0])-int(l[2])\n",
    "        return sub\n",
    "    if(l[1]==\"//\"):\n",
    "        if(int(l[2])==0):\n",
    "            return -1\n",
    "        div= int(l[0])//int(l[2])\n",
    "        return div\n",
    "    \n",
    "arithmetic_operation(\"12 // 0\")\n",
    "    "
   ]
  },
  {
   "cell_type": "code",
   "execution_count": 37,
   "metadata": {},
   "outputs": [
    {
     "data": {
      "text/plain": [
       "47.08"
      ]
     },
     "execution_count": 37,
     "metadata": {},
     "output_type": "execute_result"
    }
   ],
   "source": [
    "#2)\n",
    "import math\n",
    "def perimeter(arr):\n",
    "    d1=math.sqrt(((arr[0][0]-arr[1][0])**2)+((arr[0][1]-arr[1][1])**2))\n",
    "    d2=math.sqrt(((arr[0][0]-arr[2][0])**2)+((arr[0][1]-arr[2][1])**2))\n",
    "    d3=math.sqrt(((arr[1][0]-arr[2][0])**2)+((arr[1][1]-arr[2][1])**2))\n",
    "    peri=(d1+d2+d3)\n",
    "    return round(peri,2)\n",
    "perimeter( [ [15, 7], [5, 22], [11, 1] ] )\n"
   ]
  },
  {
   "cell_type": "code",
   "execution_count": 24,
   "metadata": {},
   "outputs": [
    {
     "data": {
      "text/plain": [
       "2"
      ]
     },
     "execution_count": 24,
     "metadata": {},
     "output_type": "execute_result"
    }
   ],
   "source": [
    "#3)\n",
    "\n",
    "import numpy as np\n",
    "def tallest_skyscraper(arr):\n",
    "    ar=np.array(arr)\n",
    "    count=0\n",
    "    l=[]\n",
    "    shape=ar.shape\n",
    "    for j in range(0,shape[1]):\n",
    "        for i in range(0,shape[0]):\n",
    "            if(arr[i][j]==1):\n",
    "                count+=1\n",
    "        l.append(count)\n",
    "        count=0\n",
    "    return max(l)\n",
    "\n",
    "tallest_skyscraper([[0,1,0],[0,1,1],[1,0,0]])\n",
    "\n",
    "    "
   ]
  },
  {
   "cell_type": "code",
   "execution_count": 40,
   "metadata": {},
   "outputs": [
    {
     "data": {
      "text/plain": [
       "8200"
      ]
     },
     "execution_count": 40,
     "metadata": {},
     "output_type": "execute_result"
    }
   ],
   "source": [
    "#4)\n",
    "def bonus(days):\n",
    "    pay=0\n",
    "    if(days<=32):\n",
    "        return pay\n",
    "    else:\n",
    "        days=days-32\n",
    "        if(days<=8):\n",
    "            pay=pay+(days*325)\n",
    "            return pay\n",
    "        else:\n",
    "            pay=pay+(8*325)\n",
    "            days=days-8\n",
    "            if(days<=8):\n",
    "                pay=pay+(days*550)\n",
    "                return pay\n",
    "            else:\n",
    "                pay=pay+(8*550)\n",
    "                days=days-8\n",
    "                pay=pay+(days*600)\n",
    "                return pay\n",
    "            \n",
    "bonus(50)        "
   ]
  },
  {
   "cell_type": "code",
   "execution_count": 46,
   "metadata": {},
   "outputs": [
    {
     "data": {
      "text/plain": [
       "True"
      ]
     },
     "execution_count": 46,
     "metadata": {},
     "output_type": "execute_result"
    }
   ],
   "source": [
    "#5\n",
    "def is_disarium(num):\n",
    "    s=str(num)\n",
    "    result=0\n",
    "    for i in range(len(s)):\n",
    "        result=result+(int(s[i])**(i+1))\n",
    "    if(s==str(result)):\n",
    "        return True\n",
    "    else:\n",
    "        return False\n",
    "is_disarium(135)\n",
    "        \n",
    "        "
   ]
  },
  {
   "cell_type": "code",
   "execution_count": null,
   "metadata": {},
   "outputs": [],
   "source": []
  }
 ],
 "metadata": {
  "kernelspec": {
   "display_name": "Python 3",
   "language": "python",
   "name": "python3"
  },
  "language_info": {
   "codemirror_mode": {
    "name": "ipython",
    "version": 3
   },
   "file_extension": ".py",
   "mimetype": "text/x-python",
   "name": "python",
   "nbconvert_exporter": "python",
   "pygments_lexer": "ipython3",
   "version": "3.8.5"
  }
 },
 "nbformat": 4,
 "nbformat_minor": 4
}
