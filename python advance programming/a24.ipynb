{
 "cells": [
  {
   "cell_type": "code",
   "execution_count": 1,
   "metadata": {},
   "outputs": [
    {
     "name": "stdout",
     "output_type": "stream",
     "text": [
      "1\n",
      "1\n",
      "2\n",
      "1\n",
      "1\n"
     ]
    }
   ],
   "source": [
    "class NestedIterator(object):\n",
    "    def __init__(self, nestedList):\n",
    "        self.res = []\n",
    "        self.index = 0\n",
    "        self.getVal(nestedList)\n",
    "    def getVal(self,NestedList):\n",
    "        for item in NestedList:\n",
    "            if isinstance(item, int):\n",
    "                self.res.append(item)\n",
    "            else:\n",
    "                self.getVal(item)\n",
    "    def next(self):\n",
    "        self.index+=1\n",
    "        return self.res[self.index-1]\n",
    "    def hasNext(self):\n",
    "        if self.index == len(self.res):\n",
    "            return False\n",
    "        return True\n",
    "ob = NestedIterator([[1,1],2,[1,1]])\n",
    "while ob.hasNext():\n",
    "    print(ob.next())"
   ]
  },
  {
   "cell_type": "code",
   "execution_count": 8,
   "metadata": {},
   "outputs": [
    {
     "data": {
      "text/plain": [
       "'Draw'"
      ]
     },
     "execution_count": 8,
     "metadata": {},
     "output_type": "execute_result"
    }
   ],
   "source": [
    "#3\n",
    "import numpy as np\n",
    "\n",
    "def checkRows(board):\n",
    "    for row in board:\n",
    "        if len(set(row)) == 1:\n",
    "            return row[0]\n",
    "    return \"Draw\"\n",
    "\n",
    "def checkDiagonals(board):\n",
    "    if len(set([board[i][i] for i in range(len(board))])) == 1:\n",
    "        return board[0][0]\n",
    "    if len(set([board[i][len(board)-i-1] for i in range(len(board))])) == 1:\n",
    "        return board[0][len(board)-1]\n",
    "    return \"Draw\"\n",
    "\n",
    "def tic_tac_toe(board):\n",
    "    #transposition to check rows, then columns\n",
    "    for newBoard in [board, np.transpose(board)]:\n",
    "        result = checkRows(newBoard)\n",
    "        if result:\n",
    "            return result\n",
    "    return checkDiagonals(board)\n",
    "\n",
    "\n",
    "tic_tac_toe([\n",
    "[\"X\", \"X\", \"O\"],\n",
    "[\"O\", \"O\", \"X\"],\n",
    "[\"X\", \"X\", \"O\"]\n",
    "])"
   ]
  },
  {
   "cell_type": "code",
   "execution_count": 6,
   "metadata": {},
   "outputs": [
    {
     "data": {
      "text/plain": [
       "'PC Files: notvirus.exe, funnycat.gif'"
      ]
     },
     "execution_count": 6,
     "metadata": {},
     "output_type": "execute_result"
    }
   ],
   "source": [
    "#4\n",
    "def remove_virus(s):\n",
    "    output=\"\"\n",
    "    first_part=s[:10]\n",
    "    rest=s[10:]\n",
    "    l=rest.split(\",\")\n",
    "    for i in l:\n",
    "        part=i.split(\".\")\n",
    "        if(i in (\"dangerousvirus\",\"lethalmalware\",\"virus\")):\n",
    "            l.remove(i)\n",
    "    st=\"\"\n",
    "    for j in l:\n",
    "        st+=j\n",
    "        st+=\",\"\n",
    "    output=first_part+st\n",
    "    return output[:-1]\n",
    "remove_virus(\"PC Files: notvirus.exe, funnycat.gif\")\n"
   ]
  },
  {
   "cell_type": "code",
   "execution_count": 16,
   "metadata": {},
   "outputs": [
    {
     "data": {
      "text/plain": [
       "False"
      ]
     },
     "execution_count": 16,
     "metadata": {},
     "output_type": "execute_result"
    }
   ],
   "source": [
    "#5\n",
    "def will_hit(eqn,points):\n",
    "    x,y=points\n",
    "    l=eqn.split(\"=\")\n",
    "    new=l[1]\n",
    "    new=new.replace(\"y\",str(y))\n",
    "    x_ind=new.index(\"x\")\n",
    "    con_ind=x_ind-1\n",
    "    val=int(new[con_ind])*x\n",
    "    new=new.replace(new[con_ind:x_ind+1],str(val))\n",
    "    new=new.strip()\n",
    "    for i in new:\n",
    "        if(i==\"+\"):\n",
    "            plus_ind=new.index(\"+\")\n",
    "            left=new[:plus_ind].strip()\n",
    "            right=new[plus_ind+1:].strip()\n",
    "            output=int(left)+int(right)\n",
    "            if(output==y):\n",
    "                return True\n",
    "            else:\n",
    "                return False\n",
    "        if(i==\"-\"):\n",
    "            minus_ind=new.index(\"+\")\n",
    "            left=new[:minus_ind].strip()\n",
    "            right=new[minus_ind+1:].strip()\n",
    "            output=int(left)-int(right)\n",
    "            if(output==y):\n",
    "                return True\n",
    "            else:\n",
    "                return False\n",
    "will_hit(\"y = 2x + 6\", (3, 2))\n",
    "            \n",
    "    \n",
    "    \n",
    "    "
   ]
  },
  {
   "cell_type": "code",
   "execution_count": null,
   "metadata": {},
   "outputs": [],
   "source": []
  }
 ],
 "metadata": {
  "kernelspec": {
   "display_name": "Python 3",
   "language": "python",
   "name": "python3"
  },
  "language_info": {
   "codemirror_mode": {
    "name": "ipython",
    "version": 3
   },
   "file_extension": ".py",
   "mimetype": "text/x-python",
   "name": "python",
   "nbconvert_exporter": "python",
   "pygments_lexer": "ipython3",
   "version": "3.8.5"
  }
 },
 "nbformat": 4,
 "nbformat_minor": 4
}
