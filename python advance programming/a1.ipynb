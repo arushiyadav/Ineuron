{
 "cells": [
  {
   "cell_type": "code",
   "execution_count": 2,
   "metadata": {},
   "outputs": [
    {
     "data": {
      "text/plain": [
       "0"
      ]
     },
     "execution_count": 2,
     "metadata": {},
     "output_type": "execute_result"
    }
   ],
   "source": [
    "#1\n",
    "def check_score(list1):\n",
    "    total=0\n",
    "    for i in list1:\n",
    "        if(str(i)=='#'):\n",
    "            total+=5\n",
    "        if(str(i)=='O'):\n",
    "            total+=3\n",
    "        if(str(i)=='!'):\n",
    "            total+=-1\n",
    "        if(str(i)=='!!'):\n",
    "            total+=-3\n",
    "        if(str(i)=='!!!'):\n",
    "            total+=-5\n",
    "    return total\n",
    "check_score([\n",
    "[\"!!!\", \"O\", \"!\"],\n",
    "[\"X\", \"#\", \"!!!\"],\n",
    "[\"!!\", \"X\", \"O\"]\n",
    "])"
   ]
  },
  {
   "cell_type": "code",
   "execution_count": 3,
   "metadata": {},
   "outputs": [
    {
     "data": {
      "text/plain": [
       "120"
      ]
     },
     "execution_count": 3,
     "metadata": {},
     "output_type": "execute_result"
    }
   ],
   "source": [
    "#2\n",
    "def combinations(*args):\n",
    "    mul=1\n",
    "    for i in args:\n",
    "        mul*=i\n",
    "    return mul\n",
    "combinations(2,3,4,5)"
   ]
  },
  {
   "cell_type": "code",
   "execution_count": 9,
   "metadata": {},
   "outputs": [
    {
     "data": {
      "text/plain": [
       "'......-...--. --.-.-.--'"
      ]
     },
     "execution_count": 9,
     "metadata": {},
     "output_type": "execute_result"
    }
   ],
   "source": [
    "#3\n",
    "char_to_dots = {\n",
    "'A': '.-', 'B': '-...', 'C': '-.-.', 'D': '-..', 'E': '.', 'F': '..-.',\n",
    "'G': '--.', 'H': '....', 'I': '..', 'J': '.---', 'K': '-.-', 'L': '.-..',\n",
    "'M': '--', 'N': '-.', 'O': '---', 'P': '.--.', 'Q': '--.-', 'R': '.-.',\n",
    "'S': '...', 'T': '-', 'U': '..-', 'V': '...-', 'W': '.--', 'X': '-..-',\n",
    "'Y': '-.--', 'Z': '--..', ' ': ' ', '0': '-----',\n",
    "'1': '.----', '2': '..---', '3': '...--', '4': '....-', '5': '.....',\n",
    "'6': '-....', '7': '--...', '8': '---..', '9': '----.',\n",
    "'&': '.-...', \"'\": '.----.', '@': '.--.-.', ')': '-.--.-', '(': '-.--.',\n",
    "':': '---...', ',': '--..--', '=': '-...-', '!': '-.-.--', '.': '.-.-.-',\n",
    "'-': '-....-', '+': '.-.-.', '\"': '.-..-.', '?': '..--..', '/': '-..-.'\n",
    "}\n",
    "def encode_morse(s):\n",
    "    encoded=\"\"\n",
    "    for i in s:\n",
    "        encoded+=char_to_dots[i]\n",
    "    return encoded\n",
    "encode_morse(\"HELP ME!\")"
   ]
  },
  {
   "cell_type": "code",
   "execution_count": 14,
   "metadata": {},
   "outputs": [
    {
     "data": {
      "text/plain": [
       "False"
      ]
     },
     "execution_count": 14,
     "metadata": {},
     "output_type": "execute_result"
    }
   ],
   "source": [
    "#4\n",
    "def prime(num):\n",
    "    if(num==1):\n",
    "        return True\n",
    "    else:\n",
    "        for i in range(2,int(num//2)+1):\n",
    "            if(num%i==0):\n",
    "                return False\n",
    "            else:\n",
    "                return True\n",
    "prime(5151512515524)"
   ]
  },
  {
   "cell_type": "code",
   "execution_count": 25,
   "metadata": {},
   "outputs": [
    {
     "data": {
      "text/plain": [
       "[False, True, True, False]"
      ]
     },
     "execution_count": 25,
     "metadata": {},
     "output_type": "execute_result"
    }
   ],
   "source": [
    "#5\n",
    "dic={}\n",
    "counter=1\n",
    "for i in range(65,91):\n",
    "    dic[chr(i)]=counter\n",
    "    counter+=1\n",
    "def to_boolean_list(s):\n",
    "    to_binary=[]\n",
    "    to_boolean=[]\n",
    "    s=s.upper()\n",
    "    for i in s:\n",
    "        if(dic[i]%2==0):\n",
    "            to_binary.append(0)\n",
    "        else:\n",
    "            to_binary.append(1)\n",
    "    for binary in to_binary:\n",
    "        if(binary==1):\n",
    "            to_boolean.append(True)\n",
    "        else:\n",
    "            to_boolean.append(False)\n",
    "    return to_boolean\n",
    "to_boolean_list(\"deep\")\n"
   ]
  },
  {
   "cell_type": "code",
   "execution_count": null,
   "metadata": {},
   "outputs": [],
   "source": []
  }
 ],
 "metadata": {
  "kernelspec": {
   "display_name": "Python 3",
   "language": "python",
   "name": "python3"
  },
  "language_info": {
   "codemirror_mode": {
    "name": "ipython",
    "version": 3
   },
   "file_extension": ".py",
   "mimetype": "text/x-python",
   "name": "python",
   "nbconvert_exporter": "python",
   "pygments_lexer": "ipython3",
   "version": "3.8.5"
  }
 },
 "nbformat": 4,
 "nbformat_minor": 4
}
