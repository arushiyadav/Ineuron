{
 "cells": [
  {
   "cell_type": "code",
   "execution_count": 5,
   "metadata": {},
   "outputs": [
    {
     "data": {
      "text/plain": [
       "[1, 3, 1, 4, 5]"
      ]
     },
     "execution_count": 5,
     "metadata": {},
     "output_type": "execute_result"
    }
   ],
   "source": [
    "#1\n",
    "def repeat(ls,n):\n",
    "    return ls*n\n",
    "def add(ls,x):\n",
    "    ls.append(x)\n",
    "    return ls\n",
    "def remove(ls,fro,to):\n",
    "    for i in range(fro,to+1):\n",
    "        ls.remove(ls[i])\n",
    "    return ls\n",
    "def concat(ls,ls2):\n",
    "    return ls+ls2\n",
    "ls=[1,2,3,4]\n",
    "repeat(ls,4)\n",
    "add(ls,1)\n",
    "remove(ls,1,2)\n",
    "concat(ls,[4,5])"
   ]
  },
  {
   "cell_type": "code",
   "execution_count": 13,
   "metadata": {},
   "outputs": [
    {
     "data": {
      "text/plain": [
       "{'black': 1, 'white': 3}"
      ]
     },
     "execution_count": 13,
     "metadata": {},
     "output_type": "execute_result"
    }
   ],
   "source": [
    "#2\n",
    "def guess_score(secret_code, guesses):\n",
    "\n",
    "    score = {\"black\":0,\"white\":0}\n",
    "    remaining_secrets = []\n",
    "    remaining_guesses = []\n",
    "\n",
    "    for guess, secret in zip(secret_code, guesses):\n",
    "        if guess == secret:\n",
    "            score['black']=score['black']+1\n",
    "\n",
    "        else:\n",
    "            remaining_guesses.append(guess)\n",
    "            remaining_secrets.append(secret)\n",
    "\n",
    "    for guess in remaining_guesses:\n",
    "\n",
    "        if guess in remaining_secrets:\n",
    "            score['white']=score['white']+1\n",
    "            remaining_secrets.remove(guess)\n",
    "\n",
    "    return score\n",
    "guess_score(\"1423\",\"1234\")"
   ]
  },
  {
   "cell_type": "code",
   "execution_count": 17,
   "metadata": {},
   "outputs": [
    {
     "data": {
      "text/plain": [
       "[5, 4]"
      ]
     },
     "execution_count": 17,
     "metadata": {},
     "output_type": "execute_result"
    }
   ],
   "source": [
    "#3\n",
    "def two_product(arr,prod):\n",
    "\n",
    "    l=[]\n",
    "    for i in arr:\n",
    "        temp=arr\n",
    "        temp.remove(i)\n",
    "        new=temp\n",
    "        for j in new:\n",
    "            if(i*j==prod):\n",
    "                l.append(i)\n",
    "                l.append(j)\n",
    "    if(len(l)==0):\n",
    "        return None\n",
    "    else:\n",
    "        return l \n",
    "    \n",
    "    \n",
    "two_product([1, 2, -1, 4, 5],20)\n"
   ]
  },
  {
   "cell_type": "code",
   "execution_count": 20,
   "metadata": {},
   "outputs": [
    {
     "data": {
      "text/plain": [
       "['10-02-2016_12:30', '10-02-2018_12:15', '10-02-2018_12:30']"
      ]
     },
     "execution_count": 20,
     "metadata": {},
     "output_type": "execute_result"
    }
   ],
   "source": [
    "#4\n",
    "from datetime import datetime\n",
    "def sort_dates(data,order):\n",
    "    if(order==\"ASC\"):\n",
    "        data.sort(key=lambda date: datetime.strptime(date, \"%d-%m-%Y_%H:%M\"))\n",
    "    elif(order==\"DSC\"):\n",
    "        data.sort(key=lambda date: datetime.strptime(date, \"%d-%m-%Y_%H:%M\"),reverse=True)\n",
    "    return data\n",
    "sort_dates([\"10-02-2018_12:30\", \"10-02-2016_12:30\", \"10-02-2018_12:15\"],\"ASC\")\n"
   ]
  },
  {
   "cell_type": "code",
   "execution_count": 24,
   "metadata": {},
   "outputs": [
    {
     "data": {
      "text/plain": [
       "['toe', 'ocelot']"
      ]
     },
     "execution_count": 24,
     "metadata": {},
     "output_type": "execute_result"
    }
   ],
   "source": [
    "#5\n",
    "def list_vowels(word):\n",
    "    s=set()\n",
    "    for i in word:\n",
    "        if(i in ('a','e','i','o','u')):\n",
    "            s.add(i)\n",
    "    l=list(s)\n",
    "    l.sort()\n",
    "    return l\n",
    "def same_vowel_group(li):\n",
    "    out=[li[0]]\n",
    "    in_first=list_vowels(li[0])\n",
    "    for i in li[1:]:\n",
    "        in_this=list_vowels(i)\n",
    "        if(in_this==in_first):\n",
    "            out.append(i)\n",
    "    return out\n",
    "same_vowel_group([\"toe\", \"ocelot\", \"maniac\"])"
   ]
  },
  {
   "cell_type": "code",
   "execution_count": 26,
   "metadata": {},
   "outputs": [
    {
     "data": {
      "text/plain": [
       "2520"
      ]
     },
     "execution_count": 26,
     "metadata": {},
     "output_type": "execute_result"
    }
   ],
   "source": [
    "#6\n",
    "from math import gcd\n",
    "def lcm_of_list(li):\n",
    "    lcm = 1\n",
    "    for i in li:\n",
    "        lcm = lcm*i//gcd(lcm, i)\n",
    "    return lcm\n",
    "lcm_of_list([1, 2, 3, 4, 5, 6, 7, 8, 9, 10])"
   ]
  },
  {
   "cell_type": "code",
   "execution_count": null,
   "metadata": {},
   "outputs": [],
   "source": []
  }
 ],
 "metadata": {
  "kernelspec": {
   "display_name": "Python 3",
   "language": "python",
   "name": "python3"
  },
  "language_info": {
   "codemirror_mode": {
    "name": "ipython",
    "version": 3
   },
   "file_extension": ".py",
   "mimetype": "text/x-python",
   "name": "python",
   "nbconvert_exporter": "python",
   "pygments_lexer": "ipython3",
   "version": "3.8.5"
  }
 },
 "nbformat": 4,
 "nbformat_minor": 4
}
