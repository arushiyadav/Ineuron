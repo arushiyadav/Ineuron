{
 "cells": [
  {
   "cell_type": "code",
   "execution_count": 7,
   "metadata": {},
   "outputs": [
    {
     "data": {
      "text/plain": [
       "1"
      ]
     },
     "execution_count": 7,
     "metadata": {},
     "output_type": "execute_result"
    }
   ],
   "source": [
    "#1\n",
    "def count_same_ends(s):\n",
    "    s=s.replace(\"!\",\"\")\n",
    "    l=s.split(\" \")\n",
    "    count=0\n",
    "    for i in l:\n",
    "        i=i.lower()\n",
    "        if(i[0]==i[-1]):\n",
    "            count+=1\n",
    "    return count\n",
    "count_same_ends(\"Pop! goes the balloon\")"
   ]
  },
  {
   "cell_type": "code",
   "execution_count": 16,
   "metadata": {},
   "outputs": [
    {
     "data": {
      "text/plain": [
       "'Zkkov!'"
      ]
     },
     "execution_count": 16,
     "metadata": {},
     "output_type": "execute_result"
    }
   ],
   "source": [
    "#2\n",
    "alphabet=[]\n",
    "for i in range(ord('a'), ord('z')+1):\n",
    "    alphabet.append(chr(i))\n",
    "def atbash(s):\n",
    "    output=\"\"\n",
    "    for i in range(len(s)):\n",
    "        if(s[i].lower() in alphabet):\n",
    "            ind=alphabet.index(s[i].lower())\n",
    "            new_ind=-(ind+1)\n",
    "            if(s[i].upper()==s[i]):\n",
    "                output+=(alphabet[new_ind].upper())\n",
    "            else:\n",
    "                output+=alphabet[new_ind]\n",
    "        else:\n",
    "            output+=s[i]\n",
    "    return output\n",
    "atbash(\"Apple!\")\n",
    "                "
   ]
  },
  {
   "cell_type": "code",
   "execution_count": 30,
   "metadata": {},
   "outputs": [
    {
     "data": {
      "text/plain": [
       "'Italian'"
      ]
     },
     "execution_count": 30,
     "metadata": {},
     "output_type": "execute_result"
    }
   ],
   "source": [
    "#3\n",
    "class Employee:\n",
    "    def __init__(self,name,**kwargs):\n",
    "        l=name.split(\" \")\n",
    "        self.name=l[0]\n",
    "        self.lastname=l[1]\n",
    "        self.height=kwargs.get('height')\n",
    "        self.salary=kwargs.get(\"salary\")\n",
    "        self.nationality=kwargs.get(\"nationality\")\n",
    "john = Employee(\"John Doe\")\n",
    "mary = Employee(\"Mary Major\", salary=120000)\n",
    "richard = Employee(\"Richard Roe\", salary=110000, height=178)\n",
    "giancarlo = Employee(\"Giancarlo Rossi\", salary=115000, height=182,\n",
    "nationality=\"Italian\")\n",
    "\n",
    "john.name\n",
    "mary.lastname\n",
    "richard.height\n",
    "giancarlo.nationality"
   ]
  },
  {
   "cell_type": "code",
   "execution_count": 37,
   "metadata": {},
   "outputs": [
    {
     "data": {
      "text/plain": [
       "False"
      ]
     },
     "execution_count": 37,
     "metadata": {},
     "output_type": "execute_result"
    }
   ],
   "source": [
    "#4\n",
    "import numpy as np\n",
    "def can_see_stage(l):\n",
    "    ar=np.array(l)\n",
    "    row,col=ar.shape\n",
    "    for j in range(col):\n",
    "        for i in range(row):\n",
    "            if(i!=(row-1)):\n",
    "                two=ar[i+1][j]\n",
    "                one=ar[i][j]\n",
    "                if(two<=one):\n",
    "                    return False\n",
    "            else:\n",
    "                two=ar[i][j]\n",
    "                one=ar[i-1][j]\n",
    "                if(two<=one):\n",
    "                    return False\n",
    "    return True\n",
    "can_see_stage([\n",
    "[1, 0, 0],\n",
    "[1, 1, 1],\n",
    "[2, 2, 2]\n",
    "])"
   ]
  },
  {
   "cell_type": "code",
   "execution_count": 58,
   "metadata": {},
   "outputs": [
    {
     "data": {
      "text/plain": [
       "1"
      ]
     },
     "execution_count": 58,
     "metadata": {},
     "output_type": "execute_result"
    }
   ],
   "source": [
    "#5\n",
    "\n",
    "class Pizza:\n",
    "    count=0\n",
    "    def __init__(self,ingredients):\n",
    "        self.ingredients=ingredients\n",
    "        Pizza.count+=1\n",
    "        self.order_number=Pizza.count\n",
    "    def garden_feast():\n",
    "        return Pizza([\"spinach\", \"olives\", \"mushroom\"])\n",
    "    def meast_festival():\n",
    "        return Pizza(['beef', 'meatball', 'bacon'])\n",
    "    def hawaiian():\n",
    "        return Pizza(['ham', 'pineapple'])\n",
    "p1 = Pizza([\"bacon\", \"parmesan\", \"ham\"]) \n",
    "p2 = Pizza.garden_feast()\n",
    "p2.ingredients\n",
    "p1.order_number\n"
   ]
  },
  {
   "cell_type": "code",
   "execution_count": null,
   "metadata": {},
   "outputs": [],
   "source": []
  }
 ],
 "metadata": {
  "kernelspec": {
   "display_name": "Python 3",
   "language": "python",
   "name": "python3"
  },
  "language_info": {
   "codemirror_mode": {
    "name": "ipython",
    "version": 3
   },
   "file_extension": ".py",
   "mimetype": "text/x-python",
   "name": "python",
   "nbconvert_exporter": "python",
   "pygments_lexer": "ipython3",
   "version": "3.8.5"
  }
 },
 "nbformat": 4,
 "nbformat_minor": 4
}
