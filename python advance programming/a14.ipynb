{
 "cells": [
  {
   "cell_type": "code",
   "execution_count": 4,
   "metadata": {},
   "outputs": [
    {
     "data": {
      "text/plain": [
       "[12.0, 7.5, 14.5]"
      ]
     },
     "execution_count": 4,
     "metadata": {},
     "output_type": "execute_result"
    }
   ],
   "source": [
    "#1\n",
    "def show_the_love(l):\n",
    "    mini=min(l)\n",
    "    ind=l.index(mini)\n",
    "    for i in range(0,len(l)) :\n",
    "        if(l[i]!=mini):\n",
    "            leftover=(l[i]*25)/100\n",
    "            l[i]=l[i]-leftover\n",
    "            l[ind]+=leftover\n",
    "    return l\n",
    "show_the_love([16, 10, 8])"
   ]
  },
  {
   "cell_type": "code",
   "execution_count": 16,
   "metadata": {},
   "outputs": [
    {
     "data": {
      "text/plain": [
       "['hma', 'tc', '']"
      ]
     },
     "execution_count": 16,
     "metadata": {},
     "output_type": "execute_result"
    }
   ],
   "source": [
    "#2\n",
    "def letters(s1,s2):\n",
    "    output=[]\n",
    "    set1=set(s1)\n",
    "    set2=set(s2)\n",
    "    inter=set1.intersection(set2)\n",
    "    s1diff=set1.difference(set2)\n",
    "    s2diff=set2.difference(set1)\n",
    "    a1=\"\"\n",
    "    a2=\"\"\n",
    "    a3=\"\"\n",
    "    for i in inter:\n",
    "        a1+=i\n",
    "    for i in s1diff:\n",
    "        a2+=i\n",
    "    for i in s2diff:\n",
    "        a3+=i\n",
    "    output.append(a1)\n",
    "    output.append(a2)\n",
    "    output.append(a3)\n",
    "    return output\n",
    "letters(\"match\", \"ham\")"
   ]
  },
  {
   "cell_type": "code",
   "execution_count": 20,
   "metadata": {},
   "outputs": [
    {
     "data": {
      "text/plain": [
       "[[1, 7], [2, 6], [3, 5], [4, 4]]"
      ]
     },
     "execution_count": 20,
     "metadata": {},
     "output_type": "execute_result"
    }
   ],
   "source": [
    "#3\n",
    "def pairs(l):\n",
    "    output=[]\n",
    "    for i in range(0,len(l)//2+1):\n",
    "        l1=[]\n",
    "        l1.append(l[i])\n",
    "        l1.append(l[-i-1])\n",
    "        output.append(l1)\n",
    "    return output\n",
    "pairs([1, 2, 3, 4, 5, 6, 7])"
   ]
  },
  {
   "cell_type": "code",
   "execution_count": 26,
   "metadata": {},
   "outputs": [
    {
     "data": {
      "text/plain": [
       "'1'"
      ]
     },
     "execution_count": 26,
     "metadata": {},
     "output_type": "execute_result"
    }
   ],
   "source": [
    "#4\n",
    "def add_str_nums(s1,s2):\n",
    "    try:\n",
    "        if(len(s1)==0 or len(s2)==0):\n",
    "            return max(s1,s2)\n",
    "        output=int(s1)+int(s2)\n",
    "        return str(output)\n",
    "    \n",
    "    except:\n",
    "        return -1\n",
    "#add_str_nums(\"4\", \"5\")\n",
    "#add_str_nums(\"abcdefg\", \"3\")\n",
    "add_str_nums(\"1\", \"\")"
   ]
  },
  {
   "cell_type": "code",
   "execution_count": 36,
   "metadata": {},
   "outputs": [
    {
     "data": {
      "text/plain": [
       "'This is a mixed up string.'"
      ]
     },
     "execution_count": 36,
     "metadata": {},
     "output_type": "execute_result"
    }
   ],
   "source": [
    "#5\n",
    "def unmix(s):\n",
    "    output=\"\"\n",
    "    if(len(s)%2==0):\n",
    "        for i in range(0,len(s)-1,2):\n",
    "            output+=s[i+1]\n",
    "            output+=s[i]\n",
    "        return output\n",
    "    else:\n",
    "        for i in range(0,len(s)-1,2):\n",
    "            output+=s[i+1]\n",
    "            output+=s[i]\n",
    "        output+=s[-1]\n",
    "        return output\n",
    "#unmix(\"123456\") \n",
    "unmix(\"hTsii  s aimex dpus rtni.g\")\n",
    "#unmix(\"badce\")\n",
    "        "
   ]
  },
  {
   "cell_type": "code",
   "execution_count": null,
   "metadata": {},
   "outputs": [],
   "source": []
  }
 ],
 "metadata": {
  "kernelspec": {
   "display_name": "Python 3",
   "language": "python",
   "name": "python3"
  },
  "language_info": {
   "codemirror_mode": {
    "name": "ipython",
    "version": 3
   },
   "file_extension": ".py",
   "mimetype": "text/x-python",
   "name": "python",
   "nbconvert_exporter": "python",
   "pygments_lexer": "ipython3",
   "version": "3.8.5"
  }
 },
 "nbformat": 4,
 "nbformat_minor": 4
}
