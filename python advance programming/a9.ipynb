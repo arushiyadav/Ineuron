{
 "cells": [
  {
   "cell_type": "code",
   "execution_count": 10,
   "metadata": {},
   "outputs": [
    {
     "data": {
      "text/plain": [
       "'00:15:00'"
      ]
     },
     "execution_count": 10,
     "metadata": {},
     "output_type": "execute_result"
    }
   ],
   "source": [
    "#1\n",
    "def playback_duration(duration,speed):\n",
    "    duration_list=duration.split(\":\")\n",
    "    output=\"\"\n",
    "    left_time_in_hr=\"00\"\n",
    "    left_time_in_min=\"00\"\n",
    "    left_time_in_sec=\"00\"\n",
    "    duration_in_sec=(int(duration_list[0])*60*60)+(int(duration_list[1])*60)+int(duration_list[2])\n",
    "    left_time_in_sec=duration_in_sec//speed\n",
    "    if(left_time_in_sec>=3600):\n",
    "        left_time_in_hr=int(left_time_in_sec//3600)\n",
    "        left_time_in_sec=left_time_in_sec%3600\n",
    "    if(left_time_in_sec>=60):\n",
    "        left_time_in_min=int(left_time_in_sec//60)\n",
    "        left_time_in_sec=left_time_in_sec%60\n",
    "    if(len(str(left_time_in_hr))==1):\n",
    "        left_time_in_hr=\"0\"+str(left_time_in_hr)\n",
    "    if(len(str(left_time_in_min))==1):\n",
    "        left_time_in_min=\"0\"+str(left_time_in_min)\n",
    "    if(len(str(left_time_in_sec))==1):\n",
    "        left_time_in_sec=\"0\"+str(left_time_in_sec)\n",
    "    output = str(left_time_in_hr)+\":\"+str(left_time_in_min)+\":\"+str(left_time_in_sec)\n",
    "    return output\n",
    "playback_duration(\"00:30:00\", 2)\n",
    "        \n",
    "        \n",
    "        "
   ]
  },
  {
   "cell_type": "code",
   "execution_count": 18,
   "metadata": {},
   "outputs": [
    {
     "data": {
      "text/plain": [
       "2022"
      ]
     },
     "execution_count": 18,
     "metadata": {},
     "output_type": "execute_result"
    }
   ],
   "source": [
    "#2\n",
    "def pile_of_cubes(num):\n",
    "    i=1\n",
    "    add=0\n",
    "    while(True):\n",
    "        add+=i**3\n",
    "        if(add>num):\n",
    "            return \"None\"\n",
    "        if(add==num):\n",
    "            return i\n",
    "        i+=1\n",
    "pile_of_cubes(4183059834009)"
   ]
  },
  {
   "cell_type": "code",
   "execution_count": 19,
   "metadata": {},
   "outputs": [
    {
     "data": {
      "text/plain": [
       "2"
      ]
     },
     "execution_count": 19,
     "metadata": {},
     "output_type": "execute_result"
    }
   ],
   "source": [
    "#3\n",
    "def find_fulcrum(l):\n",
    "    output=-1\n",
    "    for i in range(1,len(l)):\n",
    "        if(sum(l[0:i])==sum(l[i+1:])):\n",
    "            output=l[i]\n",
    "    return output\n",
    "find_fulcrum([3, 1, 5, 2, 4, 6, -1])"
   ]
  },
  {
   "cell_type": "code",
   "execution_count": 21,
   "metadata": {},
   "outputs": [
    {
     "data": {
      "text/plain": [
       "4"
      ]
     },
     "execution_count": 21,
     "metadata": {},
     "output_type": "execute_result"
    }
   ],
   "source": [
    "#4\n",
    "def sock_merchant(l):\n",
    "    s=set(l)\n",
    "    tup=tuple(l)\n",
    "    pair=0\n",
    "    for i in s:\n",
    "        if(tup.count(i)>=2):\n",
    "            pair+=int(tup.count(i)//2)\n",
    "            \n",
    "    return pair\n",
    "sock_merchant([50, 20, 30, 90, 30, 20, 50, 20, 90])"
   ]
  },
  {
   "cell_type": "code",
   "execution_count": 31,
   "metadata": {},
   "outputs": [
    {
     "data": {
      "text/plain": [
       "-33"
      ]
     },
     "execution_count": 31,
     "metadata": {},
     "output_type": "execute_result"
    }
   ],
   "source": [
    "#5\n",
    "def negative_sum(st):\n",
    "    plus=0\n",
    "    for i in range(len(st)):\n",
    "        if(st[i]=='-'):\n",
    "            if(i!=len(st)):\n",
    "                add=\"\"\n",
    "                while(st[i+1] in ['0','1','2','3','4','5','6','7','8','9']):\n",
    "                    add+=st[i+1]\n",
    "                    i+=1\n",
    "                else:\n",
    "                    plus+=int(add)\n",
    "                    continue\n",
    "                \n",
    "    plus=-(plus)\n",
    "    return plus\n",
    "negative_sum(\"22 13%14&amp;-11-22 13 12\")"
   ]
  },
  {
   "cell_type": "code",
   "execution_count": null,
   "metadata": {},
   "outputs": [],
   "source": []
  }
 ],
 "metadata": {
  "kernelspec": {
   "display_name": "Python 3",
   "language": "python",
   "name": "python3"
  },
  "language_info": {
   "codemirror_mode": {
    "name": "ipython",
    "version": 3
   },
   "file_extension": ".py",
   "mimetype": "text/x-python",
   "name": "python",
   "nbconvert_exporter": "python",
   "pygments_lexer": "ipython3",
   "version": "3.8.5"
  }
 },
 "nbformat": 4,
 "nbformat_minor": 4
}
