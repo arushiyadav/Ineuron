{
 "cells": [
  {
   "cell_type": "code",
   "execution_count": 45,
   "metadata": {},
   "outputs": [
    {
     "data": {
      "text/plain": [
       "'Blueberry Raspberry Strawberry Fusion'"
      ]
     },
     "execution_count": 45,
     "metadata": {},
     "output_type": "execute_result"
    }
   ],
   "source": [
    "#1\n",
    "class Smoothie:\n",
    "    dic={'Banana':\"0.50\",\"Strawberries\":\"1.50\",\"Mango\":\"2.50\",\"Blueberries\":\"1.00\",\"Raspberries\":\"1.00\",\"Apple\":\"1.75\",\"Pineapple\":\"3.50\"}\n",
    "    def __init__(self,ingredients):\n",
    "        self.ingredients=ingredients\n",
    "    def get_cost(self):\n",
    "        indg=self.ingredients\n",
    "        cost=0\n",
    "        for i in indg:\n",
    "            cost+=float(Smoothie.dic.get(i))\n",
    "        return \"$\"+\"%.2f\"%(cost)\n",
    "    def get_price(self):\n",
    "        cost=self.get_cost()\n",
    "        cost=cost[1:]\n",
    "        price=float(cost)*1.5\n",
    "        price+=float(cost)\n",
    "        return \"$\"+\"%.2f\"%(price)\n",
    "    def get_name(self):\n",
    "        indg=self.ingredients\n",
    "        if(len(indg)==1):\n",
    "            if(indg[0][-3:]==\"ies\"):\n",
    "                indg[0]=indg[0].replace(\"ies\",\"y\")\n",
    "            return indg[0]+\" \"+\"Smoothie\"\n",
    "        else:\n",
    "            indg=sorted(indg)\n",
    "            output=\"\"\n",
    "            for i in indg:\n",
    "                if(i[-3:]==\"ies\"):\n",
    "                    i=i.replace(\"ies\",\"y\")\n",
    "                    output+=i\n",
    "                    output+=\" \"\n",
    "                else:\n",
    "                    output+=i\n",
    "                    output+=\" \"\n",
    "            return output+\"Fusion\"\n",
    "s1 = Smoothie([\"Banana\"])\n",
    "s1.ingredients\n",
    "s1.get_cost()\n",
    "s1.get_price()\n",
    "s1.get_name()\n",
    "s2 = Smoothie([\"Raspberries\", \"Strawberries\", \"Blueberries\"])\n",
    "s2.ingredients\n",
    "s2.get_cost()\n",
    "s2.get_price()\n",
    "s2.get_name()"
   ]
  },
  {
   "cell_type": "code",
   "execution_count": 67,
   "metadata": {},
   "outputs": [
    {
     "data": {
      "text/plain": [
       "{'Chemistry': 'Failed! (25%)', 'Computing': 'Failed! (43%)'}"
      ]
     },
     "execution_count": 67,
     "metadata": {},
     "output_type": "execute_result"
    }
   ],
   "source": [
    "#2\n",
    "class Testpaper:\n",
    "    def __init__(self,subject,markscheme,pass_mark):\n",
    "        self.subject=subject\n",
    "        self.markscheme=markscheme\n",
    "        self.pass_mark=pass_mark\n",
    "class Student:\n",
    "    def __init__(self):\n",
    "        self.tests_taken=\"No tests taken\"\n",
    "    def take_test(self,Testpaper,ans):\n",
    "        self.Testpaper=Testpaper\n",
    "        self.ans=ans\n",
    "        self.count=0\n",
    "        if(type(self.tests_taken)==str):\n",
    "            self.tests_taken={}\n",
    "        for i in range(len(self.ans)):\n",
    "            if(self.ans[i]==Testpaper.markscheme[i]):\n",
    "                self.count+=1\n",
    "        self.per=round((self.count/len(self.ans))*100)\n",
    "        if(self.per>=int(Testpaper.pass_mark[:-1])):\n",
    "            self.tests_taken[Testpaper.subject]=\"Passed! ({}%)\".format(self.per)\n",
    "        else:\n",
    "            self.tests_taken[Testpaper.subject]=\"Failed! ({}%)\".format(self.per)\n",
    "paper1 = Testpaper(\"Maths\", [\"1A\", \"2C\", \"3D\", \"4A\", \"5A\"], \"60%\")\n",
    "paper2 = Testpaper(\"Chemistry\", [\"1C\", \"2C\", \"3D\", \"4A\"], \"75%\")\n",
    "paper3 = Testpaper(\"Computing\", [\"1D\", \"2C\", \"3C\", \"4B\", \"5D\", \"6C\", \"7A\"],\"75%\")\n",
    "student1 = Student()\n",
    "student2 = Student()\n",
    "student1.tests_taken\n",
    "student1.take_test(paper1, [\"1A\", \"2D\", \"3D\", \"4A\", \"5A\"])\n",
    "student1.tests_taken \n",
    "student2.take_test(paper2, [\"1C\", \"2D\", \"3A\", \"4C\"])\n",
    "student2.take_test(paper3, [\"1A\", \"2C\", \"3A\", \"4C\", \"5D\", \"6C\", \"7B\"])\n",
    "student2.tests_taken "
   ]
  },
  {
   "cell_type": "code",
   "execution_count": 10,
   "metadata": {},
   "outputs": [
    {
     "name": "stdout",
     "output_type": "stream",
     "text": [
      "13:04\n",
      "14:20\n",
      "14:22\n"
     ]
    }
   ],
   "source": [
    "#3\n",
    "import datetime\n",
    "class Train:\n",
    "    def __init__(self,l,expected_time):\n",
    "        self.l=l\n",
    "        self.expected_time=expected_time\n",
    "def manage_delays(train_object,destination,mins):\n",
    "    lis=train_object.l\n",
    "    if(destination in lis):\n",
    "        old_time=datetime.datetime.strptime(train_object.expected_time,'%H:%M')\n",
    "        new_time= old_time + datetime.timedelta(minutes=mins)\n",
    "        new_time=datetime.datetime.strftime(new_time,'%H:%M')\n",
    "        train_object.expected_time=str(new_time)\n",
    "    return train_object.expected_time\n",
    "        \n",
    "trains = [\n",
    "Train([\"Townsville\", \"Suburbia\", \"Urbantska\"], \"13:04\"),\n",
    "Train([\"Farmsdale\", \"Suburbia\", \"Lakeside Valley\"], \"13:20\"),\n",
    "Train([\"Suburbia\", \"Townsville\", \"Lakeside Valley\"], \"13:22\")\n",
    "]\n",
    "\n",
    "for t in trains:\n",
    "    print(manage_delays(t, \"Lakeside Valley\", 60))\n",
    "    \n",
    "\n"
   ]
  },
  {
   "cell_type": "code",
   "execution_count": 21,
   "metadata": {},
   "outputs": [
    {
     "data": {
      "text/plain": [
       "True"
      ]
     },
     "execution_count": 21,
     "metadata": {},
     "output_type": "execute_result"
    }
   ],
   "source": [
    "#5\n",
    "class Rectangle:\n",
    "    def __init__(self,x,y,width,height):\n",
    "        self.x=x\n",
    "        self.y=y-height\n",
    "        self.width=width\n",
    "        self.height=height\n",
    "def intersecting(ob1,ob2):\n",
    "    if ((ob1.x>ob2.width) or (ob1.width<ob2.x) or (ob1.height<ob2.y) or (ob1.y>ob2.height)):\n",
    "        return False\n",
    "    else:\n",
    "        return True\n",
    "a = Rectangle(10, 20, 100, 20)\n",
    "b = Rectangle(10, 40, 15, 20)\n",
    "c = Rectangle(50, 50, 20, 30)\n",
    "intersecting(a, c)"
   ]
  },
  {
   "cell_type": "code",
   "execution_count": null,
   "metadata": {},
   "outputs": [],
   "source": []
  }
 ],
 "metadata": {
  "kernelspec": {
   "display_name": "Python 3",
   "language": "python",
   "name": "python3"
  },
  "language_info": {
   "codemirror_mode": {
    "name": "ipython",
    "version": 3
   },
   "file_extension": ".py",
   "mimetype": "text/x-python",
   "name": "python",
   "nbconvert_exporter": "python",
   "pygments_lexer": "ipython3",
   "version": "3.8.5"
  }
 },
 "nbformat": 4,
 "nbformat_minor": 4
}
