{
 "cells": [
  {
   "cell_type": "code",
   "execution_count": 2,
   "metadata": {},
   "outputs": [
    {
     "data": {
      "text/plain": [
       "31499"
      ]
     },
     "execution_count": 2,
     "metadata": {},
     "output_type": "execute_result"
    }
   ],
   "source": [
    "#1\n",
    "def meme_sum(num1,num2):\n",
    "    s_num1=str(num1)\n",
    "    s_num2=str(num2)\n",
    "    large=max(s_num1,s_num2)\n",
    "    small=min(s_num1,s_num2)\n",
    "    output=\"\"\n",
    "    for i in range(-1,-(len(large)),-1):\n",
    "        output+=str(int(s_num1[i])+int(s_num2[i]))\n",
    "    diff=len(large)-len(small)\n",
    "    if(diff!=0):\n",
    "        output+=large[0:diff]\n",
    "    return int(output[::-1])\n",
    "meme_sum(1222, 30277)\n",
    "        "
   ]
  },
  {
   "cell_type": "code",
   "execution_count": 7,
   "metadata": {},
   "outputs": [
    {
     "data": {
      "text/plain": [
       "29"
      ]
     },
     "execution_count": 7,
     "metadata": {},
     "output_type": "execute_result"
    }
   ],
   "source": [
    "#2\n",
    "def next_prime(num):\n",
    "    flag=True\n",
    "    for i in range(2,num):\n",
    "        if(num%i==0):\n",
    "            flag=False\n",
    "            break\n",
    "    if(flag):\n",
    "        return num\n",
    "    else:\n",
    "        while(flag==False):\n",
    "            num+=1\n",
    "            for j in range(2,num):\n",
    "                if(num%j!=0):\n",
    "                    flag=True\n",
    "                else:\n",
    "                    flag=False\n",
    "                    break\n",
    "        return num\n",
    "next_prime(24)"
   ]
  },
  {
   "cell_type": "code",
   "execution_count": 9,
   "metadata": {},
   "outputs": [
    {
     "data": {
      "text/plain": [
       "30.0"
      ]
     },
     "execution_count": 9,
     "metadata": {},
     "output_type": "execute_result"
    }
   ],
   "source": [
    "#3\n",
    "def ave_speed(t1,s1,s2):\n",
    "    t1=t1/60\n",
    "    d=t1*s1\n",
    "    total_dis=d*2\n",
    "    t2=d/s2\n",
    "    total_time=t1+t2\n",
    "    avg_speed=total_dis/total_time\n",
    "    return avg_speed\n",
    "ave_speed(18,20,60)"
   ]
  },
  {
   "cell_type": "code",
   "execution_count": 19,
   "metadata": {},
   "outputs": [
    {
     "data": {
      "text/plain": [
       "2"
      ]
     },
     "execution_count": 19,
     "metadata": {},
     "output_type": "execute_result"
    }
   ],
   "source": [
    "#4\n",
    "def factorial(num):\n",
    "    fact=1\n",
    "    if(num==1 or num==0):\n",
    "        fact=1\n",
    "    else:\n",
    "        fact=num*factorial(num-1)\n",
    "    return fact\n",
    "def kempner(num):\n",
    "    counter=1\n",
    "    fact=factorial(counter)\n",
    "    while(fact%num!=0):\n",
    "        counter+=1\n",
    "        fact=factorial(counter)\n",
    "    return counter\n",
    "kempner(2)\n",
    "        \n",
    "        "
   ]
  },
  {
   "cell_type": "code",
   "execution_count": 21,
   "metadata": {},
   "outputs": [
    {
     "data": {
      "text/plain": [
       "5"
      ]
     },
     "execution_count": 21,
     "metadata": {},
     "output_type": "execute_result"
    }
   ],
   "source": [
    "#5\n",
    "def boxes(l):\n",
    "    box=1\n",
    "    add=0\n",
    "    for i in l:\n",
    "        if(add+i>10):\n",
    "            box+=1\n",
    "            add=0\n",
    "            add+=i\n",
    "        else:\n",
    "            add+=i\n",
    "    return box\n",
    "boxes([2, 1, 2, 5, 4, 3, 6, 1, 1, 9, 3, 2])\n",
    "        \n",
    "            "
   ]
  },
  {
   "cell_type": "code",
   "execution_count": null,
   "metadata": {},
   "outputs": [],
   "source": []
  }
 ],
 "metadata": {
  "kernelspec": {
   "display_name": "Python 3",
   "language": "python",
   "name": "python3"
  },
  "language_info": {
   "codemirror_mode": {
    "name": "ipython",
    "version": 3
   },
   "file_extension": ".py",
   "mimetype": "text/x-python",
   "name": "python",
   "nbconvert_exporter": "python",
   "pygments_lexer": "ipython3",
   "version": "3.8.5"
  }
 },
 "nbformat": 4,
 "nbformat_minor": 4
}
