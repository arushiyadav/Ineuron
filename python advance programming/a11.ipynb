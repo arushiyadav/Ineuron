{
 "cells": [
  {
   "cell_type": "code",
   "execution_count": 3,
   "metadata": {},
   "outputs": [
    {
     "data": {
      "text/plain": [
       "[7, 3, 11]"
      ]
     },
     "execution_count": 3,
     "metadata": {},
     "output_type": "execute_result"
    }
   ],
   "source": [
    "#1\n",
    "def filter_primes(l):\n",
    "    output=[]\n",
    "    for i in l:\n",
    "        val=is_prime(i)\n",
    "        if(val==True):\n",
    "            output.append(i)\n",
    "    return output\n",
    "def is_prime(num):\n",
    "    for i in range(2,int(num//2)):\n",
    "        if(num%i==0):\n",
    "            return False\n",
    "    return True\n",
    "filter_primes([7, 9, 3, 9, 10, 11, 27])"
   ]
  },
  {
   "cell_type": "code",
   "execution_count": 10,
   "metadata": {},
   "outputs": [
    {
     "data": {
      "text/plain": [
       "[0, 1, 2, 3, 4, 3, 2, 1, 0]"
      ]
     },
     "execution_count": 10,
     "metadata": {},
     "output_type": "execute_result"
    }
   ],
   "source": [
    "#2\n",
    "def pop(l):\n",
    "    val=l[len(l)//2]\n",
    "    mid=len(l)//2\n",
    "    for i in range(0,len(l)//2):\n",
    "        l[i]=abs(val-mid)\n",
    "        l[-(i+1)]=abs(val-mid)\n",
    "        mid-=1\n",
    "    return l\n",
    "pop([0,0,0,0,4,0,0,0,0])"
   ]
  },
  {
   "cell_type": "code",
   "execution_count": 12,
   "metadata": {},
   "outputs": [
    {
     "data": {
      "text/plain": [
       "'Loves me, Loves me not, Loves me, Loves me not, Loves me, LOVES ME NOT'"
      ]
     },
     "execution_count": 12,
     "metadata": {},
     "output_type": "execute_result"
    }
   ],
   "source": [
    "#3\n",
    "def loves_me(num):\n",
    "    output=\"\"\n",
    "    for i in range(num):\n",
    "        if(i%2==0):\n",
    "            if(i==num-1):\n",
    "                output+=\"LOVES ME\"\n",
    "            else:\n",
    "                \n",
    "                output+=\"Loves me, \"\n",
    "        else:\n",
    "            if(i==num-1):\n",
    "                output+=\"LOVES ME NOT\"\n",
    "            else:\n",
    "                output+=\"Loves me not, \"\n",
    "    return output\n",
    "loves_me(6)"
   ]
  },
  {
   "cell_type": "code",
   "execution_count": 21,
   "metadata": {},
   "outputs": [
    {
     "data": {
      "text/plain": [
       "['2344b', '932c', '832u32']"
      ]
     },
     "execution_count": 21,
     "metadata": {},
     "output_type": "execute_result"
    }
   ],
   "source": [
    "#4\n",
    "def sort_by_letter(l):\n",
    "    output=[]\n",
    "    for index in l:\n",
    "        output.append(index)\n",
    "    letter=[]\n",
    "    for i in l:\n",
    "        for j in i:\n",
    "            if(j.isalpha()):\n",
    "                letter.append(j)\n",
    "        letter=sorted(letter)\n",
    "   \n",
    "    for k in l:\n",
    "        for alpha in k:\n",
    "            if(alpha.isalpha()):\n",
    "                ind=letter.index(alpha)\n",
    "        output[ind]=k\n",
    "        \n",
    "    return output\n",
    "sort_by_letter([\"932c\", \"832u32\", \"2344b\"])"
   ]
  },
  {
   "cell_type": "code",
   "execution_count": 22,
   "metadata": {},
   "outputs": [
    {
     "data": {
      "text/plain": [
       "'C'"
      ]
     },
     "execution_count": 22,
     "metadata": {},
     "output_type": "execute_result"
    }
   ],
   "source": [
    "#5\n",
    "def cup_swapping(l):\n",
    "    ball_at=\"B\"\n",
    "    for i in l:\n",
    "        if(i==\"AB\" or i==\"BA\"):\n",
    "            if(ball_at in i):\n",
    "                i=i.replace(ball_at,\"\")\n",
    "                ball_at=i\n",
    "        if(i==\"BC\" or i==\"CB\"):\n",
    "            if(ball_at in i):\n",
    "                i=i.replace(ball_at,\"\")\n",
    "                ball_at=i\n",
    "        if(i==\"AC\" or i==\"CA\"):\n",
    "            if(ball_at in i):\n",
    "                i=i.replace(ball_at,\"\")\n",
    "                ball_at=i\n",
    "    return ball_at\n",
    "cup_swapping([\"AB\", \"CA\", \"AB\"])"
   ]
  },
  {
   "cell_type": "code",
   "execution_count": null,
   "metadata": {},
   "outputs": [],
   "source": []
  }
 ],
 "metadata": {
  "kernelspec": {
   "display_name": "Python 3",
   "language": "python",
   "name": "python3"
  },
  "language_info": {
   "codemirror_mode": {
    "name": "ipython",
    "version": 3
   },
   "file_extension": ".py",
   "mimetype": "text/x-python",
   "name": "python",
   "nbconvert_exporter": "python",
   "pygments_lexer": "ipython3",
   "version": "3.8.5"
  }
 },
 "nbformat": 4,
 "nbformat_minor": 4
}
