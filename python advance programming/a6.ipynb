{
 "cells": [
  {
   "cell_type": "code",
   "execution_count": 2,
   "metadata": {},
   "outputs": [
    {
     "data": {
      "text/plain": [
       "'e'"
      ]
     },
     "execution_count": 2,
     "metadata": {},
     "output_type": "execute_result"
    }
   ],
   "source": [
    "#1\n",
    "def find_the_difference(s,t):\n",
    "    if s in t:\n",
    "        t=t.replace(s,\"\")\n",
    "    return t\n",
    "\n",
    "find_the_difference(\"abcd\",\"abcde\")\n"
   ]
  },
  {
   "cell_type": "code",
   "execution_count": 11,
   "metadata": {},
   "outputs": [
    {
     "data": {
      "text/plain": [
       "[2, 1, 1, 0, 0, 0]"
      ]
     },
     "execution_count": 11,
     "metadata": {},
     "output_type": "execute_result"
    }
   ],
   "source": [
    "#2\n",
    "# def count_datatypes(*args):\n",
    "#     count=0\n",
    "#     dic={}\n",
    "#     for i in args:\n",
    "#         if(type(i) not in dic):\n",
    "#             count=1\n",
    "#             dic[type(i)]=count\n",
    "#             continue\n",
    "#         else:\n",
    "#             count+=1\n",
    "#             dic[type(i)]=count\n",
    "#     return dic\n",
    "# count_datatypes(1, 45, \"Hi\", False)\n",
    "\n",
    "#-------Other required as per ques-----\n",
    "def count_datatypes(*args):\n",
    "    integer=0\n",
    "    strings=0\n",
    "    booleans=0\n",
    "    lists=0\n",
    "    tuples=0\n",
    "    dics=0\n",
    "    output=[]\n",
    "    for i in args:\n",
    "        if(type(i)==int):\n",
    "            integer+=1\n",
    "        elif(type(i)==str):\n",
    "            strings+=1\n",
    "        elif(type(i)==bool):\n",
    "            booleans+=1\n",
    "        elif(type(i)==list):\n",
    "            lists+=1\n",
    "        elif(type(i)==tuple):\n",
    "            tuples+=1\n",
    "        elif(type(i)==dict):\n",
    "            dics+=1\n",
    "    output.append(integer)\n",
    "    output.append(strings)\n",
    "    output.append(booleans)\n",
    "    output.append(lists)\n",
    "    output.append(tuples)\n",
    "    output.append(dics)\n",
    "            \n",
    "    return output\n",
    "count_datatypes(1, 45, \"Hi\", False)\n"
   ]
  },
  {
   "cell_type": "code",
   "execution_count": 17,
   "metadata": {},
   "outputs": [
    {
     "data": {
      "text/plain": [
       "['n', 'k', 'kn', 'knk', 'knkkn', 'knkknknk']"
      ]
     },
     "execution_count": 17,
     "metadata": {},
     "output_type": "execute_result"
    }
   ],
   "source": [
    "#3\n",
    "def fib_str(num,arr):\n",
    "    l=[]\n",
    "    l.append(arr[0])\n",
    "    l.append(arr[1])\n",
    "    for i in range(0,num-2):\n",
    "        val=l[-1]+l[-2]\n",
    "        l.append(val)\n",
    "    return l\n",
    "fib_str(6, [\"n\", \"k\"])"
   ]
  },
  {
   "cell_type": "code",
   "execution_count": 19,
   "metadata": {},
   "outputs": [
    {
     "data": {
      "text/plain": [
       "'nines:1, threes:2, ones:0'"
      ]
     },
     "execution_count": 19,
     "metadata": {},
     "output_type": "execute_result"
    }
   ],
   "source": [
    "#4\n",
    "def ones_threes_nines(num):\n",
    "    ones=0\n",
    "    threes=0\n",
    "    nines=0\n",
    "    while(num>=9):\n",
    "        num=num-9\n",
    "        nines+=1\n",
    "    while(num>=3):\n",
    "        num=num-3\n",
    "        threes+=1\n",
    "    while(num>=1):\n",
    "        num=num-1\n",
    "        ones+=1\n",
    "    output=\"nines:{}, threes:{}, ones:{}\".format(nines, threes, ones)\n",
    "    return output\n",
    "        \n",
    "ones_threes_nines(15)"
   ]
  },
  {
   "cell_type": "code",
   "execution_count": 21,
   "metadata": {},
   "outputs": [
    {
     "data": {
      "text/plain": [
       "8"
      ]
     },
     "execution_count": 21,
     "metadata": {},
     "output_type": "execute_result"
    }
   ],
   "source": [
    "#5\n",
    "def fib(num):\n",
    "    l=[]\n",
    "    l.append(0)\n",
    "    l.append(1)\n",
    "    for i in range(0,num-1):\n",
    "        val=l[-1]+l[-2]\n",
    "        l.append(val)\n",
    "    return l[-1]\n",
    "fib(6)"
   ]
  },
  {
   "cell_type": "code",
   "execution_count": null,
   "metadata": {},
   "outputs": [],
   "source": []
  }
 ],
 "metadata": {
  "kernelspec": {
   "display_name": "Python 3",
   "language": "python",
   "name": "python3"
  },
  "language_info": {
   "codemirror_mode": {
    "name": "ipython",
    "version": 3
   },
   "file_extension": ".py",
   "mimetype": "text/x-python",
   "name": "python",
   "nbconvert_exporter": "python",
   "pygments_lexer": "ipython3",
   "version": "3.8.5"
  }
 },
 "nbformat": 4,
 "nbformat_minor": 4
}
