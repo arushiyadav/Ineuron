{
 "cells": [
  {
   "cell_type": "code",
   "execution_count": 2,
   "metadata": {},
   "outputs": [
    {
     "data": {
      "text/plain": [
       "'odd'"
      ]
     },
     "execution_count": 2,
     "metadata": {},
     "output_type": "execute_result"
    }
   ],
   "source": [
    "#1\n",
    "def f(num):\n",
    "    list=['even','odd']\n",
    "    output=list[num%2]\n",
    "    return output\n",
    "f(9)"
   ]
  },
  {
   "cell_type": "code",
   "execution_count": 17,
   "metadata": {},
   "outputs": [
    {
     "data": {
      "text/plain": [
       "'None'"
      ]
     },
     "execution_count": 17,
     "metadata": {},
     "output_type": "execute_result"
    }
   ],
   "source": [
    "#2\n",
    "def majority_vote(arr):\n",
    "    tup=tuple(arr)\n",
    "    l=list(set(arr))\n",
    "    dic={}\n",
    "    list1=[]\n",
    "    list2=[]\n",
    "    should_be=len(arr)/2\n",
    "    for i in l:\n",
    "        list1.append(i)\n",
    "        list1.append(tup.count(i))\n",
    "    #print(list1)\n",
    "    for i in range(1,len(list1),2):\n",
    "        list2.append(list1[i])\n",
    "    #print(list2)\n",
    "    high=max(list2)\n",
    "    if(int(high)>=should_be):\n",
    "        value=list1[list1.index(high)-1]\n",
    "        return value\n",
    "    else:\n",
    "        return \"None\"\n",
    "    \n",
    "    \n",
    "majority_vote(['a','a','c','b','e'])"
   ]
  },
  {
   "cell_type": "code",
   "execution_count": 18,
   "metadata": {},
   "outputs": [
    {
     "data": {
      "text/plain": [
       "'----- is- Wednesday!'"
      ]
     },
     "execution_count": 18,
     "metadata": {},
     "output_type": "execute_result"
    }
   ],
   "source": [
    "#3\n",
    "def censor_string(s1,arr,s2):\n",
    "    list1=s1.split(\" \")\n",
    "    output=\"\"\n",
    "    for i in list1:\n",
    "        if(i in arr):\n",
    "            output+=s2*len(i)+\" \"\n",
    "        else:\n",
    "            output+=i\n",
    "    return output\n",
    "censor_string(\"Today is a Wednesday!\", [\"Today\", \"a\"], \"-\")"
   ]
  },
  {
   "cell_type": "code",
   "execution_count": 22,
   "metadata": {},
   "outputs": [
    {
     "data": {
      "text/plain": [
       "True"
      ]
     },
     "execution_count": 22,
     "metadata": {},
     "output_type": "execute_result"
    }
   ],
   "source": [
    "#4\n",
    "def is_polydivisible(num):\n",
    "    s=str(num)\n",
    "    flag=True\n",
    "    i=0\n",
    "    if(int(s[i])//1!=1):\n",
    "        flag=False\n",
    "    if((int(s[i]+s[i+1]))%2!=0):\n",
    "        flag= False\n",
    "    if((int(s[i]+s[i+1]+s[i+2]))%3!=0):\n",
    "        flag=False\n",
    "    if((int(s[i]+s[i+1]+s[i+2]+s[i+3]))%4!=0):\n",
    "        flag=False\n",
    "    return flag\n",
    "is_polydivisible(1232)\n",
    "        "
   ]
  },
  {
   "cell_type": "markdown",
   "metadata": {},
   "source": [
    "## "
   ]
  },
  {
   "cell_type": "code",
   "execution_count": 33,
   "metadata": {},
   "outputs": [
    {
     "data": {
      "text/plain": [
       "17"
      ]
     },
     "execution_count": 33,
     "metadata": {},
     "output_type": "execute_result"
    }
   ],
   "source": [
    "#5\n",
    "import math\n",
    "def sum_primes(l):\n",
    "    if(len(l)==0):\n",
    "        return \"None\"\n",
    "    result=0\n",
    "    for i in l:\n",
    "        prime_flag=True\n",
    "        if(i > 1):\n",
    "            for j in range(2, int(math.sqrt(i)) + 1):\n",
    "                if (i % j == 0):\n",
    "                    prime_flag = False\n",
    "                    break\n",
    "        else:\n",
    "            prime_flag=False\n",
    "        if(prime_flag==True):\n",
    "            result=result+i\n",
    "    return result\n",
    "sum_primes([1, 2, 3, 4, 5, 6, 7, 8, 9, 10])"
   ]
  },
  {
   "cell_type": "code",
   "execution_count": null,
   "metadata": {},
   "outputs": [],
   "source": []
  }
 ],
 "metadata": {
  "kernelspec": {
   "display_name": "Python 3",
   "language": "python",
   "name": "python3"
  },
  "language_info": {
   "codemirror_mode": {
    "name": "ipython",
    "version": 3
   },
   "file_extension": ".py",
   "mimetype": "text/x-python",
   "name": "python",
   "nbconvert_exporter": "python",
   "pygments_lexer": "ipython3",
   "version": "3.8.5"
  }
 },
 "nbformat": 4,
 "nbformat_minor": 4
}
