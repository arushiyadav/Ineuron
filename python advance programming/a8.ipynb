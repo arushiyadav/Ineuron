{
 "cells": [
  {
   "cell_type": "code",
   "execution_count": 8,
   "metadata": {},
   "outputs": [
    {
     "data": {
      "text/plain": [
       "False"
      ]
     },
     "execution_count": 8,
     "metadata": {},
     "output_type": "execute_result"
    }
   ],
   "source": [
    "#1\n",
    "def vowel_links(sentence):\n",
    "    l=sentence.split(\" \")\n",
    "    output=False\n",
    "    for i in range(0,len(l)-1):\n",
    "        if(l[i][-1] in ('a','e','i','o','u') and l[i+1][0] in ('a','e','i','o','u') ):\n",
    "            output = True\n",
    "    return output\n",
    "        \n",
    "vowel_links(\"an open fire\")"
   ]
  },
  {
   "cell_type": "code",
   "execution_count": 20,
   "metadata": {},
   "outputs": [
    {
     "data": {
      "text/plain": [
       "True"
      ]
     },
     "execution_count": 20,
     "metadata": {},
     "output_type": "execute_result"
    }
   ],
   "source": [
    "#2\n",
    "def first_before_second(sent,a,b):\n",
    "    output=True\n",
    "    sent=sent.replace(\" \",\"\")\n",
    "    ind_a=[]\n",
    "    ind_b=sent.index(b)\n",
    "    for i in range(0,len(sent)):\n",
    "        if(sent[i]==a):\n",
    "            ind_a.append(i)\n",
    "    for i in ind_a:\n",
    "        if(i>ind_b):\n",
    "            output = False\n",
    "        else:\n",
    "            continue\n",
    "    return output\n",
    "\n",
    "first_before_second(\"knaves knew about waterfalls\", \"k\", \"w\")\n",
    "    "
   ]
  },
  {
   "cell_type": "code",
   "execution_count": 27,
   "metadata": {},
   "outputs": [
    {
     "data": {
      "text/plain": [
       "'EAI'"
      ]
     },
     "execution_count": 27,
     "metadata": {},
     "output_type": "execute_result"
    }
   ],
   "source": [
    "#3\n",
    "def char_at_pos(iterable,specifier):\n",
    "    specifier=specifier.lower()\n",
    "    output=[]\n",
    "    if(specifier==\"odd\"):\n",
    "        for i in range(0,len(iterable)):\n",
    "            if(i%2==0):\n",
    "                output.append(iterable[i])\n",
    "    if(specifier==\"even\"):\n",
    "        for i in range(0,len(iterable)):\n",
    "            if(i%2!=0):\n",
    "                output.append(iterable[i])\n",
    "    if(type(iterable)==list):\n",
    "        return output\n",
    "    elif(type(iterable)==str):\n",
    "        s=\"\"\n",
    "        for i in output:\n",
    "            s+=i\n",
    "        return s\n",
    "    \n",
    "char_at_pos(\"EDABIT\", \"odd\")"
   ]
  },
  {
   "cell_type": "code",
   "execution_count": 32,
   "metadata": {},
   "outputs": [
    {
     "data": {
      "text/plain": [
       "64"
      ]
     },
     "execution_count": 32,
     "metadata": {},
     "output_type": "execute_result"
    }
   ],
   "source": [
    "#4\n",
    "def gcd_of_two(x,y):\n",
    "    while(y):\n",
    "        x,y=y,x%y\n",
    "    return x\n",
    "def GCD(l):\n",
    "    x=l[0]\n",
    "    y=l[1]\n",
    "    output=gcd_of_two(x,y)\n",
    "    for i in range(2,len(l)):\n",
    "        output=gcd_of_two(output,l[i])\n",
    "    return output\n",
    "GCD([1024, 192, 2048, 512])\n",
    "        "
   ]
  },
  {
   "cell_type": "code",
   "execution_count": 52,
   "metadata": {},
   "outputs": [
    {
     "data": {
      "text/plain": [
       "'Decimal only'"
      ]
     },
     "execution_count": 52,
     "metadata": {},
     "output_type": "execute_result"
    }
   ],
   "source": [
    "#5\n",
    "def palindrome_type(num):\n",
    "    dec=num\n",
    "    rev_dec=str(dec)[::-1]\n",
    "    binary=bin(num)[2:]\n",
    "    rev_bin=str(binary)[::-1]\n",
    "    dec_flag=False\n",
    "    bin_flag=False\n",
    "    if(dec==int(rev_dec)):\n",
    "        dec_flag=True\n",
    "    if(binary==rev_bin):\n",
    "        bin_flag=True\n",
    "    if(dec_flag==True and bin_flag==True):\n",
    "        return \"Decimal and binary\"\n",
    "    if(dec_flag==True and bin_flag==False):\n",
    "        return \"Decimal only\"\n",
    "    if(dec_flag==False and bin_flag==True):\n",
    "        return \"Binary only\"\n",
    "    if(dec_flag==False and bin_flag==False):\n",
    "        return \"Neither\"\n",
    "palindrome_type(1306031)"
   ]
  },
  {
   "cell_type": "code",
   "execution_count": null,
   "metadata": {},
   "outputs": [],
   "source": []
  }
 ],
 "metadata": {
  "kernelspec": {
   "display_name": "Python 3",
   "language": "python",
   "name": "python3"
  },
  "language_info": {
   "codemirror_mode": {
    "name": "ipython",
    "version": 3
   },
   "file_extension": ".py",
   "mimetype": "text/x-python",
   "name": "python",
   "nbconvert_exporter": "python",
   "pygments_lexer": "ipython3",
   "version": "3.8.5"
  }
 },
 "nbformat": 4,
 "nbformat_minor": 4
}
