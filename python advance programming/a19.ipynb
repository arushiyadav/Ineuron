{
 "cells": [
  {
   "cell_type": "code",
   "execution_count": 7,
   "metadata": {},
   "outputs": [
    {
     "data": {
      "text/plain": [
       "array([[1, 2, 1],\n",
       "       [2, 1, 2],\n",
       "       [1, 2, 1]])"
      ]
     },
     "execution_count": 7,
     "metadata": {},
     "output_type": "execute_result"
    }
   ],
   "source": [
    "#1\n",
    "import numpy as np\n",
    "def checker_board(num,a,b):\n",
    "    if(a==b):\n",
    "        return \"invalid\"\n",
    "    output=np.zeros((num,num),int)\n",
    "    for i in range(0,num):\n",
    "        if(i%2==0):\n",
    "            l=[a,b]\n",
    "        else:\n",
    "            l=[b,a]\n",
    "        for j in range(0,num):\n",
    "            if(j%2==0):\n",
    "                output[i][j]=l[0]\n",
    "            else:\n",
    "                output[i][j]=l[1]\n",
    "    return output\n",
    "checker_board(3,1,2)"
   ]
  },
  {
   "cell_type": "code",
   "execution_count": 13,
   "metadata": {},
   "outputs": [
    {
     "data": {
      "text/plain": [
       "True"
      ]
     },
     "execution_count": 13,
     "metadata": {},
     "output_type": "execute_result"
    }
   ],
   "source": [
    "#2\n",
    "def almost_pallindrome(s):\n",
    "    rev=s[::-1]\n",
    "    temp=s\n",
    "    if(s==rev):\n",
    "        return True\n",
    "    else:\n",
    "        to=-(len(s)+1//2)\n",
    "        part=s[-1:to:-1]\n",
    "        for i in range(0,len(part)):\n",
    "            s=temp\n",
    "            old=s[-(i+1)]\n",
    "            new=s[i]\n",
    "            s=s.replace(old,new)\n",
    "            rev=s[::-1]\n",
    "            if(s==rev):\n",
    "                return True\n",
    "        return False\n",
    "almost_pallindrome(\"abcaa\")"
   ]
  },
  {
   "cell_type": "code",
   "execution_count": 18,
   "metadata": {},
   "outputs": [
    {
     "data": {
      "text/plain": [
       "10"
      ]
     },
     "execution_count": 18,
     "metadata": {},
     "output_type": "execute_result"
    }
   ],
   "source": [
    "#3\n",
    "def prime(num):\n",
    "    to=(num//2)+2\n",
    "    for i in range(2,to):\n",
    "        if(num%i==0):\n",
    "            return False\n",
    "    return True\n",
    "def prime_numbers(num):\n",
    "    count=0\n",
    "    for i in range(1,num+1):\n",
    "        if(prime(i)):\n",
    "            count+=1\n",
    "    return count\n",
    "prime_numbers(30)"
   ]
  },
  {
   "cell_type": "code",
   "execution_count": 39,
   "metadata": {},
   "outputs": [
    {
     "data": {
      "text/plain": [
       "['Monday', 'Monday', 'Monday']"
      ]
     },
     "execution_count": 39,
     "metadata": {},
     "output_type": "execute_result"
    }
   ],
   "source": [
    "#4\n",
    "import datetime\n",
    "def after_n_days(l,days):\n",
    "    output=[]\n",
    "    week=['Monday','Tuesday','Wednesday','Thursday','Friday','Saturday','Sunday']\n",
    "    for i in l:\n",
    "        location=week.index(i)\n",
    "        for j in range(1,days+1):\n",
    "            if(location+1==len(week)):\n",
    "                location=0\n",
    "            else:\n",
    "                location+=1\n",
    "        new_day=week[location]\n",
    "        output.append(new_day)\n",
    "    return output\n",
    "after_n_days([\"Sunday\", \"Sunday\", \"Sunday\"], 1)\n",
    "#after_n_days([\"Monday\", \"Tuesday\", \"Friday\"], 1) \n",
    "#after_n_days([\"Thursday\", \"Monday\"], 4)"
   ]
  },
  {
   "cell_type": "code",
   "execution_count": 41,
   "metadata": {},
   "outputs": [
    {
     "data": {
      "text/plain": [
       "False"
      ]
     },
     "execution_count": 41,
     "metadata": {},
     "output_type": "execute_result"
    }
   ],
   "source": [
    "#5\n",
    "def is_correct_aliases(l1,l2):\n",
    "    for i in range(len(l1)):\n",
    "        first_letter=l1[i][0]\n",
    "        l=l2[i].split(\" \")\n",
    "        for j in l:\n",
    "            one=j[0]\n",
    "            if(first_letter!=one):\n",
    "                return False\n",
    "    return True\n",
    "#is_correct_aliases([\"Adrian M.\", \"Harriet S.\", \"Mandy T.\"], [\"Amazing Artichoke\", \"Hopeful Hedgehog\", \"Marvelous Mouse\"])\n",
    "is_correct_aliases([\"Beth T.\"], [\"Brandishing Mimosa\"])           "
   ]
  },
  {
   "cell_type": "code",
   "execution_count": null,
   "metadata": {},
   "outputs": [],
   "source": []
  }
 ],
 "metadata": {
  "kernelspec": {
   "display_name": "Python 3",
   "language": "python",
   "name": "python3"
  },
  "language_info": {
   "codemirror_mode": {
    "name": "ipython",
    "version": 3
   },
   "file_extension": ".py",
   "mimetype": "text/x-python",
   "name": "python",
   "nbconvert_exporter": "python",
   "pygments_lexer": "ipython3",
   "version": "3.8.5"
  }
 },
 "nbformat": 4,
 "nbformat_minor": 4
}
