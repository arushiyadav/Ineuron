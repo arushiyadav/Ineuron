{
 "cells": [
  {
   "cell_type": "code",
   "execution_count": 3,
   "metadata": {},
   "outputs": [
    {
     "data": {
      "text/plain": [
       "['b', 'g', 'w']"
      ]
     },
     "execution_count": 3,
     "metadata": {},
     "output_type": "execute_result"
    }
   ],
   "source": [
    "#1\n",
    "def remove_letters(l,s):\n",
    "    for i in s:\n",
    "        if(i in l):\n",
    "            l.remove(i)\n",
    "    return l\n",
    "remove_letters([\"b\", \"b\", \"l\", \"l\", \"g\", \"n\", \"o\", \"a\", \"w\"], \"balloon\")"
   ]
  },
  {
   "cell_type": "code",
   "execution_count": 5,
   "metadata": {},
   "outputs": [
    {
     "data": {
      "text/plain": [
       "39"
      ]
     },
     "execution_count": 5,
     "metadata": {},
     "output_type": "execute_result"
    }
   ],
   "source": [
    "#2\n",
    "def blocks(step):\n",
    "    if(step==0):\n",
    "        return 0\n",
    "    add=0\n",
    "    for i in range(step,0,-1):\n",
    "        add+=i\n",
    "    output=add+(step*3)+((step*2)-1)\n",
    "    return output\n",
    "blocks(5)"
   ]
  },
  {
   "cell_type": "code",
   "execution_count": 19,
   "metadata": {},
   "outputs": [
    {
     "data": {
      "text/plain": [
       "43"
      ]
     },
     "execution_count": 19,
     "metadata": {},
     "output_type": "execute_result"
    }
   ],
   "source": [
    "#3\n",
    "def my_sub(num1,num2):\n",
    "    temp=num1\n",
    "    num1=num2\n",
    "    num2=temp\n",
    "    while (num2 != 0):\n",
    "        borrow = (~num1) & num2\n",
    "        num1=num1^num2\n",
    "        num2=borrow<<1\n",
    "    return num1\n",
    "my_sub(7,50)"
   ]
  },
  {
   "cell_type": "code",
   "execution_count": 24,
   "metadata": {},
   "outputs": [
    {
     "data": {
      "text/plain": [
       "2200"
      ]
     },
     "execution_count": 24,
     "metadata": {},
     "output_type": "execute_result"
    }
   ],
   "source": [
    "#4\n",
    "def add_bill(s):\n",
    "    l=s.split(\",\")\n",
    "    output=0\n",
    "    for i in l:\n",
    "        if(i[0]=='d'):\n",
    "            if(i[2:]=='k'):\n",
    "                i=int(i[1]+'000')\n",
    "                output+=int(i)\n",
    "            else:\n",
    "                output+=int(i[1:])\n",
    "    return output\n",
    "add_bill(\"p30,d2k,p60,d200,p360\")"
   ]
  },
  {
   "cell_type": "code",
   "execution_count": 26,
   "metadata": {},
   "outputs": [
    {
     "data": {
      "text/plain": [
       "[5, 6, 9]"
      ]
     },
     "execution_count": 26,
     "metadata": {},
     "output_type": "execute_result"
    }
   ],
   "source": [
    "#5\n",
    "def flip_list(l):\n",
    "    if(len(l)==0):\n",
    "        return l\n",
    "    elif(type(l[0])==list):\n",
    "        output=[]\n",
    "        for i in l:\n",
    "            output.append(i[0])\n",
    "        return output\n",
    "    else:\n",
    "        output=[]\n",
    "        for i in l:\n",
    "            li=[]\n",
    "            li.append(i)\n",
    "            output.append(li)\n",
    "        return output\n",
    "#flip_list([1, 2, 3, 4])\n",
    "flip_list([[5], [6], [9]])"
   ]
  },
  {
   "cell_type": "code",
   "execution_count": null,
   "metadata": {},
   "outputs": [],
   "source": []
  }
 ],
 "metadata": {
  "kernelspec": {
   "display_name": "Python 3",
   "language": "python",
   "name": "python3"
  },
  "language_info": {
   "codemirror_mode": {
    "name": "ipython",
    "version": 3
   },
   "file_extension": ".py",
   "mimetype": "text/x-python",
   "name": "python",
   "nbconvert_exporter": "python",
   "pygments_lexer": "ipython3",
   "version": "3.8.5"
  }
 },
 "nbformat": 4,
 "nbformat_minor": 4
}
