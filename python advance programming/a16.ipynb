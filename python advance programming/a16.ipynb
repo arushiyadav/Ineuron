{
 "cells": [
  {
   "cell_type": "code",
   "execution_count": 13,
   "metadata": {},
   "outputs": [
    {
     "data": {
      "text/plain": [
       "False"
      ]
     },
     "execution_count": 13,
     "metadata": {},
     "output_type": "execute_result"
    }
   ],
   "source": [
    "#1\n",
    "def valid_rondo(s):\n",
    "    flag=True\n",
    "    if(len(s)<=1):\n",
    "        return False\n",
    "    if((not s.startswith(\"A\")) or (not s.endswith(\"A\"))):\n",
    "        return False\n",
    "    s=s.replace(\"A\",\"\")\n",
    "    if(len(s)==len(set(s))):\n",
    "        if(not s.startswith(\"B\")):\n",
    "            return False\n",
    "        for i in range(0,len(s)-1):\n",
    "            if(ord(s[i+1])!=(ord(s[i])+1)):\n",
    "                return False\n",
    "        return flag\n",
    "    else:\n",
    "        return False\n",
    "            \n",
    "valid_rondo(\"ABAFA\")\n",
    "    \n",
    "    "
   ]
  },
  {
   "cell_type": "code",
   "execution_count": 24,
   "metadata": {},
   "outputs": [
    {
     "data": {
      "text/plain": [
       "'I have a mat.'"
      ]
     },
     "execution_count": 24,
     "metadata": {},
     "output_type": "execute_result"
    }
   ],
   "source": [
    "#2\n",
    "txt = \"I have a cat. I have a mat. Things are going swell.\"\n",
    "txt=txt.lower()\n",
    "def sentence_searcher(txt,s):\n",
    "    l=txt.split(\". \")\n",
    "    st=\"\"\n",
    "    for i in l:\n",
    "        li=i.split(\" \")\n",
    "        if(s.lower() in li):\n",
    "            i=i[0].upper()+i[1:]\n",
    "            return i+\".\"\n",
    "    return st\n",
    "sentence_searcher(txt,\"mat\")\n",
    "        "
   ]
  },
  {
   "cell_type": "code",
   "execution_count": 42,
   "metadata": {},
   "outputs": [
    {
     "data": {
      "text/plain": [
       "'4 30 200 1000'"
      ]
     },
     "execution_count": 42,
     "metadata": {},
     "output_type": "execute_result"
    }
   ],
   "source": [
    "#3\n",
    "def sum_round(num):\n",
    "    s=str(num)\n",
    "    output=\"\"\n",
    "    for i in range(-1,-len(s)-1,-1):\n",
    "        while(s[i]==\"0\"):\n",
    "            output+=\" \"\n",
    "            output+=s[i-1]\n",
    "            output+=s[i]\n",
    "            break\n",
    "        else:\n",
    "            output+=\" \"\n",
    "            output+=s[i]\n",
    "            output+=(len(s[i:])-1)*\"0\"\n",
    "            i-=1\n",
    "    return output.strip()\n",
    "sum_round(1234)\n",
    "            "
   ]
  },
  {
   "cell_type": "code",
   "execution_count": 45,
   "metadata": {},
   "outputs": [
    {
     "data": {
      "text/plain": [
       "[[1, 2, 3], [2, 4, 6], [3, 6, 9]]"
      ]
     },
     "execution_count": 45,
     "metadata": {},
     "output_type": "execute_result"
    }
   ],
   "source": [
    "#4\n",
    "def multiplication_table(n):\n",
    "    output=[]\n",
    "    for i in range(1,n+1):\n",
    "        l=[]\n",
    "        for j in range(1,n+1):\n",
    "            mul=i*j\n",
    "            l.append(mul)\n",
    "        output.append(l)\n",
    "    return output\n",
    "multiplication_table(3)"
   ]
  },
  {
   "cell_type": "code",
   "execution_count": 48,
   "metadata": {},
   "outputs": [
    {
     "data": {
      "text/plain": [
       "False"
      ]
     },
     "execution_count": 48,
     "metadata": {},
     "output_type": "execute_result"
    }
   ],
   "source": [
    "#5\n",
    "def does_rhyme(s1,s2):\n",
    "    l1=s1.split(\" \")\n",
    "    l2=s2.split(\" \")\n",
    "    v1=[i for i in l1[-1] if i in (\"a\",\"e\",\"i\",\"o\",\"u\")]\n",
    "    v2=[j for j in l2[-1] if j in (\"a\",\"e\",\"i\",\"o\",\"u\")]\n",
    "    v1=sorted(v1)\n",
    "    v2=sorted(v2)\n",
    "    if(v1==v2):\n",
    "        return True\n",
    "    else:\n",
    "        return False\n",
    "#does_rhyme(\"Sam I am!\", \"Green eggs and ham.\")\n",
    "does_rhyme(\"and frequently do?\", \"you gotta move.\")"
   ]
  },
  {
   "cell_type": "code",
   "execution_count": null,
   "metadata": {},
   "outputs": [],
   "source": []
  }
 ],
 "metadata": {
  "kernelspec": {
   "display_name": "Python 3",
   "language": "python",
   "name": "python3"
  },
  "language_info": {
   "codemirror_mode": {
    "name": "ipython",
    "version": 3
   },
   "file_extension": ".py",
   "mimetype": "text/x-python",
   "name": "python",
   "nbconvert_exporter": "python",
   "pygments_lexer": "ipython3",
   "version": "3.8.5"
  }
 },
 "nbformat": 4,
 "nbformat_minor": 4
}
