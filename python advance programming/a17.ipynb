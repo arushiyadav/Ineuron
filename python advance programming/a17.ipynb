{
 "cells": [
  {
   "cell_type": "code",
   "execution_count": 18,
   "metadata": {},
   "outputs": [
    {
     "data": {
      "text/plain": [
       "array([[1, 2, 3],\n",
       "       [1, 2, 3],\n",
       "       [1, 2, 3]])"
      ]
     },
     "execution_count": 18,
     "metadata": {},
     "output_type": "execute_result"
    }
   ],
   "source": [
    "#1\n",
    "import numpy as np\n",
    "def transpose_matrix(arr):\n",
    "    shape=np.shape(arr)\n",
    "    l=np.zeros(shape,dtype=int)\n",
    "    for i in range(len(arr)):\n",
    "        for j in range(len(arr[i])):\n",
    "            l[i][j]=arr[j][i]\n",
    "    return l\n",
    "transpose_matrix([\n",
    "[1, 1, 1],\n",
    "[2, 2, 2],\n",
    "[3, 3, 3]\n",
    "])"
   ]
  },
  {
   "cell_type": "code",
   "execution_count": 80,
   "metadata": {},
   "outputs": [
    {
     "data": {
      "text/plain": [
       "False"
      ]
     },
     "execution_count": 80,
     "metadata": {},
     "output_type": "execute_result"
    }
   ],
   "source": [
    "#2\n",
    "def is_valid_hex_code(s):\n",
    "    if(len(s)!=7):\n",
    "        return False\n",
    "    if(s[0]!=\"#\"):\n",
    "        return False\n",
    "    new_s=s[1:]\n",
    "    for i in new_s:\n",
    "        if(i not in ('0','1','2','3','4','5','6','7','8','9','a','b','c','d','e','f','A','B','C','D','E','F')):\n",
    "            return False\n",
    "    return True\n",
    "#is_valid_hex_code(\"#CD5C5C\")\n",
    "#is_valid_hex_code(\"#eaecee\")\n",
    "#is_valid_hex_code(\"#EAECEE\")\n",
    "#is_valid_hex_code(\"#CD5C&C\")\n",
    "#is_valid_hex_code(\"CD5C5C\")\n",
    "#is_valid_hex_code(\"#CD5C5Z\")\n",
    "is_valid_hex_code(\"#CD5C58C\")"
   ]
  },
  {
   "cell_type": "code",
   "execution_count": 110,
   "metadata": {},
   "outputs": [
    {
     "data": {
      "text/plain": [
       "'75%'"
      ]
     },
     "execution_count": 110,
     "metadata": {},
     "output_type": "execute_result"
    }
   ],
   "source": [
    "#3\n",
    "import operator\n",
    "import re\n",
    "op={\"+\":operator.add,\"-\":operator.sub,\"*\":operator.mul,\"/\":operator.truediv}\n",
    "def mark_maths(l):\n",
    "    output=[]\n",
    "    for i in l:\n",
    "        lists=[]\n",
    "        lists=re.split('[-+*/=]',i)\n",
    "        a=int(lists[0])\n",
    "        b=int(lists[1])\n",
    "        c=int(lists[2])\n",
    "        i=i.replace(str(a),\"\")\n",
    "        oper=op[i[0]]\n",
    "        if(oper(a,b) == c):\n",
    "            output.append(1)\n",
    "        else:\n",
    "            output.append(0)\n",
    "    per=round((output.count(1)/len(l))*100)\n",
    "    return str(per)+\"%\"\n",
    "mark_maths([\"2+2=4\", \"3+2=5\", \"10-3=3\", \"5+5=10\"])\n"
   ]
  },
  {
   "cell_type": "code",
   "execution_count": 122,
   "metadata": {},
   "outputs": [
    {
     "data": {
      "text/plain": [
       "False"
      ]
     },
     "execution_count": 122,
     "metadata": {},
     "output_type": "execute_result"
    }
   ],
   "source": [
    "#4\n",
    "import numpy as np\n",
    "def magic_square_game(l1,l2):\n",
    "    ar1=np.zeros((3,3),dtype=int)\n",
    "    ar1[l1[0]-1][0]=l1[1][0]\n",
    "    ar1[l1[0]-1][1]=l1[1][1]\n",
    "    ar1[l1[0]-1][2]=l1[1][2]\n",
    "    sum1=int(l1[1][0])+int(l1[1][1])+int(l1[1][2])\n",
    "    if(sum1%2==0):\n",
    "        return False\n",
    "    ar2=np.zeros((3,3),dtype=int)\n",
    "    ar2[0][l2[0]-1]=l2[1][0]\n",
    "    ar2[1][l2[0]-1]=l2[1][1]\n",
    "    ar2[2][l2[0]-1]=l2[1][2]\n",
    "    sum2=int(l2[1][0])+int(l2[1][1])+int(l2[1][2])\n",
    "    if(sum2%2!=0):\n",
    "        return False\n",
    "    if(ar1[l1[0]-1][l2[0]-1]!=ar2[l1[0]-1][l2[0]-1]):\n",
    "        return False\n",
    "    return True\n",
    "magic_square_game([1, \"010\"], [3, \"101\"])"
   ]
  },
  {
   "cell_type": "code",
   "execution_count": 148,
   "metadata": {},
   "outputs": [
    {
     "data": {
      "text/plain": [
       "'1h 52mins 00s'"
      ]
     },
     "execution_count": 148,
     "metadata": {},
     "output_type": "execute_result"
    }
   ],
   "source": [
    "#5\n",
    "import datetime\n",
    "def lets_meet(c,a,b):\n",
    "    t=c/(a+b)\n",
    "    t_in_sec=t*3600\n",
    "    output=str(datetime.timedelta(seconds=t_in_sec))\n",
    "    l=output.split(\":\")\n",
    "    l.insert(1,\"h \")\n",
    "    l.insert(3,\"mins \")\n",
    "    l.insert(5,\"s\")\n",
    "    st=\"\"\n",
    "    for i in l:\n",
    "        st=st+i\n",
    "    return st\n",
    "lets_meet(280,70,80)\n",
    "    "
   ]
  },
  {
   "cell_type": "code",
   "execution_count": null,
   "metadata": {},
   "outputs": [],
   "source": []
  }
 ],
 "metadata": {
  "kernelspec": {
   "display_name": "Python 3",
   "language": "python",
   "name": "python3"
  },
  "language_info": {
   "codemirror_mode": {
    "name": "ipython",
    "version": 3
   },
   "file_extension": ".py",
   "mimetype": "text/x-python",
   "name": "python",
   "nbconvert_exporter": "python",
   "pygments_lexer": "ipython3",
   "version": "3.8.5"
  }
 },
 "nbformat": 4,
 "nbformat_minor": 4
}
