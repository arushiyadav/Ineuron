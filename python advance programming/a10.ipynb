{
 "cells": [
  {
   "cell_type": "code",
   "execution_count": 4,
   "metadata": {},
   "outputs": [
    {
     "data": {
      "text/plain": [
       "[['**********'], ['*        *'], ['**********']]"
      ]
     },
     "execution_count": 4,
     "metadata": {},
     "output_type": "execute_result"
    }
   ],
   "source": [
    "#1\n",
    "def get_frame(width,height,string):\n",
    "    output=[]\n",
    "    if(width<=2):\n",
    "        return \"invalid\"\n",
    "    for i in range(0,height):\n",
    "        l=[]\n",
    "        if(i==0 or i==height-1):\n",
    "            l.append(string*width)\n",
    "        else:\n",
    "            apnd=string+\" \"*(width-2)+string\n",
    "            l.append(apnd)\n",
    "        output.append(l)\n",
    "    return output\n",
    "get_frame(10, 3, \"*\")"
   ]
  },
  {
   "cell_type": "code",
   "execution_count": 14,
   "metadata": {},
   "outputs": [
    {
     "data": {
      "text/plain": [
       "False"
      ]
     },
     "execution_count": 14,
     "metadata": {},
     "output_type": "execute_result"
    }
   ],
   "source": [
    "#2\n",
    "def boolean_and(l):\n",
    "    output=[]\n",
    "    output.append(l[0])\n",
    "    l.pop(0)\n",
    "    while(len(l)!=0):\n",
    "        if(output[0]==l[0]==True):\n",
    "            l.pop(0)\n",
    "            output.pop(0)\n",
    "            output.append(True)\n",
    "        else:\n",
    "            l.pop(0)\n",
    "            output.pop(0)\n",
    "            output.append(False)\n",
    "    return output[0]\n",
    "\n",
    "boolean_and([True, True, False, True])\n",
    "\n",
    "def boolean_or(l):\n",
    "    output=[]\n",
    "    output.append(l[0])\n",
    "    l.pop(0)\n",
    "    while(len(l)!=0):\n",
    "        if(output[0]==True or l[0]==True):\n",
    "            l.pop(0)\n",
    "            output.pop(0)\n",
    "            output.append(True)\n",
    "        else:\n",
    "            l.pop(0)\n",
    "            output.pop(0)\n",
    "            output.append(False)\n",
    "    return output[0]\n",
    "\n",
    "boolean_or([True, True, False, False])\n",
    "\n",
    "\n",
    "def boolean_xor(l):\n",
    "    output=[]\n",
    "    output.append(l[0])\n",
    "    l.pop(0)\n",
    "    while(len(l)!=0):\n",
    "        if(output[0]!=l[0]):\n",
    "            l.pop(0)\n",
    "            output.pop(0)\n",
    "            output.append(True)\n",
    "        else:\n",
    "            l.pop(0)\n",
    "            output.pop(0)\n",
    "            output.append(False)\n",
    "    return output[0]\n",
    "\n",
    "boolean_xor([True, True, False, False])\n",
    "        "
   ]
  },
  {
   "cell_type": "code",
   "execution_count": 16,
   "metadata": {},
   "outputs": [
    {
     "data": {
      "text/plain": [
       "[['###'], ['# #'], ['###']]"
      ]
     },
     "execution_count": 16,
     "metadata": {},
     "output_type": "execute_result"
    }
   ],
   "source": [
    "#3\n",
    "def make_box(num):\n",
    "    output=[]\n",
    "    for i in range(0,num):\n",
    "        l=[]\n",
    "        if(i==0 or i==num-1):\n",
    "            l.append(\"#\"*num)\n",
    "        else:\n",
    "            apnd=\"#\"+\" \"*(num-2)+\"#\"\n",
    "            l.append(apnd)\n",
    "        output.append(l)\n",
    "    return output\n",
    "make_box(3)"
   ]
  },
  {
   "cell_type": "code",
   "execution_count": 21,
   "metadata": {},
   "outputs": [
    {
     "data": {
      "text/plain": [
       "True"
      ]
     },
     "execution_count": 21,
     "metadata": {},
     "output_type": "execute_result"
    }
   ],
   "source": [
    "#4\n",
    "def no_duplicate_letters(phrase):\n",
    "    l=phrase.split(\" \")\n",
    "    output=True\n",
    "    for i in l:\n",
    "        s=set(i)\n",
    "        tup=tuple(i)\n",
    "        for j in tup:\n",
    "            if(tup.count(j)>1):\n",
    "                return False\n",
    "    return output\n",
    "no_duplicate_letters(\"Fortune favours the bold.\")"
   ]
  },
  {
   "cell_type": "code",
   "execution_count": 50,
   "metadata": {},
   "outputs": [
    {
     "data": {
      "text/plain": [
       "['California ', 'Florida ']"
      ]
     },
     "execution_count": 50,
     "metadata": {},
     "output_type": "execute_result"
    }
   ],
   "source": [
    "#5\n",
    "import regex as re\n",
    "txt = \"Texas = no, California = yes, Florida = yes, Michigan = no\"\n",
    "pattern=\"[A-Za-z]*\\s(?== yes)\"\n",
    "re.findall(pattern, txt)"
   ]
  },
  {
   "cell_type": "code",
   "execution_count": null,
   "metadata": {},
   "outputs": [],
   "source": []
  }
 ],
 "metadata": {
  "kernelspec": {
   "display_name": "Python 3",
   "language": "python",
   "name": "python3"
  },
  "language_info": {
   "codemirror_mode": {
    "name": "ipython",
    "version": 3
   },
   "file_extension": ".py",
   "mimetype": "text/x-python",
   "name": "python",
   "nbconvert_exporter": "python",
   "pygments_lexer": "ipython3",
   "version": "3.8.5"
  }
 },
 "nbformat": 4,
 "nbformat_minor": 4
}
