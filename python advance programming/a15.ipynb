{
 "cells": [
  {
   "cell_type": "code",
   "execution_count": 7,
   "metadata": {},
   "outputs": [
    {
     "data": {
      "text/plain": [
       "False"
      ]
     },
     "execution_count": 7,
     "metadata": {},
     "output_type": "execute_result"
    }
   ],
   "source": [
    "#1\n",
    "def anagram(s,l):\n",
    "    li=[i.lower() for i in s if i!=\" \"]\n",
    "    for i in l:\n",
    "        for j in i:\n",
    "            if(j in li):\n",
    "                li.remove(j)\n",
    "            else:\n",
    "                return False\n",
    "    if(len(li)==0):\n",
    "        return True\n",
    "    else:\n",
    "        return False\n",
    "#anagram(\"Justin Bieber\", [\"injures\", \"ebb\", \"it\"])\n",
    "#anagram(\"Natalie Portman\", [\"ornamental\", \"pita\"]) \n",
    "#anagram(\"Chris Pratt\", [\"chirps\", \"rat\"])\n",
    "anagram(\"Jeff Goldblum\", [\"jog\", \"meld\", \"bluffs\"])"
   ]
  },
  {
   "cell_type": "code",
   "execution_count": 25,
   "metadata": {},
   "outputs": [
    {
     "data": {
      "text/plain": [
       "[{'name': 'c', 'score': 115, 'reputation': 30},\n",
       " {'name': 'b', 'score': 90, 'reputation': 40},\n",
       " {'name': 'a', 'score': 100, 'reputation': 20}]"
      ]
     },
     "execution_count": 25,
     "metadata": {},
     "output_type": "execute_result"
    }
   ],
   "source": [
    "#2\n",
    "def leaderboards(l):\n",
    "    output=[]\n",
    "    score_list=[]\n",
    "    for i in l:\n",
    "        add=i['score']+(i['reputation']*2)\n",
    "        i['total']=add\n",
    "        score_list.append(i['total'])\n",
    "    score_list=sorted(score_list,reverse=True)\n",
    "    for k in score_list:\n",
    "        for x in l:\n",
    "            if(k==x['total']):\n",
    "                output.append(x)\n",
    "    for item in output:\n",
    "        item.pop('total')\n",
    "    return output\n",
    "\n",
    "leaderboards([\n",
    "{ \"name\": \"a\", \"score\": 100, \"reputation\": 20 },\n",
    "{ \"name\": \"b\", \"score\": 90, \"reputation\": 40 },\n",
    "{ \"name\": \"c\", \"score\": 115, \"reputation\": 30 },\n",
    "])"
   ]
  },
  {
   "cell_type": "code",
   "execution_count": 33,
   "metadata": {},
   "outputs": [
    {
     "data": {
      "text/plain": [
       "'-e\"- a -e-y -a----y --y!'"
      ]
     },
     "execution_count": 33,
     "metadata": {},
     "output_type": "execute_result"
    }
   ],
   "source": [
    "#3\n",
    "def hangman(s,l):\n",
    "    for i in s:\n",
    "        if((i not in l) and i not in (\"!\",\"@\",\"#\",\"$\",\"%\",\"&\",\"*\",\"'\",\"\\\"\",\" \")):\n",
    "            s=s.replace(i,\"-\")\n",
    "    return s\n",
    "hangman(\"He\\\"s a very naughty boy!\", [\"e\", \"a\", \"y\"])"
   ]
  },
  {
   "cell_type": "code",
   "execution_count": 40,
   "metadata": {},
   "outputs": [
    {
     "data": {
      "text/plain": [
       "[10, 5, 16, 8, 4, 2, 1]"
      ]
     },
     "execution_count": 40,
     "metadata": {},
     "output_type": "execute_result"
    }
   ],
   "source": [
    "#4\n",
    "def max_collatz(num):\n",
    "    l=[num]\n",
    "    while(num!=1):\n",
    "        if(num%2==0):\n",
    "            num=num//2\n",
    "            l.append(num)\n",
    "        else:\n",
    "            num=(num*3)+1\n",
    "            l.append(num)\n",
    "    return l\n",
    "max_collatz(10)"
   ]
  },
  {
   "cell_type": "code",
   "execution_count": 49,
   "metadata": {},
   "outputs": [
    {
     "data": {
      "text/plain": [
       "[444, 563, 789, 1, 2, 5, 9]"
      ]
     },
     "execution_count": 49,
     "metadata": {},
     "output_type": "execute_result"
    }
   ],
   "source": [
    "#5\n",
    "def digit_sort(l):\n",
    "    dic={}\n",
    "    output=[]\n",
    "    l=sorted(l)\n",
    "    for i in l:\n",
    "        dic[i]=len(str(i))\n",
    "    sort=[]\n",
    "    for j in dic:\n",
    "        sort.append(dic[j])\n",
    "    sort=set(sort)\n",
    "    sort=list(sort)\n",
    "    sort=sorted(sort,reverse=True)\n",
    "    for k in sort:\n",
    "        for item in dic:\n",
    "            if(k==dic[item]):\n",
    "                output.append(item)\n",
    "    return output\n",
    "#digit_sort([77, 23, 5, 7, 101])\n",
    "digit_sort([1, 5, 9, 2, 789, 563, 444])"
   ]
  },
  {
   "cell_type": "code",
   "execution_count": null,
   "metadata": {},
   "outputs": [],
   "source": []
  }
 ],
 "metadata": {
  "kernelspec": {
   "display_name": "Python 3",
   "language": "python",
   "name": "python3"
  },
  "language_info": {
   "codemirror_mode": {
    "name": "ipython",
    "version": 3
   },
   "file_extension": ".py",
   "mimetype": "text/x-python",
   "name": "python",
   "nbconvert_exporter": "python",
   "pygments_lexer": "ipython3",
   "version": "3.8.5"
  }
 },
 "nbformat": 4,
 "nbformat_minor": 4
}
