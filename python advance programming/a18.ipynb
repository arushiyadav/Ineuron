{
 "cells": [
  {
   "cell_type": "code",
   "execution_count": 2,
   "metadata": {},
   "outputs": [
    {
     "data": {
      "text/plain": [
       "[-20, 40]"
      ]
     },
     "execution_count": 2,
     "metadata": {},
     "output_type": "execute_result"
    }
   ],
   "source": [
    "#1\n",
    "def track_robot(l):\n",
    "    output=[0,0]\n",
    "    for i in l:\n",
    "        l1=i.split(\" \")\n",
    "        if(l1[0]==\"right\"):\n",
    "            output[0]+=int(l1[1])\n",
    "        if(l1[0]==\"up\"):\n",
    "            output[1]+=int(l1[1])\n",
    "        if(l1[0]==\"down\"):\n",
    "            output[1]-=int(l1[1])\n",
    "        if(l1[0]==\"left\"):\n",
    "            output[0]-=int(l1[1])\n",
    "    return output\n",
    "track_robot([\"right 10\", \"up 50\", \"left 30\", \"down 10\"])\n",
    "            "
   ]
  },
  {
   "cell_type": "code",
   "execution_count": 8,
   "metadata": {},
   "outputs": [
    {
     "data": {
      "text/plain": [
       "'Forgetfulness'"
      ]
     },
     "execution_count": 8,
     "metadata": {},
     "output_type": "execute_result"
    }
   ],
   "source": [
    "#2\n",
    "def find_longest(s):\n",
    "    l=s.split(\" \")\n",
    "    li=[]\n",
    "    for i in l:\n",
    "        li.append(len(i))\n",
    "    max_len=max(li)\n",
    "    for j in l:\n",
    "        if(max_len==len(j)):\n",
    "            return j\n",
    "find_longest(\"Forgetfulness is by all means powerless!\")\n",
    "        "
   ]
  },
  {
   "cell_type": "code",
   "execution_count": 10,
   "metadata": {},
   "outputs": [
    {
     "data": {
      "text/plain": [
       "'disqaulified'"
      ]
     },
     "execution_count": 10,
     "metadata": {},
     "output_type": "execute_result"
    }
   ],
   "source": [
    "#3\n",
    "def interview(l,num):\n",
    "    if(len(l)<8):\n",
    "        return \"disqaulified\"\n",
    "    if(num>120):\n",
    "        return \"disqualified\"\n",
    "    if(l[0]>5 or l[1]>5):\n",
    "        return \"disqaulified\"\n",
    "    if(l[2]>10 or l[3]>10):\n",
    "        return \"disqaulified\"\n",
    "    if(l[4]>15 or l[5]>15):\n",
    "        return \"disqaulified\"\n",
    "    if(l[6]>20 or l[7]>20):\n",
    "        return \"disqaulified\"\n",
    "    return \"qualified\"\n",
    "interview([5, 5, 10, 10, 25, 15, 20, 20], 120)"
   ]
  },
  {
   "cell_type": "code",
   "execution_count": 12,
   "metadata": {},
   "outputs": [
    {
     "data": {
      "text/plain": [
       "[[2, 3], [4, 5], [6]]"
      ]
     },
     "execution_count": 12,
     "metadata": {},
     "output_type": "execute_result"
    }
   ],
   "source": [
    "#4\n",
    "def chunkify(l,num):\n",
    "    output=[]\n",
    "    li=[]\n",
    "    for i in l:\n",
    "        if(len(li)==2):\n",
    "            output.append(li)\n",
    "            li=[]\n",
    "        if(i==l[-1]):\n",
    "            if(i not in output[-1]):\n",
    "                l2=[i]\n",
    "                output.append(l2)\n",
    "        li.append(i)\n",
    "    return output\n",
    "chunkify([2, 3, 4, 5, 6], 2)\n",
    "    "
   ]
  },
  {
   "cell_type": "code",
   "execution_count": 24,
   "metadata": {},
   "outputs": [
    {
     "data": {
      "text/plain": [
       "[1.99, 5.99, 0.75]"
      ]
     },
     "execution_count": 24,
     "metadata": {},
     "output_type": "execute_result"
    }
   ],
   "source": [
    "#5\n",
    "def get_prices(l):\n",
    "    start=0\n",
    "    end=0\n",
    "    output=[]\n",
    "    if(len(l)>1):\n",
    "        for i in l:\n",
    "            start=i.index(\"$\")\n",
    "            end=i.index(\")\")\n",
    "            output.append(float(i[start+1:end]))\n",
    "    else:\n",
    "        start=l[0].index(\"$\")\n",
    "        end=l[0].index(\")\")\n",
    "        output.append(float(l[0][start+1:end]))\n",
    "    return output\n",
    "get_prices([\n",
    "\"artichokes ($1.99)\",\n",
    "\"rotiserrie chicken ($5.99)\",\n",
    "\"gum ($0.75)\"\n",
    "])"
   ]
  },
  {
   "cell_type": "code",
   "execution_count": null,
   "metadata": {},
   "outputs": [],
   "source": []
  }
 ],
 "metadata": {
  "kernelspec": {
   "display_name": "Python 3",
   "language": "python",
   "name": "python3"
  },
  "language_info": {
   "codemirror_mode": {
    "name": "ipython",
    "version": 3
   },
   "file_extension": ".py",
   "mimetype": "text/x-python",
   "name": "python",
   "nbconvert_exporter": "python",
   "pygments_lexer": "ipython3",
   "version": "3.8.5"
  }
 },
 "nbformat": 4,
 "nbformat_minor": 4
}
