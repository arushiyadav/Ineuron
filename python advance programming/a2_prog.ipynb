{
 "cells": [
  {
   "cell_type": "code",
   "execution_count": 7,
   "metadata": {},
   "outputs": [
    {
     "data": {
      "text/plain": [
       "41"
      ]
     },
     "execution_count": 7,
     "metadata": {},
     "output_type": "execute_result"
    }
   ],
   "source": [
    "#1 \n",
    "def pentagonal(num):\n",
    "    dots=1\n",
    "    if(num==1):\n",
    "        return 1\n",
    "    elif(num==2):\n",
    "        return 6\n",
    "    else:\n",
    "        while(num!=0):\n",
    "            dots+=5\n",
    "            num-=1\n",
    "    return dots\n",
    "pentagonal(8)"
   ]
  },
  {
   "cell_type": "code",
   "execution_count": 17,
   "metadata": {},
   "outputs": [
    {
     "data": {
      "text/plain": [
       "'0n0n0baca'"
      ]
     },
     "execution_count": 17,
     "metadata": {},
     "output_type": "execute_result"
    }
   ],
   "source": [
    "#2\n",
    "dic={'a':0,'e':1,'o':2,'i':2,'u':3}\n",
    "def encrypt(s):\n",
    "    output=s[::-1]\n",
    "    l=[]\n",
    "    for i in output:\n",
    "        if(i in dic):\n",
    "            l.append(dic[i])\n",
    "        else:\n",
    "            l.append(i)\n",
    "    l.append('aca')\n",
    "    new=\"\"\n",
    "    for j in l:\n",
    "        new+=str(j)\n",
    "    return new\n",
    "encrypt(\"banana\")\n",
    "    "
   ]
  },
  {
   "cell_type": "code",
   "execution_count": 27,
   "metadata": {},
   "outputs": [
    {
     "name": "stdout",
     "output_type": "stream",
     "text": [
      "4\n"
     ]
    },
    {
     "data": {
      "text/plain": [
       "True"
      ]
     },
     "execution_count": 27,
     "metadata": {},
     "output_type": "execute_result"
    }
   ],
   "source": [
    "#3\n",
    "import datetime\n",
    "def has_friday_13(month, year):\n",
    "    date=datetime.datetime(year, month, 13)\n",
    "    day=date.weekday()\n",
    "    print(day)\n",
    "    if(day==4): #monday=0 and sunday=6\n",
    "        return True\n",
    "    else:\n",
    "        return False\n",
    "has_friday_13(3,2020)  "
   ]
  },
  {
   "cell_type": "code",
   "execution_count": 32,
   "metadata": {},
   "outputs": [
    {
     "data": {
      "text/plain": [
       "2"
      ]
     },
     "execution_count": 32,
     "metadata": {},
     "output_type": "execute_result"
    }
   ],
   "source": [
    "#4\n",
    "import re\n",
    "lst = [\"bad cookie\", \"good cookie\", \"bad cookie\", \"good cookie\", \"good cookie\"]\n",
    "pattern='bad cookie'\n",
    "len(re.findall(pattern,\",\".join(lst)))"
   ]
  },
  {
   "cell_type": "code",
   "execution_count": 38,
   "metadata": {},
   "outputs": [
    {
     "data": {
      "text/plain": [
       "{'cows', 'pig'}"
      ]
     },
     "execution_count": 38,
     "metadata": {},
     "output_type": "execute_result"
    }
   ],
   "source": [
    "#5\n",
    "def pluralize(l):\n",
    "    set1=set({})\n",
    "    for i in l:\n",
    "        if(l.count(i)>1):\n",
    "            s=i+\"s\"\n",
    "            set1.add(s)\n",
    "        else:\n",
    "            set1.add(i)\n",
    "    return set1\n",
    "pluralize(['cow','pig','cow'])"
   ]
  },
  {
   "cell_type": "code",
   "execution_count": null,
   "metadata": {},
   "outputs": [],
   "source": []
  }
 ],
 "metadata": {
  "kernelspec": {
   "display_name": "Python 3",
   "language": "python",
   "name": "python3"
  },
  "language_info": {
   "codemirror_mode": {
    "name": "ipython",
    "version": 3
   },
   "file_extension": ".py",
   "mimetype": "text/x-python",
   "name": "python",
   "nbconvert_exporter": "python",
   "pygments_lexer": "ipython3",
   "version": "3.8.5"
  }
 },
 "nbformat": 4,
 "nbformat_minor": 4
}
