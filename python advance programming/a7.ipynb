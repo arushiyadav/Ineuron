{
 "cells": [
  {
   "cell_type": "code",
   "execution_count": 1,
   "metadata": {},
   "outputs": [
    {
     "data": {
      "text/plain": [
       "5"
      ]
     },
     "execution_count": 1,
     "metadata": {},
     "output_type": "execute_result"
    }
   ],
   "source": [
    "#1\n",
    "def count_layers(arr):\n",
    "    s=set(arr)\n",
    "    return len(s)\n",
    "count_layers([\n",
    "\"AAAAAAAAAAA\",\n",
    "\"AABBBBBBBAA\",\n",
    "\"AABCCCCCBAA\",\n",
    "\"AABCAAACBAA\",\n",
    "\"AABCADACBAA\",\n",
    "\"AABCAAACBAA\",\n",
    "\"AABCCCCCBAA\",\n",
    "\"AABBBBBBBAA\",\n",
    "\"AAAAAAAAAAA\"\n",
    "])"
   ]
  },
  {
   "cell_type": "code",
   "execution_count": 10,
   "metadata": {},
   "outputs": [
    {
     "data": {
      "text/plain": [
       "9"
      ]
     },
     "execution_count": 10,
     "metadata": {},
     "output_type": "execute_result"
    }
   ],
   "source": [
    "#2\n",
    "def unique_styles(arr):\n",
    "    l1=[]\n",
    "    for i in arr:\n",
    "        l=i.split(\",\")\n",
    "        for j in l:\n",
    "            l1.append(j)\n",
    "    s=set(l1)\n",
    "    return len(s)\n",
    "unique_styles([\n",
    "\"Dub,Dancehall\",\n",
    "\"Industrial,Heavy Metal\",\n",
    "\"Techno,Dubstep\",\n",
    "\"Synth-pop,Euro-Disco\",\n",
    "\"Industrial,Techno,Minimal\"\n",
    "])"
   ]
  },
  {
   "cell_type": "code",
   "execution_count": 32,
   "metadata": {},
   "outputs": [
    {
     "data": {
      "text/plain": [
       "False"
      ]
     },
     "execution_count": 32,
     "metadata": {},
     "output_type": "execute_result"
    }
   ],
   "source": [
    "#3\n",
    "primes = [2, 3, 5, 7, 11, 13, 17, 19, 23, 29, 31, 37, 41, 43, 47, 53, 59, 61, 67,\n",
    "71, 73, 79, 83, 89, 97]\n",
    "def is_primes(primes,num):\n",
    "    while(len(primes)>1):\n",
    "        if(len(primes)%2==0):\n",
    "            middle=primes[(len(primes)//2)]\n",
    "        else:\n",
    "            middle=primes[((len(primes)+1)//2)]\n",
    "        if(middle==num):\n",
    "            return True\n",
    "        if(num>middle):\n",
    "            primes=primes[primes.index(middle):-1]\n",
    "        else:\n",
    "            primes=primes[0:primes.index(middle)]\n",
    "    else:\n",
    "        return False\n",
    "        \n",
    "        \n",
    "    \n",
    "\n",
    "\n",
    "is_primes(primes,6)"
   ]
  },
  {
   "cell_type": "code",
   "execution_count": 34,
   "metadata": {},
   "outputs": [
    {
     "data": {
      "text/plain": [
       "3"
      ]
     },
     "execution_count": 34,
     "metadata": {},
     "output_type": "execute_result"
    }
   ],
   "source": [
    "#4\n",
    "import math\n",
    "def power_ranger(n,a,b):\n",
    "    count=0\n",
    "    to=math.ceil(math.sqrt(b))\n",
    "    for i in range(1,to):\n",
    "        power=i**n\n",
    "        if(power>=a and power<=b):\n",
    "            count+=1\n",
    "    return count\n",
    "power_ranger(4, 250, 1300)"
   ]
  },
  {
   "cell_type": "code",
   "execution_count": 44,
   "metadata": {},
   "outputs": [
    {
     "data": {
      "text/plain": [
       "760833"
      ]
     },
     "execution_count": 44,
     "metadata": {},
     "output_type": "execute_result"
    }
   ],
   "source": [
    "#5\n",
    "def rearranged_difference(num):\n",
    "    s=str(num)\n",
    "    mini=\"\"\n",
    "    maxi=\"\"\n",
    "    minimum=sorted(s)\n",
    "    for i in minimum:\n",
    "        mini+=i\n",
    "    maximum=sorted(s,reverse=True)\n",
    "    for j in maximum:\n",
    "        maxi+=j\n",
    "    diff=int(maxi)-int(mini)\n",
    "    return diff\n",
    "rearranged_difference(972882)\n",
    "    "
   ]
  },
  {
   "cell_type": "code",
   "execution_count": null,
   "metadata": {},
   "outputs": [],
   "source": []
  }
 ],
 "metadata": {
  "kernelspec": {
   "display_name": "Python 3",
   "language": "python",
   "name": "python3"
  },
  "language_info": {
   "codemirror_mode": {
    "name": "ipython",
    "version": 3
   },
   "file_extension": ".py",
   "mimetype": "text/x-python",
   "name": "python",
   "nbconvert_exporter": "python",
   "pygments_lexer": "ipython3",
   "version": "3.8.5"
  }
 },
 "nbformat": 4,
 "nbformat_minor": 4
}
