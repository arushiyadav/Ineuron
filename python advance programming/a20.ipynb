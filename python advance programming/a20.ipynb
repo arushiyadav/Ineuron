{
 "cells": [
  {
   "cell_type": "code",
   "execution_count": 5,
   "metadata": {},
   "outputs": [
    {
     "data": {
      "text/plain": [
       "\"<p class='one two thre'></p>\""
      ]
     },
     "execution_count": 5,
     "metadata": {},
     "output_type": "execute_result"
    }
   ],
   "source": [
    "#1\n",
    "def secret(s):\n",
    "    output=\"<\"\n",
    "    l=s.split(\".\")\n",
    "    output+=l[0]\n",
    "    output+=\" class=\\'\"\n",
    "    for i in range(1,len(l)):\n",
    "        output+=l[i]\n",
    "        output+=\" \"\n",
    "    output=output[:-2]\n",
    "    output+=\"\\'></\"\n",
    "    output+=l[0]\n",
    "    output+=\">\"\n",
    "    return output\n",
    "secret(\"p.one.two.three\")\n",
    "    "
   ]
  },
  {
   "cell_type": "code",
   "execution_count": 16,
   "metadata": {},
   "outputs": [
    {
     "data": {
      "text/plain": [
       "0"
      ]
     },
     "execution_count": 16,
     "metadata": {},
     "output_type": "execute_result"
    }
   ],
   "source": [
    "#2\n",
    "def count_lone_ones(num):\n",
    "    s=str(num)\n",
    "    count=0\n",
    "    for i in range(len(s)):\n",
    "        if(i==0 and s[i]==\"1\"):\n",
    "            if(s[i+1]!=\"1\"):\n",
    "                count+=1\n",
    "        elif(i==(len(s)-1) and s[i]==\"1\"):\n",
    "            if(s[-2]!=\"1\"):\n",
    "                count+=1\n",
    "        else:\n",
    "            if(i!=0 and i!=(len(s)-1) and s[i-1]!=\"1\" and s[i+1]!=\"1\" and s[i]==\"1\" ):\n",
    "                count+=1\n",
    "    return count\n",
    "count_lone_ones(462)"
   ]
  },
  {
   "cell_type": "code",
   "execution_count": 20,
   "metadata": {},
   "outputs": [
    {
     "data": {
      "text/plain": [
       "array([[1],\n",
       "       [2],\n",
       "       [3],\n",
       "       [4]])"
      ]
     },
     "execution_count": 20,
     "metadata": {},
     "output_type": "execute_result"
    }
   ],
   "source": [
    "#3\n",
    "import numpy as np\n",
    "def printGrid(row,col):\n",
    "    output=np.zeros((row,col),int)\n",
    "    num=1\n",
    "    for j in range(col):\n",
    "        for i in range(row):\n",
    "            output[i][j]=num\n",
    "            num+=1\n",
    "    return output\n",
    "printGrid(4,1)"
   ]
  },
  {
   "cell_type": "code",
   "execution_count": 22,
   "metadata": {},
   "outputs": [
    {
     "data": {
      "text/plain": [
       "8"
      ]
     },
     "execution_count": 22,
     "metadata": {},
     "output_type": "execute_result"
    }
   ],
   "source": [
    "#4\n",
    "def min_miss_pos(l):\n",
    "    mini=min(l)\n",
    "    maxi=max(l)\n",
    "    for i in range(mini,maxi):\n",
    "        if(i not in l and i!=0):\n",
    "            return i\n",
    "min_miss_pos([-2, 6, 4, 5, 7, -1, 1, 3, 6, -2, 9, 10, 2, 2])"
   ]
  },
  {
   "cell_type": "code",
   "execution_count": 35,
   "metadata": {},
   "outputs": [
    {
     "data": {
      "text/plain": [
       "[]"
      ]
     },
     "execution_count": 35,
     "metadata": {},
     "output_type": "execute_result"
    }
   ],
   "source": [
    "#5\n",
    "customers = {\n",
    "\"Batman\": [22, 30, 11, 17, 15, 52, 27, 12],\n",
    "\"Spider-Man\": [5, 17, 30, 33, 40, 22, 26, 10, 11, 45]\n",
    "}\n",
    "\n",
    "def pizza_points(customers,mini_order,mini_price):\n",
    "    output=[]\n",
    "    for i in customers:\n",
    "        count=0\n",
    "        mini=min(customers[i])\n",
    "        li=customers[i]\n",
    "        for j in li:\n",
    "            if(j>=mini_price):\n",
    "                count+=1\n",
    "        if(count>=mini_order):\n",
    "            output.append(i)\n",
    "    return output\n",
    "pizza_points(customers,5,100)"
   ]
  },
  {
   "cell_type": "code",
   "execution_count": null,
   "metadata": {},
   "outputs": [],
   "source": []
  }
 ],
 "metadata": {
  "kernelspec": {
   "display_name": "Python 3",
   "language": "python",
   "name": "python3"
  },
  "language_info": {
   "codemirror_mode": {
    "name": "ipython",
    "version": 3
   },
   "file_extension": ".py",
   "mimetype": "text/x-python",
   "name": "python",
   "nbconvert_exporter": "python",
   "pygments_lexer": "ipython3",
   "version": "3.8.5"
  }
 },
 "nbformat": 4,
 "nbformat_minor": 4
}
