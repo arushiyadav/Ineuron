{
 "cells": [
  {
   "cell_type": "code",
   "execution_count": null,
   "metadata": {},
   "outputs": [],
   "source": [
    "1. True and False are two boolean values\n",
    "example:\n",
    "    a=True\n",
    "    b=False"
   ]
  },
  {
   "cell_type": "code",
   "execution_count": null,
   "metadata": {},
   "outputs": [],
   "source": [
    "2. Boolean operators\n",
    "AND--True and True gives True\n",
    "OR-- True or False gives True\n",
    "NOT-- not(True) gives False\n"
   ]
  },
  {
   "cell_type": "code",
   "execution_count": 5,
   "metadata": {},
   "outputs": [
    {
     "data": {
      "text/plain": [
       "False"
      ]
     },
     "execution_count": 5,
     "metadata": {},
     "output_type": "execute_result"
    }
   ],
   "source": [
    "3. 1= True\n",
    "   0= False\n",
    "---------------------\n",
    "Truth table of AND\n",
    "v1 is value1\n",
    "v2 is value2\n",
    "o/p is output\n",
    "v1 v2 o/p\n",
    "0   0  0\n",
    "0   1  0\n",
    "1   0  0\n",
    "1   1  1\n",
    "----------------------\n",
    "Truth table of OR\n",
    "v1 is value1\n",
    "v2 is value2\n",
    "o/p is output\n",
    "v1 v2 o/p\n",
    "0   0  0\n",
    "0   1  1\n",
    "1   0  1\n",
    "1   1  1\n",
    "-----------------------\n",
    "Truth table of NOT\n",
    "v1 is value1\n",
    "o/p is output\n",
    "v1  o/p\n",
    "0     0\n",
    "1     1\n"
   ]
  },
  {
   "cell_type": "code",
   "execution_count": 6,
   "metadata": {},
   "outputs": [
    {
     "data": {
      "text/plain": [
       "False"
      ]
     },
     "execution_count": 6,
     "metadata": {},
     "output_type": "execute_result"
    }
   ],
   "source": [
    "4. a)False\n",
    "b)False\n",
    "c)True\n",
    "d)False\n",
    "e)False\n",
    "f)True"
   ]
  },
  {
   "cell_type": "code",
   "execution_count": null,
   "metadata": {},
   "outputs": [],
   "source": [
    "5.Six reference operator of python\n",
    "==\n",
    "!=\n",
    "<=\n",
    ">=\n",
    "<\n",
    ">"
   ]
  },
  {
   "cell_type": "code",
   "execution_count": null,
   "metadata": {},
   "outputs": [],
   "source": [
    "6.equal operator is == This will give true or false on the basis of value if V1 is equal to V2 it will give true as result.\n",
    "assignment operator can be:\n",
    "    = This is used to assign some value to any variable like v1=10 i.e V1 holds 10 as its value.\n",
    "    +=\n",
    "    -=\n",
    "    /=\n",
    "    *="
   ]
  },
  {
   "cell_type": "code",
   "execution_count": null,
   "metadata": {},
   "outputs": [],
   "source": [
    "7. Condition, is a situation where we will take decision.\n",
    "Example if I want to check age of user and it should be above 18 to give vote.So this I can give in the condition as follows:\n",
    "    if(age>18):\n",
    "        print(\"you are eligible\")\n",
    "    else:\n",
    "        print(\"Not eligible\")"
   ]
  },
  {
   "cell_type": "code",
   "execution_count": null,
   "metadata": {},
   "outputs": [],
   "source": [
    "8.\n",
    "spam = 0\n",
    "if spam == 10:------1st block start\n",
    "    print('eggs')\n",
    "    if spam > 5:-----2nd block start\n",
    "        print('bacon')-----2nd block end\n",
    "    else:-----------3rd block start\n",
    "        print('ham')-----3rd block end\n",
    "    print('spam')------1st block end\n",
    "print('spam')\n"
   ]
  },
  {
   "cell_type": "code",
   "execution_count": 11,
   "metadata": {},
   "outputs": [
    {
     "name": "stdout",
     "output_type": "stream",
     "text": [
      "something else\n"
     ]
    }
   ],
   "source": [
    "9.\n",
    "spam = 0\n",
    "if spam == 1:\n",
    "    print('Hello')\n",
    "elif spam==2:\n",
    "    print('Howdy')\n",
    "elif spam==3:\n",
    "    print('Salutations!')\n",
    "else:\n",
    "    print('something else')\n",
    "   \n"
   ]
  },
  {
   "cell_type": "code",
   "execution_count": 15,
   "metadata": {},
   "outputs": [
    {
     "data": {
      "text/plain": [
       "10.0"
      ]
     },
     "execution_count": 15,
     "metadata": {},
     "output_type": "execute_result"
    }
   ],
   "source": [
    "10. Esc+I I will interrupt the kernel\n",
    "    "
   ]
  },
  {
   "cell_type": "code",
   "execution_count": null,
   "metadata": {},
   "outputs": [],
   "source": [
    "11. Break -it is used to come out of loop\n",
    "Continue - it will continue with next iteration without executing commands below it\n",
    "\n",
    "example:\n",
    "    for i in range(0,5):\n",
    "        if(i==2):\n",
    "            continue\n",
    "        if(i==3):\n",
    "            break\n",
    "        print(i)"
   ]
  },
  {
   "cell_type": "code",
   "execution_count": 20,
   "metadata": {},
   "outputs": [
    {
     "name": "stdout",
     "output_type": "stream",
     "text": [
      "0\n",
      "1\n",
      "2\n",
      "3\n",
      "4\n",
      "5\n",
      "6\n",
      "7\n",
      "8\n",
      "9\n"
     ]
    }
   ],
   "source": [
    "12. All are same , if we iterate in these range value from 0 to 9 will get printed"
   ]
  },
  {
   "cell_type": "code",
   "execution_count": 24,
   "metadata": {},
   "outputs": [
    {
     "name": "stdout",
     "output_type": "stream",
     "text": [
      "1\n",
      "2\n",
      "3\n",
      "4\n",
      "5\n",
      "6\n",
      "7\n",
      "8\n",
      "9\n",
      "10\n"
     ]
    }
   ],
   "source": [
    "13.\n",
    "for i in range(1,11):\n",
    "    print(i)\n",
    "---------------------------    \n",
    "i=1\n",
    "while(i<11):\n",
    "    print(i)\n",
    "    i+=1"
   ]
  },
  {
   "cell_type": "code",
   "execution_count": null,
   "metadata": {},
   "outputs": [],
   "source": [
    "14.\n",
    "spam.bacon()"
   ]
  },
  {
   "cell_type": "code",
   "execution_count": null,
   "metadata": {},
   "outputs": [],
   "source": []
  }
 ],
 "metadata": {
  "kernelspec": {
   "display_name": "Python 3",
   "language": "python",
   "name": "python3"
  },
  "language_info": {
   "codemirror_mode": {
    "name": "ipython",
    "version": 3
   },
   "file_extension": ".py",
   "mimetype": "text/x-python",
   "name": "python",
   "nbconvert_exporter": "python",
   "pygments_lexer": "ipython3",
   "version": "3.8.5"
  }
 },
 "nbformat": 4,
 "nbformat_minor": 4
}
