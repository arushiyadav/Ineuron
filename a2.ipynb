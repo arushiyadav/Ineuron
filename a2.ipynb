{
 "cells": [
  {
   "cell_type": "code",
   "execution_count": 2,
   "metadata": {},
   "outputs": [
    {
     "data": {
      "text/plain": [
       "'A module in python is simply a way to organize the code, and it contains either python classes or just functions.\\nClasses are blueprints of the real world entity\\nClasses can be instantiated as objects but module cannot.'"
      ]
     },
     "execution_count": 2,
     "metadata": {},
     "output_type": "execute_result"
    }
   ],
   "source": [
    "#1\n",
    "\"\"\"A module in python is simply a way to organize the code, and it contains either python classes or just functions.\n",
    "Classes are blueprints of the real world entity\n",
    "Classes can be instantiated as objects but module cannot.\"\"\""
   ]
  },
  {
   "cell_type": "code",
   "execution_count": 6,
   "metadata": {},
   "outputs": [
    {
     "data": {
      "text/plain": [
       "23"
      ]
     },
     "execution_count": 6,
     "metadata": {},
     "output_type": "execute_result"
    }
   ],
   "source": [
    "#2\n",
    "class Student: ----># making class\n",
    "    def __init__(self,age):\n",
    "        self.age=age\n",
    "stu1=Student(23)----> #instance of class\n",
    "stu1.age"
   ]
  },
  {
   "cell_type": "markdown",
   "metadata": {},
   "source": [
    "#3\n",
    "class Student: ----># making class\n",
    "    def __init__(self,age): ---> #defining its attribute\n",
    "        self.age=age"
   ]
  },
  {
   "cell_type": "code",
   "execution_count": null,
   "metadata": {},
   "outputs": [],
   "source": [
    "#4\n",
    "class Student: ----># making class\n",
    "    def __init__(self,age):\n",
    "        self.age=age\n",
    "stu1=Student(23)----> #creating attributes for instance\n",
    "stu1.age"
   ]
  },
  {
   "cell_type": "code",
   "execution_count": 8,
   "metadata": {},
   "outputs": [
    {
     "data": {
      "text/plain": [
       "'self is a pointer to the attributes and methods of the class'"
      ]
     },
     "execution_count": 8,
     "metadata": {},
     "output_type": "execute_result"
    }
   ],
   "source": [
    "#5\n",
    "\"\"\"self is a pointer to the attributes and methods of the class\"\"\""
   ]
  },
  {
   "cell_type": "code",
   "execution_count": 9,
   "metadata": {},
   "outputs": [
    {
     "data": {
      "text/plain": [
       "'The operator overloading is based on the data type of the operands\\nlike 1+2 will give 3(sum) but A+B will give AB(concat) '"
      ]
     },
     "execution_count": 9,
     "metadata": {},
     "output_type": "execute_result"
    }
   ],
   "source": [
    "#6\n",
    "\"\"\"The operator overloading is based on the data type of the operands\n",
    "like 1+2 will give 3(sum) but A+B will give AB(concat) \"\"\""
   ]
  },
  {
   "cell_type": "code",
   "execution_count": 14,
   "metadata": {},
   "outputs": [
    {
     "data": {
      "text/plain": [
       "4"
      ]
     },
     "execution_count": 14,
     "metadata": {},
     "output_type": "execute_result"
    }
   ],
   "source": [
    "#7 Operator overloading in class\n",
    "class Order:\n",
    "    def __init__(self, cart, customer):\n",
    "        self.cart = list(cart)\n",
    "        self.customer = customer\n",
    "    def __len__(self):\n",
    "        return len(self.cart)\n",
    "order1=Order([1,2,3,4],\"a\")\n",
    "len(order1)"
   ]
  },
  {
   "cell_type": "code",
   "execution_count": 15,
   "metadata": {},
   "outputs": [
    {
     "data": {
      "text/plain": [
       "' (+) ---> 1+2 will give 3(sum) but A+B will give AB(concat)'"
      ]
     },
     "execution_count": 15,
     "metadata": {},
     "output_type": "execute_result"
    }
   ],
   "source": [
    "#8\n",
    "\"\"\" (+) ---> 1+2 will give 3(sum) but A+B will give AB(concat)\"\"\""
   ]
  },
  {
   "cell_type": "code",
   "execution_count": null,
   "metadata": {},
   "outputs": [],
   "source": [
    "#9\n",
    "1-- Clasess\n",
    "2-- Objects\n",
    "3-- Inheritance"
   ]
  }
 ],
 "metadata": {
  "kernelspec": {
   "display_name": "Python 3",
   "language": "python",
   "name": "python3"
  },
  "language_info": {
   "codemirror_mode": {
    "name": "ipython",
    "version": 3
   },
   "file_extension": ".py",
   "mimetype": "text/x-python",
   "name": "python",
   "nbconvert_exporter": "python",
   "pygments_lexer": "ipython3",
   "version": "3.8.5"
  }
 },
 "nbformat": 4,
 "nbformat_minor": 4
}
