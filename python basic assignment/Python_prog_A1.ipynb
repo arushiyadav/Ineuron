{
 "cells": [
  {
   "cell_type": "code",
   "execution_count": 1,
   "metadata": {},
   "outputs": [
    {
     "name": "stdout",
     "output_type": "stream",
     "text": [
      "Hello Python\n"
     ]
    }
   ],
   "source": [
    "#1\n",
    "print(\"Hello Python\")"
   ]
  },
  {
   "cell_type": "code",
   "execution_count": 3,
   "metadata": {},
   "outputs": [
    {
     "name": "stdout",
     "output_type": "stream",
     "text": [
      "Enter first no. 4\n",
      "Enter second no. 2\n",
      "Addition:  6\n",
      "Division:  2.0\n"
     ]
    }
   ],
   "source": [
    "#2\n",
    "a1=input(\"Enter first no. \")\n",
    "a2=input(\"Enter second no. \")\n",
    "add=int(a1)+int(a2)\n",
    "div=int(a1)/int(a2)\n",
    "print(\"Addition: \",add)\n",
    "print(\"Division: \",div)"
   ]
  },
  {
   "cell_type": "code",
   "execution_count": 4,
   "metadata": {},
   "outputs": [
    {
     "name": "stdout",
     "output_type": "stream",
     "text": [
      "Area of triangle  15.0\n"
     ]
    }
   ],
   "source": [
    "#3\n",
    "base=3\n",
    "height=10\n",
    "area=(base*height)/2\n",
    "print(\"Area of triangle \",area)"
   ]
  },
  {
   "cell_type": "code",
   "execution_count": 7,
   "metadata": {},
   "outputs": [
    {
     "name": "stdout",
     "output_type": "stream",
     "text": [
      "swapped no. a is 10 and b is 8 \n"
     ]
    }
   ],
   "source": [
    "#4\n",
    "a=8\n",
    "b=10\n",
    "swap=a+b\n",
    "b=swap-b\n",
    "a=swap-a\n",
    "print(\"swapped no. a is {} and b is {} \".format(a,b))"
   ]
  },
  {
   "cell_type": "code",
   "execution_count": 11,
   "metadata": {},
   "outputs": [
    {
     "name": "stdout",
     "output_type": "stream",
     "text": [
      "8\n"
     ]
    }
   ],
   "source": [
    "#5\n",
    "import random\n",
    "a=random.randint(1,12)\n",
    "print(a)"
   ]
  },
  {
   "cell_type": "code",
   "execution_count": null,
   "metadata": {},
   "outputs": [],
   "source": []
  }
 ],
 "metadata": {
  "kernelspec": {
   "display_name": "Python 3",
   "language": "python",
   "name": "python3"
  },
  "language_info": {
   "codemirror_mode": {
    "name": "ipython",
    "version": 3
   },
   "file_extension": ".py",
   "mimetype": "text/x-python",
   "name": "python",
   "nbconvert_exporter": "python",
   "pygments_lexer": "ipython3",
   "version": "3.8.5"
  }
 },
 "nbformat": 4,
 "nbformat_minor": 4
}
