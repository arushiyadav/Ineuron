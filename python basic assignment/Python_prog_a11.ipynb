{
 "cells": [
  {
   "cell_type": "code",
   "execution_count": 1,
   "metadata": {},
   "outputs": [
    {
     "name": "stdout",
     "output_type": "stream",
     "text": [
      "sgsdfgf\n",
      "dfsdgds\n",
      "gsfgdfg\n",
      "ewtrwt\n"
     ]
    }
   ],
   "source": [
    "#1\n",
    "l=[\"sgsdfgf\",\"dfsdgds\",\"gsfgdfg\",\"grgr\",\"gtrg\",\"etrtw\",\"ewtrwt\"]\n",
    "length=5\n",
    "for i in l:\n",
    "    if(len(i)>length):\n",
    "        print(i)"
   ]
  },
  {
   "cell_type": "code",
   "execution_count": 5,
   "metadata": {},
   "outputs": [
    {
     "name": "stdout",
     "output_type": "stream",
     "text": [
      "Aruhi\n"
     ]
    }
   ],
   "source": [
    "#2\n",
    "s=\"Arushi\"\n",
    "index=3\n",
    "l=[]\n",
    "for i in s:\n",
    "    l.append(i)\n",
    "l.pop(index)\n",
    "new_s=\"\"\n",
    "for i in l:\n",
    "    new_s=new_s+i\n",
    "print(new_s)"
   ]
  },
  {
   "cell_type": "code",
   "execution_count": 8,
   "metadata": {},
   "outputs": [
    {
     "name": "stdout",
     "output_type": "stream",
     "text": [
      "Split :  ['Ar', 'hi']\n",
      "Join :  Arushi Yadav\n"
     ]
    }
   ],
   "source": [
    "#3\n",
    "s=\"Arushi\"\n",
    "l=s.split(\"us\")\n",
    "new=s+\" Yadav\"\n",
    "print(\"Split : \",l)\n",
    "print(\"Join : \",new)\n"
   ]
  },
  {
   "cell_type": "code",
   "execution_count": 9,
   "metadata": {},
   "outputs": [
    {
     "name": "stdout",
     "output_type": "stream",
     "text": [
      "Binary\n"
     ]
    }
   ],
   "source": [
    "#4\n",
    "s=\"10101010\"\n",
    "flag=True\n",
    "for i in s:\n",
    "    if(i==\"1\" or i==\"0\"):\n",
    "        pass\n",
    "    else:\n",
    "        flag=False\n",
    "if(flag==True):\n",
    "    print(\"Binary\")\n",
    "else:\n",
    "    print(\"not binary\")\n",
    "        "
   ]
  },
  {
   "cell_type": "code",
   "execution_count": 22,
   "metadata": {},
   "outputs": [
    {
     "data": {
      "text/plain": [
       "{'Yadav', 'data', 'scientist'}"
      ]
     },
     "execution_count": 22,
     "metadata": {},
     "output_type": "execute_result"
    }
   ],
   "source": [
    "#5\n",
    "s=\"Arushi data scientist\"\n",
    "s1=\"Arushi Yadav\"\n",
    "l=s.split()\n",
    "l1=s1.split()\n",
    "set1.symmetric_difference(set2)\n"
   ]
  },
  {
   "cell_type": "code",
   "execution_count": 28,
   "metadata": {},
   "outputs": [
    {
     "name": "stdout",
     "output_type": "stream",
     "text": [
      "{'h', 'A'}\n"
     ]
    }
   ],
   "source": [
    "#6\n",
    "s=\"AArushhi\"\n",
    "set1=set({})\n",
    "for i in s:\n",
    "    if(s.count(i)>1):\n",
    "        set1.add(i)\n",
    "print(set1)"
   ]
  },
  {
   "cell_type": "code",
   "execution_count": 29,
   "metadata": {},
   "outputs": [
    {
     "name": "stdout",
     "output_type": "stream",
     "text": [
      "contains special characters\n"
     ]
    }
   ],
   "source": [
    "#7\n",
    "import re\n",
    "s=\"A@r$u@h#i$\"\n",
    "regex=re.compile(\"[@_!#$%^&*()<>?/\\|}{~:]\")\n",
    "if(regex.search(s)==None):\n",
    "    print(\"does not contains special characters\")\n",
    "\n",
    "else:\n",
    "    print(\"contains special characters\")\n"
   ]
  },
  {
   "cell_type": "code",
   "execution_count": null,
   "metadata": {},
   "outputs": [],
   "source": []
  }
 ],
 "metadata": {
  "kernelspec": {
   "display_name": "Python 3",
   "language": "python",
   "name": "python3"
  },
  "language_info": {
   "codemirror_mode": {
    "name": "ipython",
    "version": 3
   },
   "file_extension": ".py",
   "mimetype": "text/x-python",
   "name": "python",
   "nbconvert_exporter": "python",
   "pygments_lexer": "ipython3",
   "version": "3.8.5"
  }
 },
 "nbformat": 4,
 "nbformat_minor": 4
}
