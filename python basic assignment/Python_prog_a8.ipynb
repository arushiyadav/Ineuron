{
 "cells": [
  {
   "cell_type": "code",
   "execution_count": 28,
   "metadata": {},
   "outputs": [
    {
     "name": "stdout",
     "output_type": "stream",
     "text": [
      "[[5, 7, 9], [8, 10, 12]]\n"
     ]
    }
   ],
   "source": [
    "#1\n",
    "a=[[1,2,3],\n",
    "   [6,7,8]]\n",
    "b=[[4,5,6],\n",
    "   [2,3,4]]\n",
    "inner=[]\n",
    "outer=[]\n",
    "for i in range(len(a)):\n",
    "    inner=[]\n",
    "    for j in range(len(a[i])):\n",
    "        inner.append(a[i][j]+b[i][j])\n",
    "    outer.append(inner)\n",
    "print(outer)\n"
   ]
  },
  {
   "cell_type": "code",
   "execution_count": 35,
   "metadata": {},
   "outputs": [
    {
     "name": "stdout",
     "output_type": "stream",
     "text": [
      "[7, 10]\n",
      "[19, 28]\n"
     ]
    }
   ],
   "source": [
    "#2\n",
    "A = [[1, 2],\n",
    "[4, 5]]\n",
    "\n",
    "B = [[1, 2],\n",
    "[3, 4]]\n",
    "\n",
    "result = [[0, 0],\n",
    "[0, 0,]]\n",
    "\n",
    "for i in range(len(A)):\n",
    "    for j in range(len(B[0])):\n",
    "        for k in range(len(B)):\n",
    "            result[i][j] += A[i][k] * B[k][j]\n",
    "\n",
    "for r in result:\n",
    "    print(r)"
   ]
  },
  {
   "cell_type": "code",
   "execution_count": 76,
   "metadata": {},
   "outputs": [
    {
     "name": "stdout",
     "output_type": "stream",
     "text": [
      "[[3], [6]]\n"
     ]
    }
   ],
   "source": [
    "#3\n",
    "a=[[1,2,3],\n",
    "  [4,5,6]]\n",
    "inner=[]\n",
    "outer=[]\n",
    "for i in range(len(a)): \n",
    "    inner.append(a[i][])\n",
    "    outer.append(inner)\n",
    "    inner=[]\n",
    "print(outer)\n",
    "    "
   ]
  },
  {
   "cell_type": "code",
   "execution_count": 2,
   "metadata": {},
   "outputs": [
    {
     "name": "stdout",
     "output_type": "stream",
     "text": [
      "['afadfk', 'ahsdfj', 'cdfa', 'dmdfafo', 'efoef', 'yegy']\n"
     ]
    }
   ],
   "source": [
    "#4\n",
    "a=[\"cdfa\",\"afadfk\",\"dmdfafo\",\"efoef\",\"yegy\",\"ahsdfj\"]\n",
    "a.sort()\n",
    "print(a)"
   ]
  },
  {
   "cell_type": "code",
   "execution_count": 10,
   "metadata": {},
   "outputs": [
    {
     "data": {
      "text/plain": [
       "['arushi', 'yadav', 'Data Scientist']"
      ]
     },
     "execution_count": 10,
     "metadata": {},
     "output_type": "execute_result"
    }
   ],
   "source": [
    "#5\n",
    "s=\"arushi!yadav!Data Scientist\"\n",
    "s.split(\"!\")"
   ]
  },
  {
   "cell_type": "code",
   "execution_count": null,
   "metadata": {},
   "outputs": [],
   "source": []
  }
 ],
 "metadata": {
  "kernelspec": {
   "display_name": "Python 3",
   "language": "python",
   "name": "python3"
  },
  "language_info": {
   "codemirror_mode": {
    "name": "ipython",
    "version": 3
   },
   "file_extension": ".py",
   "mimetype": "text/x-python",
   "name": "python",
   "nbconvert_exporter": "python",
   "pygments_lexer": "ipython3",
   "version": "3.8.5"
  }
 },
 "nbformat": 4,
 "nbformat_minor": 4
}
