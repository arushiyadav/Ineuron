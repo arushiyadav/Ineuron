{
 "cells": [
  {
   "cell_type": "code",
   "execution_count": 19,
   "metadata": {},
   "outputs": [
    {
     "name": "stdout",
     "output_type": "stream",
     "text": [
      "lcm is 8\n"
     ]
    }
   ],
   "source": [
    "#1\n",
    "num1=2\n",
    "num2=8\n",
    "i=min(num1,num2)\n",
    "while(1):\n",
    "    if(i%num1==0 and i%num2==0):\n",
    "        break\n",
    "    else:\n",
    "        i=i+1\n",
    "print(\"lcm is\",i)"
   ]
  },
  {
   "cell_type": "code",
   "execution_count": 21,
   "metadata": {},
   "outputs": [
    {
     "name": "stdout",
     "output_type": "stream",
     "text": [
      "hcf is 12.0\n"
     ]
    }
   ],
   "source": [
    "#2\n",
    "num1=60\n",
    "num2=72\n",
    "i=min(num1,num2)\n",
    "while(1):\n",
    "    if(i%num1==0 and i%num2==0):\n",
    "        break\n",
    "    else:\n",
    "        i=i+1\n",
    "hcf=(num1*num2)/i\n",
    "print(\"hcf is\",hcf)\n"
   ]
  },
  {
   "cell_type": "code",
   "execution_count": 45,
   "metadata": {},
   "outputs": [
    {
     "name": "stdout",
     "output_type": "stream",
     "text": [
      "Binary representation: 10010\n",
      "Octal representation: 22\n",
      "Hexadecimal representation: 0x12\n"
     ]
    }
   ],
   "source": [
    "#3\n",
    "num=18\n",
    "temp=num\n",
    "binary=\"\"\n",
    "octal=\"\"\n",
    "hexadecimal=\"\"\n",
    "while(num!=0):\n",
    "    if(num%2==0):\n",
    "        binary=binary+\"0\"\n",
    "    else:\n",
    "        binary=binary+\"1\"\n",
    "        \n",
    "    num=num//2\n",
    "num=temp\n",
    "while(num!=0):\n",
    "    octal=octal+str(num%8)\n",
    "    num=num//8\n",
    "num=temp\n",
    "hexadecimal=hex(num)\n",
    "print(\"Binary representation:\",binary[::-1])\n",
    "print(\"Octal representation:\",octal[::-1])\n",
    "print(\"Hexadecimal representation:\",hexadecimal)\n"
   ]
  },
  {
   "cell_type": "code",
   "execution_count": 42,
   "metadata": {},
   "outputs": [
    {
     "name": "stdout",
     "output_type": "stream",
     "text": [
      "ASCII value is 65\n"
     ]
    }
   ],
   "source": [
    "#4\n",
    "char=\"A\"\n",
    "print(\"ASCII value is\",ord(char))"
   ]
  },
  {
   "cell_type": "code",
   "execution_count": 59,
   "metadata": {},
   "outputs": [
    {
     "name": "stdout",
     "output_type": "stream",
     "text": [
      "Select operation.\n",
      "1.Add\n",
      "2.Subtract\n",
      "3.Multiply\n",
      "4.Divide\n",
      "Enter choice(1/2/3/4): 1\n",
      "Enter first number: 2\n",
      "Enter second number: 3\n",
      "5\n"
     ]
    }
   ],
   "source": [
    "#5\n",
    "print(\"Select operation.\")\n",
    "print(\"1.Add\")\n",
    "print(\"2.Subtract\")\n",
    "print(\"3.Multiply\")\n",
    "print(\"4.Divide\")\n",
    "choice = input(\"Enter choice(1/2/3/4): \")\n",
    "num1 = float(input(\"Enter first number: \"))\n",
    "num2 = float(input(\"Enter second number: \"))\n",
    "if(choice==\"1\"):\n",
    "    output=int(num1)+int(num2)\n",
    "    print(output)\n",
    "elif(choice==\"2\"):\n",
    "    output=int(num1)-int(num2)\n",
    "    print(output)\n",
    "elif(choice==\"3\"):\n",
    "    output=int(num1)*int(num2)\n",
    "    print(output)\n",
    "elif(choice==\"4\"):\n",
    "    output=int(num1)/int(num2)\n",
    "    print(output)\n",
    "else:\n",
    "    print(\"bad choice\")\n",
    "    \n",
    "\n"
   ]
  },
  {
   "cell_type": "code",
   "execution_count": null,
   "metadata": {},
   "outputs": [],
   "source": []
  }
 ],
 "metadata": {
  "kernelspec": {
   "display_name": "Python 3",
   "language": "python",
   "name": "python3"
  },
  "language_info": {
   "codemirror_mode": {
    "name": "ipython",
    "version": 3
   },
   "file_extension": ".py",
   "mimetype": "text/x-python",
   "name": "python",
   "nbconvert_exporter": "python",
   "pygments_lexer": "ipython3",
   "version": "3.8.5"
  }
 },
 "nbformat": 4,
 "nbformat_minor": 4
}
