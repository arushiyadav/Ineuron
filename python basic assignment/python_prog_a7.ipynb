{
 "cells": [
  {
   "cell_type": "code",
   "execution_count": 2,
   "metadata": {},
   "outputs": [
    {
     "name": "stdout",
     "output_type": "stream",
     "text": [
      "1153\n"
     ]
    }
   ],
   "source": [
    "#1\n",
    "l=[1,2,3,4,6,6,8,7,3,34,3,3,32,325,6,56,54,546,54]\n",
    "sum=0\n",
    "for i in l:\n",
    "    sum=sum+i\n",
    "print(sum)"
   ]
  },
  {
   "cell_type": "code",
   "execution_count": 3,
   "metadata": {},
   "outputs": [
    {
     "data": {
      "text/plain": [
       "467567"
      ]
     },
     "execution_count": 3,
     "metadata": {},
     "output_type": "execute_result"
    }
   ],
   "source": [
    "#2\n",
    "l=[2,4,5,7,7,4,34,7,24,24,547,34,7,467567,]\n",
    "max(l)"
   ]
  },
  {
   "cell_type": "code",
   "execution_count": 8,
   "metadata": {},
   "outputs": [
    {
     "data": {
      "text/plain": [
       "[7, 3, 8, 9, 2, 5]"
      ]
     },
     "execution_count": 8,
     "metadata": {},
     "output_type": "execute_result"
    }
   ],
   "source": [
    "#3\n",
    "l=[2,5,7,3,8,9]\n",
    "rotForTimes=2\n",
    "for i in range(rotForTimes):\n",
    "    l.append(l[i])\n",
    "for i in range(rotForTimes):\n",
    "    l.remove(l[0])\n",
    "l\n",
    "\n",
    "\n",
    "    "
   ]
  },
  {
   "cell_type": "code",
   "execution_count": 11,
   "metadata": {},
   "outputs": [
    {
     "data": {
      "text/plain": [
       "[3, 8, 9, 2, 5, 7]"
      ]
     },
     "execution_count": 11,
     "metadata": {},
     "output_type": "execute_result"
    }
   ],
   "source": [
    "#4\n",
    "l=[2,5,7,3,8,9]\n",
    "splitFromPosition=3\n",
    "for i in range(splitFromPosition):\n",
    "    l.append(l[i])\n",
    "for i in range(splitFromPosition):\n",
    "    l.remove(l[0])\n",
    "l\n"
   ]
  },
  {
   "cell_type": "code",
   "execution_count": 25,
   "metadata": {},
   "outputs": [
    {
     "name": "stdout",
     "output_type": "stream",
     "text": [
      "non-monotonic\n"
     ]
    }
   ],
   "source": [
    "#5\n",
    "l=[2,3,46,0,65,6,7,8]\n",
    "flag=False\n",
    "flag1=False\n",
    "for i in range(0,len(l)-1):\n",
    "    if(l[i]<l[i+1]):\n",
    "        pass\n",
    "    else:\n",
    "        flag=True\n",
    "for i in range(0,len(l)-1):\n",
    "    if(l[i]>l[i+1]):\n",
    "        pass\n",
    "    else:\n",
    "        flag1=True\n",
    "\n",
    "if(flag==False):\n",
    "    print(\"monotonic increasing\")\n",
    "elif(flag1==False):\n",
    "    print(\"monotonic decreasing\")\n",
    "else:\n",
    "    print(\"non-monotonic\")\n",
    "    "
   ]
  },
  {
   "cell_type": "code",
   "execution_count": null,
   "metadata": {},
   "outputs": [],
   "source": []
  }
 ],
 "metadata": {
  "kernelspec": {
   "display_name": "Python 3",
   "language": "python",
   "name": "python3"
  },
  "language_info": {
   "codemirror_mode": {
    "name": "ipython",
    "version": 3
   },
   "file_extension": ".py",
   "mimetype": "text/x-python",
   "name": "python",
   "nbconvert_exporter": "python",
   "pygments_lexer": "ipython3",
   "version": "3.8.5"
  }
 },
 "nbformat": 4,
 "nbformat_minor": 4
}
