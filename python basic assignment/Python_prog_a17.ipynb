{
 "cells": [
  {
   "cell_type": "code",
   "execution_count": 4,
   "metadata": {},
   "outputs": [
    {
     "data": {
      "text/plain": [
       "18"
      ]
     },
     "execution_count": 4,
     "metadata": {},
     "output_type": "execute_result"
    }
   ],
   "source": [
    "#1\n",
    "def evenly_divisible(a,b,c):\n",
    "    s=0\n",
    "    for i in range(a,b+1):\n",
    "        if(i%c==0):\n",
    "            s+=i\n",
    "    return s\n",
    "evenly_divisible(1,10,3)"
   ]
  },
  {
   "cell_type": "code",
   "execution_count": 13,
   "metadata": {},
   "outputs": [
    {
     "data": {
      "text/plain": [
       "False"
      ]
     },
     "execution_count": 13,
     "metadata": {},
     "output_type": "execute_result"
    }
   ],
   "source": [
    "#2\n",
    "def correct_signs(s):\n",
    "    flag=True\n",
    "    for i in range(1,len(s),2):\n",
    "        if(s[i].isspace()):\n",
    "            pass\n",
    "        else:\n",
    "            if(s[i]==\">\"):\n",
    "                if(s[i-1]>s[i+1]):\n",
    "                    pass\n",
    "                else:\n",
    "                    flag=False\n",
    "            if(s[i]==\"<\"):\n",
    "                if(s[i-1]<s[i+1]):\n",
    "                    pass\n",
    "                else:\n",
    "                    flag=False\n",
    "    return flag\n",
    "s=\"13 > 44 > 33 > 1\"\n",
    "correct_signs(s)\n",
    "        "
   ]
  },
  {
   "cell_type": "code",
   "execution_count": 15,
   "metadata": {},
   "outputs": [
    {
     "data": {
      "text/plain": [
       "'m?nn?? m??s?'"
      ]
     },
     "execution_count": 15,
     "metadata": {},
     "output_type": "execute_result"
    }
   ],
   "source": [
    "#3\n",
    "def replace_vowels(string,replace):\n",
    "    l=[]\n",
    "    s=\"\"\n",
    "    for i in string:\n",
    "        l.append(i)\n",
    "        if(i in [\"a\",\"e\",\"i\",\"o\",\"u\"]):\n",
    "            l.pop()\n",
    "            l.append(replace)\n",
    "    for j in l:\n",
    "       s+=j\n",
    "    return s\n",
    "replace_vowels(\"minnie mouse\",\"?\")"
   ]
  },
  {
   "cell_type": "code",
   "execution_count": 26,
   "metadata": {},
   "outputs": [
    {
     "data": {
      "text/plain": [
       "120"
      ]
     },
     "execution_count": 26,
     "metadata": {},
     "output_type": "execute_result"
    }
   ],
   "source": [
    "#4\n",
    "def factorial(num):\n",
    "    if(num==0):\n",
    "        return 1\n",
    "    if(num>1):\n",
    "        num=num*factorial(num-1)\n",
    "    return num\n",
    "factorial(5)\n",
    "    "
   ]
  },
  {
   "cell_type": "code",
   "execution_count": 36,
   "metadata": {},
   "outputs": [
    {
     "data": {
      "text/plain": [
       "2"
      ]
     },
     "execution_count": 36,
     "metadata": {},
     "output_type": "execute_result"
    }
   ],
   "source": [
    "#5\n",
    "def hamming_distance(string1,string2):\n",
    "    count=0\n",
    "    if(len(string1)>len(string2)):\n",
    "        s=string2\n",
    "    else:\n",
    "        s=string1\n",
    "    for i in range(len(s)):\n",
    "        if(string1[i]!=string2[i]):\n",
    "            count+=1\n",
    "    return count\n",
    "hamming_distance(\"abce\",\"ebcd\")"
   ]
  },
  {
   "cell_type": "code",
   "execution_count": null,
   "metadata": {},
   "outputs": [],
   "source": []
  }
 ],
 "metadata": {
  "kernelspec": {
   "display_name": "Python 3",
   "language": "python",
   "name": "python3"
  },
  "language_info": {
   "codemirror_mode": {
    "name": "ipython",
    "version": 3
   },
   "file_extension": ".py",
   "mimetype": "text/x-python",
   "name": "python",
   "nbconvert_exporter": "python",
   "pygments_lexer": "ipython3",
   "version": "3.8.5"
  }
 },
 "nbformat": 4,
 "nbformat_minor": 4
}
