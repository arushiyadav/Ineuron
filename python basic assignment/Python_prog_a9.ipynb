{
 "cells": [
  {
   "cell_type": "code",
   "execution_count": 3,
   "metadata": {},
   "outputs": [
    {
     "name": "stdout",
     "output_type": "stream",
     "text": [
      "the no. is a disarium number\n"
     ]
    }
   ],
   "source": [
    "#1\n",
    "num=175\n",
    "temp=num\n",
    "s=0\n",
    "while(num!=0):\n",
    "    length=len(str(num))\n",
    "    rem=num%10\n",
    "    s=s+rem**length\n",
    "    num=num//10\n",
    "if(temp==s):\n",
    "    print(\"the no. is a disarium number\")\n",
    "else:\n",
    "    print(\"the no. is nota disarium number\")\n",
    "    \n",
    "    "
   ]
  },
  {
   "cell_type": "code",
   "execution_count": 6,
   "metadata": {},
   "outputs": [
    {
     "name": "stdout",
     "output_type": "stream",
     "text": [
      "[1, 2, 3, 4, 5, 6, 7, 8, 9, 89, 135, 175]\n"
     ]
    }
   ],
   "source": [
    "#2\n",
    "l=[]\n",
    "for i in range(1,200):\n",
    "    num=i\n",
    "    temp=num\n",
    "    s=0\n",
    "    while(num!=0):\n",
    "        length=len(str(num))\n",
    "        rem=num%10\n",
    "        s=s+rem**length\n",
    "        num=num//10\n",
    "    if(temp==s):\n",
    "        l.append(temp)\n",
    "print(l)\n"
   ]
  },
  {
   "cell_type": "code",
   "execution_count": 16,
   "metadata": {},
   "outputs": [
    {
     "name": "stdout",
     "output_type": "stream",
     "text": [
      "Happy number\n"
     ]
    }
   ],
   "source": [
    "#3\n",
    "num=23\n",
    "if(len(str(num))==1):\n",
    "    num=num**2\n",
    "while(len(str(num))!=1):\n",
    "    l=[]\n",
    "    while(num!=0):\n",
    "        l.append(num%10)\n",
    "        num=num//10\n",
    "    s=0\n",
    "    for i in l:\n",
    "        s=s+i**2\n",
    "    num=s\n",
    "if(num==1):\n",
    "    print(\"Happy number\")\n",
    "else:\n",
    "    print(\"Sad number!hahahah\")\n",
    "    \n",
    "    "
   ]
  },
  {
   "cell_type": "code",
   "execution_count": 21,
   "metadata": {},
   "outputs": [
    {
     "name": "stdout",
     "output_type": "stream",
     "text": [
      "[1, 7, 10, 13, 19, 23, 28, 31, 32, 44, 49, 68, 70, 79, 82, 86, 91, 94, 97, 100]\n"
     ]
    }
   ],
   "source": [
    "#4\n",
    "l1=[]\n",
    "for i in range(1,101):\n",
    "    num=i\n",
    "    temp=num\n",
    "    if(len(str(num))==1):\n",
    "        num=num**2\n",
    "    while(len(str(num))!=1):\n",
    "        l=[]\n",
    "        while(num!=0):\n",
    "            l.append(num%10)\n",
    "            num=num//10\n",
    "        s=0\n",
    "        for i in l:\n",
    "            s=s+i**2\n",
    "        num=s\n",
    "    if(num==1):\n",
    "        l1.append(temp)\n",
    "print(l1)"
   ]
  },
  {
   "cell_type": "code",
   "execution_count": 27,
   "metadata": {},
   "outputs": [
    {
     "name": "stdout",
     "output_type": "stream",
     "text": [
      "Harshad number\n"
     ]
    }
   ],
   "source": [
    "#5\n",
    "num=111\n",
    "temp=num\n",
    "l=[]\n",
    "while(num!=0):\n",
    "    l.append(num%10)\n",
    "    num=num//10\n",
    "s=sum(l)\n",
    "if(temp%s==0):\n",
    "    print(\"Harshad number\")\n",
    "else:\n",
    "    print(\"Not\")"
   ]
  },
  {
   "cell_type": "code",
   "execution_count": 37,
   "metadata": {},
   "outputs": [
    {
     "name": "stdout",
     "output_type": "stream",
     "text": [
      "[2, 6, 12, 20, 30, 42, 56, 72, 90]\n"
     ]
    }
   ],
   "source": [
    "#6\n",
    "import math\n",
    "l=[]\n",
    "for i in range(1,101):\n",
    "    num=i\n",
    "    a=math.floor((math.sqrt(num)))\n",
    "    b=math.floor((math.sqrt(num)))+1\n",
    "    if(a*b==num):\n",
    "        l.append(num)\n",
    "print(l)\n",
    "    "
   ]
  },
  {
   "cell_type": "code",
   "execution_count": null,
   "metadata": {},
   "outputs": [],
   "source": []
  }
 ],
 "metadata": {
  "kernelspec": {
   "display_name": "Python 3",
   "language": "python",
   "name": "python3"
  },
  "language_info": {
   "codemirror_mode": {
    "name": "ipython",
    "version": 3
   },
   "file_extension": ".py",
   "mimetype": "text/x-python",
   "name": "python",
   "nbconvert_exporter": "python",
   "pygments_lexer": "ipython3",
   "version": "3.8.5"
  }
 },
 "nbformat": 4,
 "nbformat_minor": 4
}
