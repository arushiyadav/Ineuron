{
 "cells": [
  {
   "cell_type": "code",
   "execution_count": 1,
   "metadata": {},
   "outputs": [
    {
     "name": "stdout",
     "output_type": "stream",
     "text": [
      "3281\n"
     ]
    }
   ],
   "source": [
    "#1\n",
    "l=[2,4,5,65,45,3,35,3,35,3,5,64,5,345,325,325,43,534,346,7,6,6,345,345,35,345]\n",
    "print(sum(l))"
   ]
  },
  {
   "cell_type": "code",
   "execution_count": 2,
   "metadata": {},
   "outputs": [
    {
     "name": "stdout",
     "output_type": "stream",
     "text": [
      "1840\n"
     ]
    }
   ],
   "source": [
    "#2\n",
    "l=[2,4,5,2,23]\n",
    "m=1\n",
    "for i in l:\n",
    "    m=m*i\n",
    "print(m)"
   ]
  },
  {
   "cell_type": "code",
   "execution_count": 3,
   "metadata": {},
   "outputs": [
    {
     "name": "stdout",
     "output_type": "stream",
     "text": [
      "2\n"
     ]
    }
   ],
   "source": [
    "#3\n",
    "l=[2,4,5,2,23]\n",
    "print(min(l))"
   ]
  },
  {
   "cell_type": "code",
   "execution_count": 4,
   "metadata": {},
   "outputs": [
    {
     "name": "stdout",
     "output_type": "stream",
     "text": [
      "23\n"
     ]
    }
   ],
   "source": [
    "#4\n",
    "l=[2,4,5,2,23]\n",
    "print(max(l))"
   ]
  },
  {
   "cell_type": "code",
   "execution_count": 6,
   "metadata": {},
   "outputs": [
    {
     "name": "stdout",
     "output_type": "stream",
     "text": [
      "5\n"
     ]
    }
   ],
   "source": [
    "#5\n",
    "l=[2,4,5,2,23]\n",
    "m=max(l)\n",
    "l.remove(m)\n",
    "print(max(l))"
   ]
  },
  {
   "cell_type": "code",
   "execution_count": 9,
   "metadata": {},
   "outputs": [
    {
     "name": "stdout",
     "output_type": "stream",
     "text": [
      "43\n"
     ]
    }
   ],
   "source": [
    "#6\n",
    "l=[2,4,5,2,23,36,74,56,43,24,89]\n",
    "n_largest=4\n",
    "for i in range(n_largest-1):\n",
    "    m=max(l)\n",
    "    l.remove(m)\n",
    "print(max(l))"
   ]
  },
  {
   "cell_type": "code",
   "execution_count": 11,
   "metadata": {},
   "outputs": [
    {
     "name": "stdout",
     "output_type": "stream",
     "text": [
      "[2, 4, 2, 36, 74, 56]\n"
     ]
    }
   ],
   "source": [
    "#7\n",
    "l=[2,4,5,2,23,36,74,56,43,245,893]\n",
    "even=[]\n",
    "for i in l:\n",
    "    if(i%2==0):\n",
    "        even.append(i)\n",
    "print(even)\n"
   ]
  },
  {
   "cell_type": "code",
   "execution_count": 12,
   "metadata": {},
   "outputs": [
    {
     "name": "stdout",
     "output_type": "stream",
     "text": [
      "[5, 23, 43, 245, 893]\n"
     ]
    }
   ],
   "source": [
    "#8\n",
    "l=[2,4,5,2,23,36,74,56,43,245,893]\n",
    "odd=[]\n",
    "for i in l:\n",
    "    if(i%2!=0):\n",
    "        odd.append(i)\n",
    "print(odd)"
   ]
  },
  {
   "cell_type": "code",
   "execution_count": 14,
   "metadata": {},
   "outputs": [
    {
     "name": "stdout",
     "output_type": "stream",
     "text": [
      "[[1, 2, 3], 4, 5, 8, 9]\n"
     ]
    }
   ],
   "source": [
    "#9\n",
    "l=[[1,2,3],4,5,[],8,9]\n",
    "for i in l:\n",
    "    if(type(i)==list):\n",
    "        if(len(i)==0):\n",
    "            l.remove(i)\n",
    "print(l)"
   ]
  },
  {
   "cell_type": "code",
   "execution_count": 15,
   "metadata": {},
   "outputs": [
    {
     "name": "stdout",
     "output_type": "stream",
     "text": [
      "[2, 3, 4, 5, 5435, 3, 21, 4, 34, 324, 324, 235, 325, 32]\n"
     ]
    }
   ],
   "source": [
    "#10\n",
    "l=[2,3,4,5,5435,3,21,4,34,324,324,235,325,32]\n",
    "new_l=l\n",
    "print(new_l)"
   ]
  },
  {
   "cell_type": "code",
   "execution_count": 16,
   "metadata": {},
   "outputs": [
    {
     "data": {
      "text/plain": [
       "7"
      ]
     },
     "execution_count": 16,
     "metadata": {},
     "output_type": "execute_result"
    }
   ],
   "source": [
    "#11\n",
    "l=[3,3,5,3,13,3,4,3,35,5,53,3,3,4,234,325,32,324,324,34]\n",
    "l.count(3)"
   ]
  },
  {
   "cell_type": "code",
   "execution_count": null,
   "metadata": {},
   "outputs": [],
   "source": []
  }
 ],
 "metadata": {
  "kernelspec": {
   "display_name": "Python 3",
   "language": "python",
   "name": "python3"
  },
  "language_info": {
   "codemirror_mode": {
    "name": "ipython",
    "version": 3
   },
   "file_extension": ".py",
   "mimetype": "text/x-python",
   "name": "python",
   "nbconvert_exporter": "python",
   "pygments_lexer": "ipython3",
   "version": "3.8.5"
  }
 },
 "nbformat": 4,
 "nbformat_minor": 4
}
