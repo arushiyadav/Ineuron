{
 "cells": [
  {
   "cell_type": "code",
   "execution_count": 5,
   "metadata": {},
   "outputs": [
    {
     "name": "stdout",
     "output_type": "stream",
     "text": [
      "enter the range100\n",
      "0,35,70\n"
     ]
    }
   ],
   "source": [
    "#1\n",
    "inputs=input(\"enter the range\")\n",
    "s=\"\"\n",
    "for i in range(int(inputs)+1):\n",
    "    if(i%5==0 and i%7==0):\n",
    "        s+=str(i)+\",\"\n",
    "print(s[:len(s)-1])\n",
    "        "
   ]
  },
  {
   "cell_type": "code",
   "execution_count": 4,
   "metadata": {},
   "outputs": [
    {
     "name": "stdout",
     "output_type": "stream",
     "text": [
      "enter the range10\n",
      "0,2,4,6,8,10\n"
     ]
    }
   ],
   "source": [
    "#2\n",
    "inputs=input(\"enter the range\")\n",
    "s=\"\"\n",
    "for i in range(int(inputs)+1):\n",
    "    if(i%2==0):\n",
    "        s+=str(i)+\",\"\n",
    "print(s[:len(s)-1])\n",
    "   "
   ]
  },
  {
   "cell_type": "code",
   "execution_count": 35,
   "metadata": {},
   "outputs": [
    {
     "name": "stdout",
     "output_type": "stream",
     "text": [
      "Enter the no. for which you want to calculate fibonacci: 7\n",
      "[0, 1, 1, 2, 3, 5, 8]\n"
     ]
    }
   ],
   "source": [
    "#3\n",
    "inputs=input(\"Enter the no. for which you want to calculate fibonacci: \")\n",
    "num=int(inputs)\n",
    "l=[]\n",
    "l.append(0)\n",
    "l.append(1)\n",
    "[ l.append(l[i-1]+l[i-2]) for i in range(2,num) ]\n",
    "print(l)"
   ]
  },
  {
   "cell_type": "code",
   "execution_count": 5,
   "metadata": {},
   "outputs": [
    {
     "name": "stdout",
     "output_type": "stream",
     "text": [
      "john\n"
     ]
    }
   ],
   "source": [
    "#4\n",
    "s=\"john@google.com\"\n",
    "o=\"\"\n",
    "for i in s:\n",
    "    if(i==\"@\"):\n",
    "        break\n",
    "    else:\n",
    "        o+=i\n",
    "print(o)\n",
    "    "
   ]
  },
  {
   "cell_type": "code",
   "execution_count": 8,
   "metadata": {},
   "outputs": [
    {
     "data": {
      "text/plain": [
       "16"
      ]
     },
     "execution_count": 8,
     "metadata": {},
     "output_type": "execute_result"
    }
   ],
   "source": [
    "#5\n",
    "class Shape:\n",
    "    def __init__(self,length):\n",
    "        self.length=length\n",
    "    def area(self):\n",
    "        return 0\n",
    "class Sqaure(Shape):\n",
    "    def area(self):\n",
    "        return self.length*self.length\n",
    "\n",
    "s1=Sqaure(4)\n",
    "s1.area()"
   ]
  },
  {
   "cell_type": "code",
   "execution_count": null,
   "metadata": {},
   "outputs": [],
   "source": []
  }
 ],
 "metadata": {
  "kernelspec": {
   "display_name": "Python 3",
   "language": "python",
   "name": "python3"
  },
  "language_info": {
   "codemirror_mode": {
    "name": "ipython",
    "version": 3
   },
   "file_extension": ".py",
   "mimetype": "text/x-python",
   "name": "python",
   "nbconvert_exporter": "python",
   "pygments_lexer": "ipython3",
   "version": "3.8.5"
  }
 },
 "nbformat": 4,
 "nbformat_minor": 4
}
