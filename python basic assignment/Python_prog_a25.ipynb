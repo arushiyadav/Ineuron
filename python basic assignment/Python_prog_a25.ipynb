{
 "cells": [
  {
   "cell_type": "code",
   "execution_count": 4,
   "metadata": {},
   "outputs": [
    {
     "data": {
      "text/plain": [
       "3"
      ]
     },
     "execution_count": 4,
     "metadata": {},
     "output_type": "execute_result"
    }
   ],
   "source": [
    "#1\n",
    "def equal(a,b,c):\n",
    "    l=[]\n",
    "    count=0\n",
    "    l.append(a)\n",
    "    l.append(b)\n",
    "    l.append(c)\n",
    "    c1=l.count(a)\n",
    "    c2=l.count(b)\n",
    "    c3=l.count(c)\n",
    "    if(c1>1):\n",
    "        count=c1\n",
    "    elif(c2>1):\n",
    "        count=c2\n",
    "    elif(c3>1):\n",
    "        count=c3\n",
    "    return count\n",
    "equal(1, 1, 1)"
   ]
  },
  {
   "cell_type": "code",
   "execution_count": 21,
   "metadata": {},
   "outputs": [
    {
     "data": {
      "text/plain": [
       "[('B', 2), ('C', 3), ('D', 1)]"
      ]
     },
     "execution_count": 21,
     "metadata": {},
     "output_type": "execute_result"
    }
   ],
   "source": [
    "#2\n",
    "def dict_to_list(dic):\n",
    "    l=[]\n",
    "    keys=list(dic.keys())\n",
    "    keys.sort()\n",
    "    for i in range(0,len(keys)+2,2):\n",
    "        keys.insert(i+1,dic[keys[i]])\n",
    "    for j in range(0,len(keys),2):\n",
    "        l.append(tuple(keys[j:j+2]))\n",
    "    return l\n",
    "dict_to_list({\n",
    "\"D\": 1,\n",
    "\"B\": 2,\n",
    "\"C\": 3\n",
    "})\n",
    "    "
   ]
  },
  {
   "cell_type": "code",
   "execution_count": 24,
   "metadata": {},
   "outputs": [
    {
     "data": {
      "text/plain": [
       "{'a': 'A', 'b': 'B', 'c': 'C'}"
      ]
     },
     "execution_count": 24,
     "metadata": {},
     "output_type": "execute_result"
    }
   ],
   "source": [
    "#3\n",
    "def mapping(l):\n",
    "    dic={}\n",
    "    for i in l:\n",
    "        dic[i]=i.upper()\n",
    "    return dic\n",
    "mapping([\"a\", \"b\", \"c\"])\n",
    "    "
   ]
  },
  {
   "cell_type": "code",
   "execution_count": 26,
   "metadata": {},
   "outputs": [
    {
     "data": {
      "text/plain": [
       "'upplus und bununus'"
      ]
     },
     "execution_count": 26,
     "metadata": {},
     "output_type": "execute_result"
    }
   ],
   "source": [
    "#4\n",
    "def vow_replace(string,replaceWith):\n",
    "    o=\"\"\n",
    "    for i in string:\n",
    "        if(i in [\"a\",\"e\",\"i\",\"o\",\"u\"]):\n",
    "            o+=replaceWith\n",
    "        else:\n",
    "            o+=i\n",
    "    return o\n",
    "vow_replace(\"apples and bananas\", \"u\")\n",
    "    "
   ]
  },
  {
   "cell_type": "code",
   "execution_count": 34,
   "metadata": {},
   "outputs": [
    {
     "data": {
      "text/plain": [
       "'To Be oR NoT To Be!'"
      ]
     },
     "execution_count": 34,
     "metadata": {},
     "output_type": "execute_result"
    }
   ],
   "source": [
    "#5\n",
    "def ascii_capitalize(s):\n",
    "    o=\"\"\n",
    "    for i in s:\n",
    "        if(ord(i)%2==0):\n",
    "            o+=i.upper()\n",
    "        else:\n",
    "            o+=i.lower()\n",
    "    return o\n",
    "ascii_capitalize(\"to be or not to be!\")\n",
    "    "
   ]
  },
  {
   "cell_type": "code",
   "execution_count": null,
   "metadata": {},
   "outputs": [],
   "source": []
  }
 ],
 "metadata": {
  "kernelspec": {
   "display_name": "Python 3",
   "language": "python",
   "name": "python3"
  },
  "language_info": {
   "codemirror_mode": {
    "name": "ipython",
    "version": 3
   },
   "file_extension": ".py",
   "mimetype": "text/x-python",
   "name": "python",
   "nbconvert_exporter": "python",
   "pygments_lexer": "ipython3",
   "version": "3.8.5"
  }
 },
 "nbformat": 4,
 "nbformat_minor": 4
}
