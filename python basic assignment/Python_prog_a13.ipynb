{
 "cells": [
  {
   "cell_type": "code",
   "execution_count": 6,
   "metadata": {},
   "outputs": [
    {
     "name": "stdout",
     "output_type": "stream",
     "text": [
      "Enter value in comma separated eg:100,150,180: 100,150,180\n",
      "18,22,24\n"
     ]
    }
   ],
   "source": [
    "#1\n",
    "import math\n",
    "C=50\n",
    "H=30\n",
    "D=input(\"Enter value in comma separated eg:100,150,180: \")\n",
    "l=D.split(\",\")\n",
    "Output=\"\"\n",
    "for i in l:\n",
    "    Q = math.sqrt((2 * C * int(i))/H)\n",
    "    Output=Output+str(math.floor(Q))+\",\"\n",
    "print(Output[0:len(Output)-1])\n"
   ]
  },
  {
   "cell_type": "code",
   "execution_count": 10,
   "metadata": {},
   "outputs": [
    {
     "name": "stdout",
     "output_type": "stream",
     "text": [
      "Enter the number of rows and columns eg: 3,5: 3,5\n",
      "[[0, 0, 0, 0, 0], [0, 1, 2, 3, 4], [0, 2, 4, 6, 8]]\n"
     ]
    }
   ],
   "source": [
    "#2\n",
    "inputs=input(\"Enter the number of rows and columns eg: 3,5: \")\n",
    "l=inputs.split(\",\")\n",
    "array=[]\n",
    "for i in range(int(l[0])):\n",
    "    sub=[]\n",
    "    for j in range(int(l[1])):\n",
    "        sub.append(int(i)*int(j))\n",
    "    array.append(sub)\n",
    "print(array)"
   ]
  },
  {
   "cell_type": "code",
   "execution_count": 12,
   "metadata": {},
   "outputs": [
    {
     "name": "stdout",
     "output_type": "stream",
     "text": [
      "enter words in comma separated format: without,hello,bag,world\n",
      "bag,hello,without,world\n"
     ]
    }
   ],
   "source": [
    "#3\n",
    "inputs=input(\"enter words in comma separated format: \")\n",
    "l=sorted(inputs.split(\",\"))\n",
    "output=\"\"\n",
    "for i in l:\n",
    "    output+=i+\",\"\n",
    "print(output[0:len(output)-1])"
   ]
  },
  {
   "cell_type": "code",
   "execution_count": 13,
   "metadata": {},
   "outputs": [
    {
     "name": "stdout",
     "output_type": "stream",
     "text": [
      "again and hello makes perfect practice world\n"
     ]
    }
   ],
   "source": [
    "#4\n",
    "\n",
    "s=\"hello world and practice makes perfect and hello world again\"\n",
    "s=set(s.split())\n",
    "l=sorted(list(s))\n",
    "output=\"\"\n",
    "for i in l:\n",
    "    output+=i+\" \"\n",
    "print(output[0:len(output)-1])"
   ]
  },
  {
   "cell_type": "code",
   "execution_count": 17,
   "metadata": {},
   "outputs": [
    {
     "name": "stdout",
     "output_type": "stream",
     "text": [
      "LETTERS 10 AND DIGITS 3 \n"
     ]
    }
   ],
   "source": [
    "#5\n",
    "s=\"hello world! 123\"\n",
    "letters=0\n",
    "digits=0\n",
    "for i in s:\n",
    "    if(i.isalpha()):\n",
    "        letters+=1\n",
    "    if(i.isnumeric()):\n",
    "        digits+=1\n",
    "print(\"LETTERS {} AND DIGITS {} \".format(str(letters),str(digits)))\n"
   ]
  },
  {
   "cell_type": "code",
   "execution_count": 88,
   "metadata": {},
   "outputs": [
    {
     "name": "stdout",
     "output_type": "stream",
     "text": [
      "enter passwords in comma separated fashion: ABd1234@1,a F1#,2w3E*,2We3345\n",
      "ABd1234@1\n"
     ]
    }
   ],
   "source": [
    "#6\n",
    "import re\n",
    "inputs=input(\"enter passwords in comma separated fashion: \")\n",
    "l=inputs.split(\",\")\n",
    "output=\"\"\n",
    "pattern=re.compile('.[\\w\\d]+.[@#$]+.')\n",
    "for i in l:\n",
    "    if(re.search(pattern,i) and (len(i)>=6 and len(i)<=12)):\n",
    "        \n",
    "        output+=i+\",\"\n",
    "print(output[0:len(output)-1])\n"
   ]
  },
  {
   "cell_type": "code",
   "execution_count": null,
   "metadata": {},
   "outputs": [],
   "source": []
  },
  {
   "cell_type": "code",
   "execution_count": null,
   "metadata": {},
   "outputs": [],
   "source": []
  }
 ],
 "metadata": {
  "kernelspec": {
   "display_name": "Python 3",
   "language": "python",
   "name": "python3"
  },
  "language_info": {
   "codemirror_mode": {
    "name": "ipython",
    "version": 3
   },
   "file_extension": ".py",
   "mimetype": "text/x-python",
   "name": "python",
   "nbconvert_exporter": "python",
   "pygments_lexer": "ipython3",
   "version": "3.8.5"
  }
 },
 "nbformat": 4,
 "nbformat_minor": 4
}
