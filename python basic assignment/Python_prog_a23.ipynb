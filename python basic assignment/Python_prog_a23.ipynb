{
 "cells": [
  {
   "cell_type": "code",
   "execution_count": 5,
   "metadata": {},
   "outputs": [
    {
     "data": {
      "text/plain": [
       "True"
      ]
     },
     "execution_count": 5,
     "metadata": {},
     "output_type": "execute_result"
    }
   ],
   "source": [
    "#1\n",
    "s=\"\"\n",
    "def is_symmetrical(num):\n",
    "    s=str(num)\n",
    "    o=s[::-1]\n",
    "    if(s==o):\n",
    "        return True\n",
    "    else:\n",
    "        return False\n",
    "is_symmetrical(7227)"
   ]
  },
  {
   "cell_type": "code",
   "execution_count": 6,
   "metadata": {},
   "outputs": [
    {
     "data": {
      "text/plain": [
       "24"
      ]
     },
     "execution_count": 6,
     "metadata": {},
     "output_type": "execute_result"
    }
   ],
   "source": [
    "#2\n",
    "def multiply_nums(s):\n",
    "    l=s.split(\",\")\n",
    "    mul=1\n",
    "    for i in l:\n",
    "        mul*=int(i.strip())\n",
    "    return mul\n",
    "multiply_nums(\"1, 2, 3, 4\")\n",
    "    "
   ]
  },
  {
   "cell_type": "code",
   "execution_count": 8,
   "metadata": {},
   "outputs": [
    {
     "data": {
      "text/plain": [
       "416649"
      ]
     },
     "execution_count": 8,
     "metadata": {},
     "output_type": "execute_result"
    }
   ],
   "source": [
    "#3\n",
    "def square_digits(num):\n",
    "    s=str(num)\n",
    "    o=\"\"\n",
    "    for i in s:\n",
    "       o+=str(int(i)*int(i))\n",
    "    return int(o)\n",
    "square_digits(2483)"
   ]
  },
  {
   "cell_type": "code",
   "execution_count": 14,
   "metadata": {},
   "outputs": [
    {
     "data": {
      "text/plain": [
       "[1, 3, 5]"
      ]
     },
     "execution_count": 14,
     "metadata": {},
     "output_type": "execute_result"
    }
   ],
   "source": [
    "#4\n",
    "l=[]\n",
    "l.sort()\n",
    "def setify(l):\n",
    "    l1=[]\n",
    "    for i in l:\n",
    "        if(i not in l1):\n",
    "            l1.append(i)\n",
    "    l1.sort()\n",
    "    return l1\n",
    "setify([1, 3, 3, 5, 5])"
   ]
  },
  {
   "cell_type": "code",
   "execution_count": 16,
   "metadata": {},
   "outputs": [
    {
     "data": {
      "text/plain": [
       "3"
      ]
     },
     "execution_count": 16,
     "metadata": {},
     "output_type": "execute_result"
    }
   ],
   "source": [
    "#5\n",
    "def mean(num):\n",
    "    s=str(num)\n",
    "    mean=0\n",
    "    for i in s:\n",
    "        mean+=int(i)\n",
    "    mean=mean/len(s)\n",
    "    return round(mean)\n",
    "mean(12345)"
   ]
  },
  {
   "cell_type": "code",
   "execution_count": null,
   "metadata": {},
   "outputs": [],
   "source": []
  }
 ],
 "metadata": {
  "kernelspec": {
   "display_name": "Python 3",
   "language": "python",
   "name": "python3"
  },
  "language_info": {
   "codemirror_mode": {
    "name": "ipython",
    "version": 3
   },
   "file_extension": ".py",
   "mimetype": "text/x-python",
   "name": "python",
   "nbconvert_exporter": "python",
   "pygments_lexer": "ipython3",
   "version": "3.8.5"
  }
 },
 "nbformat": 4,
 "nbformat_minor": 4
}
