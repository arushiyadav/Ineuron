{
 "cells": [
  {
   "cell_type": "code",
   "execution_count": 26,
   "metadata": {},
   "outputs": [
    {
     "name": "stdout",
     "output_type": "stream",
     "text": [
      "6\n"
     ]
    }
   ],
   "source": [
    "#1\n",
    "num=3\n",
    "fac=1\n",
    "if(num==0):\n",
    "    fac=0\n",
    "else:\n",
    "    while(num>0):\n",
    "        fac=fac*num\n",
    "        num=num-1\n",
    "        \n",
    "print(fac)\n",
    "    "
   ]
  },
  {
   "cell_type": "code",
   "execution_count": 27,
   "metadata": {},
   "outputs": [
    {
     "name": "stdout",
     "output_type": "stream",
     "text": [
      "3  *  1  =  3\n",
      "3  *  2  =  6\n",
      "3  *  3  =  9\n",
      "3  *  4  =  12\n",
      "3  *  5  =  15\n",
      "3  *  6  =  18\n",
      "3  *  7  =  21\n",
      "3  *  8  =  24\n",
      "3  *  9  =  27\n",
      "3  *  10  =  30\n"
     ]
    }
   ],
   "source": [
    "#2\n",
    "num=3\n",
    "for i in range(1,11):\n",
    "    mul=num*i\n",
    "    print(num, \" * \",i,\" = \",mul)"
   ]
  },
  {
   "cell_type": "code",
   "execution_count": 33,
   "metadata": {},
   "outputs": [
    {
     "name": "stdout",
     "output_type": "stream",
     "text": [
      "0\n",
      "1\n",
      "1\n",
      "2\n",
      "3\n",
      "5\n",
      "8\n",
      "13\n",
      "21\n",
      "34\n",
      "55\n"
     ]
    }
   ],
   "source": [
    "#3\n",
    "a=0\n",
    "b=1\n",
    "print(a)\n",
    "for i in range(1,11):\n",
    "    print(b)\n",
    "    fib=a+b\n",
    "    a=b\n",
    "    b=fib\n",
    "    \n",
    "    "
   ]
  },
  {
   "cell_type": "code",
   "execution_count": 40,
   "metadata": {},
   "outputs": [
    {
     "name": "stdout",
     "output_type": "stream",
     "text": [
      "armstrong number\n"
     ]
    }
   ],
   "source": [
    "#4\n",
    "num=371\n",
    "rem=0\n",
    "sum=0\n",
    "temp=num\n",
    "while(num!=0):\n",
    "    rem=num%10\n",
    "    num=num//10\n",
    "    sum=sum+(rem*rem*rem)\n",
    "if(sum==temp):\n",
    "    print(\"armstrong number\")\n",
    "else:\n",
    "    print(\"not an armstrong number\")\n",
    "    "
   ]
  },
  {
   "cell_type": "code",
   "execution_count": 46,
   "metadata": {},
   "outputs": [
    {
     "name": "stdout",
     "output_type": "stream",
     "text": [
      "[1, 153, 370, 371]\n"
     ]
    }
   ],
   "source": [
    "#5\n",
    "l=[]\n",
    "for i in range(1,400):\n",
    "    num=i\n",
    "    rem=0\n",
    "    sum=0\n",
    "    while(num!=0):\n",
    "        rem=num%10\n",
    "        num=num//10\n",
    "        sum=sum+(rem*rem*rem)\n",
    "    if(sum==i):\n",
    "        l.append(i)\n",
    "print(l)"
   ]
  },
  {
   "cell_type": "code",
   "execution_count": 48,
   "metadata": {},
   "outputs": [
    {
     "name": "stdout",
     "output_type": "stream",
     "text": [
      "55.0\n"
     ]
    }
   ],
   "source": [
    "#6\n",
    "n=10\n",
    "sumOfNaturalNo=(n*(n+1))/2\n",
    "print(sumOfNaturalNo)"
   ]
  },
  {
   "cell_type": "code",
   "execution_count": null,
   "metadata": {},
   "outputs": [],
   "source": []
  }
 ],
 "metadata": {
  "kernelspec": {
   "display_name": "Python 3",
   "language": "python",
   "name": "python3"
  },
  "language_info": {
   "codemirror_mode": {
    "name": "ipython",
    "version": 3
   },
   "file_extension": ".py",
   "mimetype": "text/x-python",
   "name": "python",
   "nbconvert_exporter": "python",
   "pygments_lexer": "ipython3",
   "version": "3.8.5"
  }
 },
 "nbformat": 4,
 "nbformat_minor": 4
}
