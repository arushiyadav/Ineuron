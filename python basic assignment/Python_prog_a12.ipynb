{
 "cells": [
  {
   "cell_type": "code",
   "execution_count": 4,
   "metadata": {},
   "outputs": [
    {
     "data": {
      "text/plain": [
       "{'Arushi', 'data', 'science'}"
      ]
     },
     "execution_count": 4,
     "metadata": {},
     "output_type": "execute_result"
    }
   ],
   "source": [
    "#1\n",
    "dic={1:\"Arushi\",2:\"Arushi\",3:\"data\",4:\"science\",5:\"Arushi\"}\n",
    "s=set(dic.values())\n",
    "s"
   ]
  },
  {
   "cell_type": "code",
   "execution_count": 9,
   "metadata": {},
   "outputs": [
    {
     "name": "stdout",
     "output_type": "stream",
     "text": [
      "3569\n"
     ]
    }
   ],
   "source": [
    "#2\n",
    "dic={1:23,2:3423,3:123}\n",
    "s=0\n",
    "for i in dic.values():\n",
    "    s+=i\n",
    "print(s)\n"
   ]
  },
  {
   "cell_type": "code",
   "execution_count": 13,
   "metadata": {},
   "outputs": [
    {
     "name": "stdout",
     "output_type": "stream",
     "text": [
      "{'firstName': 'Arushi', 'lastName': 'Yadav', 'age': 23, 'mob': 999, 'add': 'ABC'}\n"
     ]
    }
   ],
   "source": [
    "#3\n",
    "dic1={\"firstName\":\"Arushi\",\"lastName\":\"Yadav\"}\n",
    "dic2={\"age\":23,\"mob\":999,\"add\":\"ABC\"}\n",
    "for i in dic2:\n",
    "    dic1[i]=dic2[i]\n",
    "print(dic1)\n",
    "\n",
    "\n"
   ]
  },
  {
   "cell_type": "code",
   "execution_count": 19,
   "metadata": {},
   "outputs": [
    {
     "name": "stdout",
     "output_type": "stream",
     "text": [
      "{'firstName': 'Arushi', 'lastName': 'Yadav', 'age': 23, 'mob': 999, 'add': 'ABC'}\n"
     ]
    }
   ],
   "source": [
    "#4\n",
    "l=['firstName' ,'Arushi', 'lastName', 'Yadav', 'age', 23, 'mob',999, 'add', 'ABC']\n",
    "dic={}\n",
    "for i in range(0,len(l)-1,2):\n",
    "    dic[l[i]]=l[i+1]\n",
    "print(dic)"
   ]
  },
  {
   "cell_type": "code",
   "execution_count": 26,
   "metadata": {},
   "outputs": [
    {
     "name": "stdout",
     "output_type": "stream",
     "text": [
      "OrderedDict([(0, 'First'), (1, 'Arushi'), (2, 'data'), (3, 'science')])\n"
     ]
    }
   ],
   "source": [
    "#5\n",
    "from collections import OrderedDict\n",
    "dic=OrderedDict({1:\"Arushi\",2:\"data\",3:\"science\"})\n",
    "temp=dic.copy()\n",
    "dic.clear()\n",
    "dic[0]=\"First\"\n",
    "for i in temp.keys():\n",
    "    dic[i]=temp[i]\n",
    "print(dic)\n"
   ]
  },
  {
   "cell_type": "code",
   "execution_count": 59,
   "metadata": {},
   "outputs": [
    {
     "name": "stdout",
     "output_type": "stream",
     "text": [
      "ordered\n"
     ]
    }
   ],
   "source": [
    "#6\n",
    "from collections import OrderedDict\n",
    "s=\"gadbecf\"\n",
    "pattern=\"abc\"\n",
    "flag=False\n",
    "ind = 0\n",
    "dic=OrderedDict.fromkeys(s)\n",
    "for key,value in dic.items(): \n",
    "        if (key == pattern[ind]): \n",
    "            ind = ind + 1\n",
    "        if (ind == (len(pattern))): \n",
    "            flag=True\n",
    "            break\n",
    "\n",
    "if(flag==False):\n",
    "    print(\"unordered\")\n",
    "else:\n",
    "    print(\"ordered\")\n",
    "\n",
    "    \n",
    "\n"
   ]
  },
  {
   "cell_type": "code",
   "execution_count": 91,
   "metadata": {},
   "outputs": [
    {
     "name": "stdout",
     "output_type": "stream",
     "text": [
      "[0, 1, 2, 3, 6]\n",
      "['ada', 'dvdsv', 'fdfmle', 'fvef', 'sd']\n",
      "{0: 'fvef', 1: 'sd', 2: 'ada', 3: 'fdfmle', 6: 'dvdsv'}\n",
      "{2: 'ada', 6: 'dvdsv', 3: 'fdfmle', 0: 'fvef', 1: 'sd'}\n"
     ]
    }
   ],
   "source": [
    "#7\n",
    "dic={1:\"sd\",3:\"fdfmle\",2:\"ada\",6:\"dvdsv\",0:\"fvef\"}\n",
    "values=sorted(list(dic.values()))\n",
    "keys=sorted(list(dic.keys()))\n",
    "sorted_by_key={}\n",
    "sorted_by_values={}\n",
    "for i in range(len(keys)):\n",
    "    sorted_by_key[keys[i]]=dic[keys[i]]\n",
    "for j in range(len(values)):\n",
    "    for k,v in dic.items():\n",
    "        if(v==values[j]):\n",
    "            key=k\n",
    "            break\n",
    "    sorted_by_values[k]=values[j]\n",
    "print(sorted_by_key)\n",
    "print(sorted_by_values)"
   ]
  },
  {
   "cell_type": "code",
   "execution_count": null,
   "metadata": {},
   "outputs": [],
   "source": []
  }
 ],
 "metadata": {
  "kernelspec": {
   "display_name": "Python 3",
   "language": "python",
   "name": "python3"
  },
  "language_info": {
   "codemirror_mode": {
    "name": "ipython",
    "version": 3
   },
   "file_extension": ".py",
   "mimetype": "text/x-python",
   "name": "python",
   "nbconvert_exporter": "python",
   "pygments_lexer": "ipython3",
   "version": "3.8.5"
  }
 },
 "nbformat": 4,
 "nbformat_minor": 4
}
