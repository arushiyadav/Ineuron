{
 "cells": [
  {
   "cell_type": "code",
   "execution_count": 3,
   "metadata": {},
   "outputs": [
    {
     "name": "stdout",
     "output_type": "stream",
     "text": [
      "0\n",
      "7\n",
      "14\n",
      "21\n",
      "28\n"
     ]
    }
   ],
   "source": [
    "#1\n",
    "class Generator:\n",
    "    def __init__(self,n):\n",
    "        self.n=n\n",
    "    def rangeFunc(self):\n",
    "        for i in range(self.n):\n",
    "            if(i%7==0):\n",
    "                print (i)\n",
    "                \n",
    "g=Generator(30)\n",
    "g.rangeFunc()\n",
    "        "
   ]
  },
  {
   "cell_type": "code",
   "execution_count": 14,
   "metadata": {},
   "outputs": [
    {
     "name": "stdout",
     "output_type": "stream",
     "text": [
      "2:2\n",
      "3.:1\n",
      "3?:1\n",
      "New:1\n",
      "Python:5\n",
      "Read:1\n",
      "and:1\n",
      "between:1\n",
      "choosing:1\n",
      "or:2\n",
      "to:1\n"
     ]
    }
   ],
   "source": [
    "#2\n",
    "s=\"New to Python or choosing between Python 2 and Python 3? Read Python 2 or Python 3.\"\n",
    "l=sorted(s.split())\n",
    "l1=[]\n",
    "for i in l:\n",
    "    count=l.count(i)\n",
    "    if(i not in l1):\n",
    "        l1.append(i)\n",
    "        print(str(i)+\":\"+str(count))\n"
   ]
  },
  {
   "cell_type": "code",
   "execution_count": 17,
   "metadata": {},
   "outputs": [
    {
     "name": "stdout",
     "output_type": "stream",
     "text": [
      "Male\n",
      "Female\n"
     ]
    }
   ],
   "source": [
    "#3\n",
    "class Person:\n",
    "    def __init__(self,gender):\n",
    "        self.gender=gender\n",
    "    def getGender(self):\n",
    "        print(self.gender)\n",
    "male=Person(\"Male\")\n",
    "female=Person(\"Female\")\n",
    "male.getGender()\n",
    "female.getGender()"
   ]
  },
  {
   "cell_type": "code",
   "execution_count": 23,
   "metadata": {},
   "outputs": [
    {
     "name": "stdout",
     "output_type": "stream",
     "text": [
      "I Play Hockey\n",
      "I Play Football\n",
      "I Love Hockey\n",
      "I Love Football\n",
      "You Play Hockey\n",
      "You Play Football\n",
      "You Love Hockey\n",
      "You Love Football\n"
     ]
    }
   ],
   "source": [
    "#4\n",
    "subject=[\"I\",\"You\"]\n",
    "verb=[\"Play\",\"Love\"]\n",
    "objects=[\"Hockey\",\"Football\"]\n",
    "for i in range(len(subject)):\n",
    "    for j in range(len(verb)):\n",
    "        for k in range(len(objects)):\n",
    "            print(subject[i]+\" \"+verb[j]+\" \"+objects[k])"
   ]
  },
  {
   "cell_type": "code",
   "execution_count": 29,
   "metadata": {},
   "outputs": [
    {
     "name": "stdout",
     "output_type": "stream",
     "text": [
      "Compressed:  b'x\\x9c\\xcbH\\xcd\\xc9\\xc9W(\\xcf/\\xcaIQ\\xcc \\x82\\r\\x00\\xbd[\\x11\\xf5'\n",
      "Decompressed:  b'hello world!hello world!hello world!hello world!'\n"
     ]
    }
   ],
   "source": [
    "#5\n",
    "import zlib\n",
    "text=\"hello world!hello world!hello world!hello world!\"\n",
    "comp=zlib.compress(bytes(text,\"utf-8\"))\n",
    "print(\"Compressed: \", comp)\n",
    "decomp=zlib.decompress(comp)\n",
    "print(\"Decompressed: \", decomp)"
   ]
  },
  {
   "cell_type": "code",
   "execution_count": 63,
   "metadata": {},
   "outputs": [
    {
     "name": "stdout",
     "output_type": "stream",
     "text": [
      "[1, 2, 3, 4, 5, 6, 12, 21, 34, 41, 46, 57, 65, 325, 6568, 7345, 7766]\n"
     ]
    },
    {
     "data": {
      "text/plain": [
       "0"
      ]
     },
     "execution_count": 63,
     "metadata": {},
     "output_type": "execute_result"
    }
   ],
   "source": [
    "#6\n",
    "import math\n",
    "l=[1,3,325,4,2,41,12,21,46,7766,6,5,65,6568,7345,34,57]\n",
    "l=sorted(l)\n",
    "temp=l.copy()\n",
    "print(l)\n",
    "element=1\n",
    "def binarySearch(l,element):\n",
    "\n",
    "    for i in range(len(l)):\n",
    "        mid=l[math.floor(len(l)/2)]\n",
    "        if(mid==element):\n",
    "            return temp.index(mid)\n",
    "        if(element<mid):\n",
    "            l=l[:math.floor(len(l)/2)]\n",
    "            binarySearch(l,element)\n",
    "            \n",
    "        else:\n",
    "            l=l[math.floor(len(l)/2):]\n",
    "            binarySearch(l,element)\n",
    "binarySearch(l,element)\n"
   ]
  },
  {
   "cell_type": "code",
   "execution_count": null,
   "metadata": {},
   "outputs": [],
   "source": []
  }
 ],
 "metadata": {
  "kernelspec": {
   "display_name": "Python 3",
   "language": "python",
   "name": "python3"
  },
  "language_info": {
   "codemirror_mode": {
    "name": "ipython",
    "version": 3
   },
   "file_extension": ".py",
   "mimetype": "text/x-python",
   "name": "python",
   "nbconvert_exporter": "python",
   "pygments_lexer": "ipython3",
   "version": "3.8.5"
  }
 },
 "nbformat": 4,
 "nbformat_minor": 4
}
