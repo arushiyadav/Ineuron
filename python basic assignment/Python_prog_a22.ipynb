{
 "cells": [
  {
   "cell_type": "code",
   "execution_count": 2,
   "metadata": {},
   "outputs": [
    {
     "data": {
      "text/plain": [
       "[]"
      ]
     },
     "execution_count": 2,
     "metadata": {},
     "output_type": "execute_result"
    }
   ],
   "source": [
    "#1\n",
    "def list_operation(fro,to,div):\n",
    "    l=[]\n",
    "    for i in range(fro,to):\n",
    "        if(i%div==0):\n",
    "            l.append(i)\n",
    "    return l\n",
    "list_operation(15, 20, 7)"
   ]
  },
  {
   "cell_type": "code",
   "execution_count": 5,
   "metadata": {},
   "outputs": [
    {
     "data": {
      "text/plain": [
       "False"
      ]
     },
     "execution_count": 5,
     "metadata": {},
     "output_type": "execute_result"
    }
   ],
   "source": [
    "#2\n",
    "def simon_says(l1,l2):\n",
    "    if(l2[1]==l1[0]):\n",
    "        return True\n",
    "    else:\n",
    "        return False\n",
    "simon_says([1, 2], [5, 5])"
   ]
  },
  {
   "cell_type": "code",
   "execution_count": 8,
   "metadata": {},
   "outputs": [
    {
     "data": {
      "text/plain": [
       "'CHLN'"
      ]
     },
     "execution_count": 8,
     "metadata": {},
     "output_type": "execute_result"
    }
   ],
   "source": [
    "#3\n",
    "def society_name(l):\n",
    "    s=\"\"\n",
    "    o=\"\"\n",
    "    for i in l:\n",
    "       s+=i[0]\n",
    "    s.upper()\n",
    "    l1=sorted(s)\n",
    "    for j in l1:\n",
    "        o+=j\n",
    "    return o\n",
    "society_name([\"Harry\", \"Newt\", \"Luna\", \"Cho\"])"
   ]
  },
  {
   "cell_type": "code",
   "execution_count": 14,
   "metadata": {},
   "outputs": [
    {
     "data": {
      "text/plain": [
       "True"
      ]
     },
     "execution_count": 14,
     "metadata": {},
     "output_type": "execute_result"
    }
   ],
   "source": [
    "#4\n",
    "def is_isogram(s):\n",
    "    s=s.lower()\n",
    "    flag=True\n",
    "    for i in s:\n",
    "        count=s.count(i)\n",
    "        if(count>1):\n",
    "            flag=False\n",
    "    return flag\n",
    "is_isogram(\"Algorism\")\n",
    "    "
   ]
  },
  {
   "cell_type": "code",
   "execution_count": 15,
   "metadata": {},
   "outputs": [
    {
     "data": {
      "text/plain": [
       "True"
      ]
     },
     "execution_count": 15,
     "metadata": {},
     "output_type": "execute_result"
    }
   ],
   "source": [
    "#5\n",
    "def is_in_order(s):\n",
    "    l=sorted(s)\n",
    "    o=\"\"\n",
    "    for i in l:\n",
    "       o+=i\n",
    "    if(o==s):\n",
    "        return True\n",
    "    else:\n",
    "        return False\n",
    "is_in_order(\"xyzz\")\n",
    "    "
   ]
  },
  {
   "cell_type": "code",
   "execution_count": null,
   "metadata": {},
   "outputs": [],
   "source": []
  }
 ],
 "metadata": {
  "kernelspec": {
   "display_name": "Python 3",
   "language": "python",
   "name": "python3"
  },
  "language_info": {
   "codemirror_mode": {
    "name": "ipython",
    "version": 3
   },
   "file_extension": ".py",
   "mimetype": "text/x-python",
   "name": "python",
   "nbconvert_exporter": "python",
   "pygments_lexer": "ipython3",
   "version": "3.8.5"
  }
 },
 "nbformat": 4,
 "nbformat_minor": 4
}
